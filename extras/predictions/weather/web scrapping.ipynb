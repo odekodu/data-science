{
 "cells": [
  {
   "cell_type": "code",
   "execution_count": 2,
   "metadata": {},
   "outputs": [],
   "source": [
    "import requests\n",
    "from bs4 import BeautifulSoup\n",
    "import pandas as pd\n",
    "from io import StringIO\n",
    "import datetime\n",
    "import random\n",
    "from selenium import webdriver\n",
    "import time\n"
   ]
  },
  {
   "cell_type": "code",
   "execution_count": 13,
   "metadata": {},
   "outputs": [],
   "source": [
    "base_url = 'https://www.worldweatheronline.com/ikorodu-weather-history/lagos/ng.aspx'\n",
    "date = datetime.datetime(2024, 8, 31)\n",
    "weather_df = pd.DataFrame()"
   ]
  },
  {
   "cell_type": "code",
   "execution_count": 16,
   "metadata": {},
   "outputs": [],
   "source": [
    "def get_next_date(date=date, days = 1) :\n",
    "    offset = datetime.timedelta(days=days)\n",
    "    return date - offset"
   ]
  },
  {
   "cell_type": "code",
   "execution_count": 26,
   "metadata": {},
   "outputs": [],
   "source": [
    "driver = webdriver.Chrome()\n",
    "driver.get(base_url)"
   ]
  },
  {
   "cell_type": "code",
   "execution_count": 8,
   "metadata": {},
   "outputs": [],
   "source": [
    "def get_data():\n",
    "    html = driver.page_source\n",
    "    df_list = pd.read_html(StringIO(html))\n",
    "\n",
    "    df =  df_list[0]\n",
    "    df.columns = df.iloc[0]\n",
    "\n",
    "    time = df['Time'].str[:2]\n",
    "    temperature = df['Time'].str[5:]\n",
    "\n",
    "    df['Time'] = time\n",
    "    df['Temperature'] = temperature\n",
    "\n",
    "    df = df[['Time', 'Temperature', 'Forecast', 'Rain', 'Rain %', 'Cloud', 'Pressure', 'Wind', 'Gust']][2:].reset_index(drop=True)\n",
    "\n",
    "    soup = BeautifulSoup(html)\n",
    "    table = soup.select('table.days-details-table')[0]\n",
    "\n",
    "    arrows = table.select('svg.days-arrow-white')\n",
    "    \n",
    "    directions = [r.attrs['style'] for r in arrows]\n",
    "    df['Direction (deg)'] = directions\n",
    "    df.rename(columns={'Time': 'Time (hr)', 'Temperature': 'Temperature (°c)', 'Forecast': 'Forecast (°c)', 'Rain': 'Rain (mm)', 'Rain %': 'Rain (%)', 'Cloud': 'Cloud (%)', 'Pressure': 'Pressure (mb)', 'Wind': 'Wind (km/h)', 'Gust': 'Gust (km/h)'}, inplace=True)\n",
    "\n",
    "    day_information_div = soup.select('div.days-inform')[0]\n",
    "    info = day_information_div.select('span')\n",
    "    extra_information = []\n",
    "\n",
    "    for i in info:\n",
    "        time_text = i.text.replace('AM', '').replace('PM', '')\n",
    "        # time_text = \n",
    "        # hours, minutes = map(int, time_text.split(\":\"))\n",
    "        # hours = hours if i.text.count('AM') else hours + 12\n",
    "        # minutes = (hours * 60) + minutes\n",
    "\n",
    "        extra_information.append(time_text)\n",
    "\n",
    "    df['Moonrise (hr)'] = extra_information[0]\n",
    "    df['Moonset (hr)'] = extra_information[1]\n",
    "    df['Sunrise (hr)'] = extra_information[2]\n",
    "    df['Sunset (hr)'] = extra_information[3]\n",
    "\n",
    "\n",
    "    # df['Time (hr)'] = df['Time (hr)'].astype(int)\n",
    "    # df['Temperature (°c)'] = df['Temperature (°c)'].str.replace(' °c', '').astype(int)\n",
    "    # df['Forecast (°c)'] = df['Forecast (°c)'].str.replace(' °c', '').astype(int)\n",
    "    # df['Rain (mm)'] = df['Rain (mm)'].str.replace(' mm', '').astype(float)\n",
    "    # df['Rain (%)'] = df['Rain (%)'].str.replace('%', '').astype(float)\n",
    "    # df['Cloud (%)'] = df['Cloud (%)'].str.replace('%', '').astype(float)\n",
    "    # df['Pressure (mb)'] = df['Pressure (mb)'].str.replace(' mb', '').astype(float)\n",
    "    # df['Wind (km/h)'] = df['Wind (km/h)'].str.replace(' km/h', '').astype(float)\n",
    "    # df['Gust (km/h)'] = df['Gust (km/h)'].str.replace(' km/h', '').astype(float)\n",
    "\n",
    "    return df"
   ]
  },
  {
   "cell_type": "code",
   "execution_count": 7,
   "metadata": {},
   "outputs": [],
   "source": [
    "def search(date = get_next_date().strftime(\"%d-%m-%Y\")) :\n",
    "    timeout = random.randint(5, 10)    \n",
    "    dateInput = driver.find_element('xpath', '//input[@type=\"date\"]')\n",
    "    dateInput.send_keys(date)\n",
    "\n",
    "    button = driver.find_element('xpath', '//input[@type=\"submit\"]')\n",
    "    button.click()\n",
    "\n",
    "    time.sleep(timeout)\n",
    "    df = get_data()\n",
    "    df['Date'] = date\n",
    "\n",
    "    return df"
   ]
  },
  {
   "cell_type": "code",
   "execution_count": null,
   "metadata": {},
   "outputs": [],
   "source": [
    "flag = True\n",
    "\n",
    "while flag:\n",
    "    current_date = date.strftime(\"%d-%m-%Y\")\n",
    "    try:\n",
    "        df = search(current_date)\n",
    "    except ValueError:\n",
    "        time.sleep(30)\n",
    "    except TimeoutError:\n",
    "        time.sleep(30)\n",
    "\n",
    "    weather_df = pd.concat([weather_df, df], ignore_index=True)\n",
    "    date = get_next_date(date)\n",
    "    l = len(weather_df)\n",
    "    flag = l/8 != 1000\n",
    "    print(l)\n",
    "\n",
    "weather_df\n"
   ]
  },
  {
   "cell_type": "code",
   "execution_count": 29,
   "metadata": {},
   "outputs": [],
   "source": [
    "weather_df.to_csv('weather.csv')"
   ]
  },
  {
   "cell_type": "code",
   "execution_count": null,
   "metadata": {},
   "outputs": [],
   "source": []
  }
 ],
 "metadata": {
  "kernelspec": {
   "display_name": "Python 3",
   "language": "python",
   "name": "python3"
  },
  "language_info": {
   "codemirror_mode": {
    "name": "ipython",
    "version": 3
   },
   "file_extension": ".py",
   "mimetype": "text/x-python",
   "name": "python",
   "nbconvert_exporter": "python",
   "pygments_lexer": "ipython3",
   "version": "3.10.12"
  }
 },
 "nbformat": 4,
 "nbformat_minor": 2
}
