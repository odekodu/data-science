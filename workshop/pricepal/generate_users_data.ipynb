{
 "cells": [
  {
   "cell_type": "code",
   "execution_count": 1,
   "metadata": {},
   "outputs": [],
   "source": [
    "import pandas as pd\n",
    "import numpy as np\n",
    "import random\n",
    "import os\n",
    "import importlib"
   ]
  },
  {
   "cell_type": "code",
   "execution_count": 2,
   "metadata": {},
   "outputs": [],
   "source": [
    "# Specify the path to the module\n",
    "module_path = os.path.abspath(\"../../utils/dataset.py\")\n",
    "\n",
    "# Load the module\n",
    "spec = importlib.util.spec_from_file_location(\"dataset\", module_path)\n",
    "dataset = importlib.util.module_from_spec(spec)\n",
    "spec.loader.exec_module(dataset)"
   ]
  },
  {
   "cell_type": "code",
   "execution_count": 3,
   "metadata": {},
   "outputs": [
    {
     "data": {
      "text/html": [
       "<div>\n",
       "<style scoped>\n",
       "    .dataframe tbody tr th:only-of-type {\n",
       "        vertical-align: middle;\n",
       "    }\n",
       "\n",
       "    .dataframe tbody tr th {\n",
       "        vertical-align: top;\n",
       "    }\n",
       "\n",
       "    .dataframe thead th {\n",
       "        text-align: right;\n",
       "    }\n",
       "</style>\n",
       "<table border=\"1\" class=\"dataframe\">\n",
       "  <thead>\n",
       "    <tr style=\"text-align: right;\">\n",
       "      <th></th>\n",
       "      <th>Updated At</th>\n",
       "      <th>Item Name</th>\n",
       "      <th>Category</th>\n",
       "      <th>Unit</th>\n",
       "      <th>Price (₦)</th>\n",
       "      <th>Vendor Name</th>\n",
       "      <th>Vendor Id</th>\n",
       "      <th>Vendor Location</th>\n",
       "      <th>Vendor Rating</th>\n",
       "      <th>Vendor Delivery</th>\n",
       "      <th>Stock</th>\n",
       "      <th>Discount</th>\n",
       "      <th>Promotion</th>\n",
       "      <th>In Stock</th>\n",
       "      <th>Id</th>\n",
       "    </tr>\n",
       "  </thead>\n",
       "  <tbody>\n",
       "    <tr>\n",
       "      <th>0</th>\n",
       "      <td>2022-05-24 22:23:49.757753504</td>\n",
       "      <td>Crackers</td>\n",
       "      <td>Beverages</td>\n",
       "      <td>1kg</td>\n",
       "      <td>74904</td>\n",
       "      <td>Vendor 1</td>\n",
       "      <td>1</td>\n",
       "      <td>Lekki, Lagos</td>\n",
       "      <td>2</td>\n",
       "      <td>True</td>\n",
       "      <td>323</td>\n",
       "      <td>40</td>\n",
       "      <td>4.324381</td>\n",
       "      <td>False</td>\n",
       "      <td>0</td>\n",
       "    </tr>\n",
       "    <tr>\n",
       "      <th>1</th>\n",
       "      <td>2022-06-22 21:41:11.856453364</td>\n",
       "      <td>Sunflower Oil</td>\n",
       "      <td>Dairy</td>\n",
       "      <td>50kg bag</td>\n",
       "      <td>67944</td>\n",
       "      <td>Vendor 1</td>\n",
       "      <td>1</td>\n",
       "      <td>Lekki, Lagos</td>\n",
       "      <td>2</td>\n",
       "      <td>True</td>\n",
       "      <td>323</td>\n",
       "      <td>40</td>\n",
       "      <td>11.734182</td>\n",
       "      <td>False</td>\n",
       "      <td>1</td>\n",
       "    </tr>\n",
       "    <tr>\n",
       "      <th>2</th>\n",
       "      <td>2022-06-07 21:17:50.198369628</td>\n",
       "      <td>Milk Powder</td>\n",
       "      <td>Cooking Oils</td>\n",
       "      <td>400g can</td>\n",
       "      <td>96708</td>\n",
       "      <td>Vendor 1</td>\n",
       "      <td>1</td>\n",
       "      <td>Lekki, Lagos</td>\n",
       "      <td>2</td>\n",
       "      <td>True</td>\n",
       "      <td>323</td>\n",
       "      <td>40</td>\n",
       "      <td>4.475715</td>\n",
       "      <td>False</td>\n",
       "      <td>2</td>\n",
       "    </tr>\n",
       "    <tr>\n",
       "      <th>3</th>\n",
       "      <td>2022-03-24 11:39:47.889984528</td>\n",
       "      <td>Fruit Bar</td>\n",
       "      <td>Staples</td>\n",
       "      <td>100 bags</td>\n",
       "      <td>5520</td>\n",
       "      <td>Vendor 1</td>\n",
       "      <td>1</td>\n",
       "      <td>Lekki, Lagos</td>\n",
       "      <td>2</td>\n",
       "      <td>True</td>\n",
       "      <td>323</td>\n",
       "      <td>40</td>\n",
       "      <td>5.292178</td>\n",
       "      <td>True</td>\n",
       "      <td>3</td>\n",
       "    </tr>\n",
       "    <tr>\n",
       "      <th>4</th>\n",
       "      <td>2022-01-05 21:32:01.169433988</td>\n",
       "      <td>Avocado Oil</td>\n",
       "      <td>Cooking Oils</td>\n",
       "      <td>100 bags</td>\n",
       "      <td>3900</td>\n",
       "      <td>Vendor 1</td>\n",
       "      <td>1</td>\n",
       "      <td>Lekki, Lagos</td>\n",
       "      <td>2</td>\n",
       "      <td>True</td>\n",
       "      <td>323</td>\n",
       "      <td>40</td>\n",
       "      <td>10.995408</td>\n",
       "      <td>True</td>\n",
       "      <td>4</td>\n",
       "    </tr>\n",
       "  </tbody>\n",
       "</table>\n",
       "</div>"
      ],
      "text/plain": [
       "                      Updated At      Item Name      Category      Unit  \\\n",
       "0  2022-05-24 22:23:49.757753504       Crackers     Beverages       1kg   \n",
       "1  2022-06-22 21:41:11.856453364  Sunflower Oil         Dairy  50kg bag   \n",
       "2  2022-06-07 21:17:50.198369628    Milk Powder  Cooking Oils  400g can   \n",
       "3  2022-03-24 11:39:47.889984528      Fruit Bar       Staples  100 bags   \n",
       "4  2022-01-05 21:32:01.169433988    Avocado Oil  Cooking Oils  100 bags   \n",
       "\n",
       "   Price (₦) Vendor Name  Vendor Id Vendor Location  Vendor Rating  \\\n",
       "0      74904    Vendor 1          1    Lekki, Lagos              2   \n",
       "1      67944    Vendor 1          1    Lekki, Lagos              2   \n",
       "2      96708    Vendor 1          1    Lekki, Lagos              2   \n",
       "3       5520    Vendor 1          1    Lekki, Lagos              2   \n",
       "4       3900    Vendor 1          1    Lekki, Lagos              2   \n",
       "\n",
       "   Vendor Delivery  Stock  Discount  Promotion  In Stock  Id  \n",
       "0             True    323        40   4.324381     False   0  \n",
       "1             True    323        40  11.734182     False   1  \n",
       "2             True    323        40   4.475715     False   2  \n",
       "3             True    323        40   5.292178      True   3  \n",
       "4             True    323        40  10.995408      True   4  "
      ]
     },
     "execution_count": 3,
     "metadata": {},
     "output_type": "execute_result"
    }
   ],
   "source": [
    "# load dataset for products\n",
    "\n",
    "product_df = pd.read_csv('../../data/synthetic/food_items.csv')\n",
    "product_df.head()"
   ]
  },
  {
   "cell_type": "code",
   "execution_count": 4,
   "metadata": {},
   "outputs": [],
   "source": [
    "product_category_groups = product_df.groupby('Category')"
   ]
  },
  {
   "cell_type": "code",
   "execution_count": 5,
   "metadata": {},
   "outputs": [],
   "source": [
    "product_df['Discount Rank'] = product_df['Discount'].rank(pct=True)"
   ]
  },
  {
   "cell_type": "code",
   "execution_count": 6,
   "metadata": {},
   "outputs": [],
   "source": [
    "product_df['Discount Rank'] = product_df['Discount'].rank(pct=True)"
   ]
  },
  {
   "cell_type": "code",
   "execution_count": 7,
   "metadata": {},
   "outputs": [],
   "source": [
    "# Generate users data\n",
    "users_data = []\n",
    "\n",
    "locations = [\n",
    "    \"Ikeja, Lagos\", \"Surulere, Lagos\", \"Yaba, Lagos\", \"Lekki, Lagos\", \"Ajah, Lagos\", \n",
    "    \"Abuja\", \"Port Harcourt\", \"Benin City\", \"Kano\", \"Ogun State\", \n",
    "    \"Ibadan\", \"Kaduna\", \"Asaba\", \"Onitsha\", \"Owerri\", \n",
    "    \"Enugu\", \"Makurdi\", \"Abeokuta\", \"Calabar\", \"Jos\"\n",
    "]\n",
    "\n",
    "product_list = product_df[\"Id\"].tolist()\n",
    "vendor_list = product_df[\"Vendor Id\"].unique().tolist()\n",
    "\n",
    "cheap_products = product_df['Discount'].quantile()\n",
    "\n",
    "for i in range(1, 101):\n",
    "    vendor = {\n",
    "        \"User Name\": f\"User {i}\",\n",
    "        \"Id\": i,\n",
    "        \"Age\": random.randint(18, 65),\n",
    "        \"User Location\": random.choice(locations),\n",
    "        \"Saved Products\": random.sample(product_list, random.randint(0, 1000)),\n",
    "        \"Saved Vendors\": random.sample(vendor_list, random.randint(0, len(vendor_list))),\n",
    "        \"Searched Products\": random.sample(product_list, random.randint(0, 1000)),\n",
    "        \"Searched Vendors\": random.sample(vendor_list, random.randint(0, len(vendor_list))),\n",
    "        \"Proximity (KM)\": random.randint(10, 100),\n",
    "    }\n",
    "\n",
    "    users_data.append(vendor)"
   ]
  },
  {
   "cell_type": "code",
   "execution_count": 8,
   "metadata": {},
   "outputs": [],
   "source": [
    "def get_product_quality(id):\n",
    "    product = product_df[product_df['Id'] == id].reset_index().iloc[0].to_dict()\n",
    "    category_discounts = product_category_groups.get_group(product.get('Category'))['Discount']\n",
    "    below = category_discounts\n",
    "    print(category_discounts.quantile(.2))\n",
    "    \n",
    "    return product"
   ]
  },
  {
   "cell_type": "code",
   "execution_count": 9,
   "metadata": {},
   "outputs": [
    {
     "name": "stdout",
     "output_type": "stream",
     "text": [
      "8.0\n"
     ]
    },
    {
     "data": {
      "text/plain": [
       "{'index': 1,\n",
       " 'Updated At': '2022-06-22 21:41:11.856453364',\n",
       " 'Item Name': 'Sunflower Oil',\n",
       " 'Category': 'Dairy',\n",
       " 'Unit': '50kg bag',\n",
       " 'Price (₦)': 67944,\n",
       " 'Vendor Name': 'Vendor 1',\n",
       " 'Vendor Id': 1,\n",
       " 'Vendor Location': 'Lekki, Lagos',\n",
       " 'Vendor Rating': 2,\n",
       " 'Vendor Delivery': True,\n",
       " 'Stock': 323,\n",
       " 'Discount': 40,\n",
       " 'Promotion': 11.73418177347797,\n",
       " 'In Stock': False,\n",
       " 'Id': 1,\n",
       " 'Discount Rank': 0.8014767859410902}"
      ]
     },
     "execution_count": 9,
     "metadata": {},
     "output_type": "execute_result"
    }
   ],
   "source": [
    "get_product_quality(1)"
   ]
  },
  {
   "cell_type": "code",
   "execution_count": 10,
   "metadata": {},
   "outputs": [
    {
     "data": {
      "text/html": [
       "<div>\n",
       "<style scoped>\n",
       "    .dataframe tbody tr th:only-of-type {\n",
       "        vertical-align: middle;\n",
       "    }\n",
       "\n",
       "    .dataframe tbody tr th {\n",
       "        vertical-align: top;\n",
       "    }\n",
       "\n",
       "    .dataframe thead th {\n",
       "        text-align: right;\n",
       "    }\n",
       "</style>\n",
       "<table border=\"1\" class=\"dataframe\">\n",
       "  <thead>\n",
       "    <tr style=\"text-align: right;\">\n",
       "      <th></th>\n",
       "      <th>User Name</th>\n",
       "      <th>Id</th>\n",
       "      <th>Age</th>\n",
       "      <th>User Location</th>\n",
       "      <th>Saved Products</th>\n",
       "      <th>Saved Vendors</th>\n",
       "      <th>Searched Products</th>\n",
       "      <th>Searched Vendors</th>\n",
       "      <th>Proximity (KM)</th>\n",
       "    </tr>\n",
       "  </thead>\n",
       "  <tbody>\n",
       "    <tr>\n",
       "      <th>0</th>\n",
       "      <td>User 1</td>\n",
       "      <td>1</td>\n",
       "      <td>34</td>\n",
       "      <td>Benin City</td>\n",
       "      <td>[28981, 7151, 31154, 66007, 3595, 72988, 3092,...</td>\n",
       "      <td>[68, 97, 52, 91, 38, 83, 62, 66, 43, 76, 35, 7...</td>\n",
       "      <td>[55531, 80325, 86481, 82261, 43551, 86271, 351...</td>\n",
       "      <td>[85, 78, 50, 81, 37, 42, 57, 59, 65, 51, 66, 4]</td>\n",
       "      <td>63</td>\n",
       "    </tr>\n",
       "    <tr>\n",
       "      <th>1</th>\n",
       "      <td>User 2</td>\n",
       "      <td>2</td>\n",
       "      <td>32</td>\n",
       "      <td>Abeokuta</td>\n",
       "      <td>[1420, 69858, 30627, 589, 55436, 69085, 78572,...</td>\n",
       "      <td>[4, 33, 72, 3, 45, 62, 7, 29, 27]</td>\n",
       "      <td>[16538, 35820, 3299, 55503, 44904, 31035, 6228...</td>\n",
       "      <td>[24, 90, 65]</td>\n",
       "      <td>71</td>\n",
       "    </tr>\n",
       "    <tr>\n",
       "      <th>2</th>\n",
       "      <td>User 3</td>\n",
       "      <td>3</td>\n",
       "      <td>20</td>\n",
       "      <td>Makurdi</td>\n",
       "      <td>[36847, 49440, 6928, 51990, 59417, 67975, 7713...</td>\n",
       "      <td>[73, 87, 33, 61, 100, 54, 58, 21, 2, 30, 88, 8...</td>\n",
       "      <td>[44491, 70472, 46283, 39063, 44602, 19966, 556...</td>\n",
       "      <td>[64, 46, 10, 18, 4, 15, 5, 61, 48, 11, 86, 55,...</td>\n",
       "      <td>44</td>\n",
       "    </tr>\n",
       "    <tr>\n",
       "      <th>3</th>\n",
       "      <td>User 4</td>\n",
       "      <td>4</td>\n",
       "      <td>64</td>\n",
       "      <td>Surulere, Lagos</td>\n",
       "      <td>[42788, 80612, 71204, 59605, 85062, 56999, 467...</td>\n",
       "      <td>[52, 43, 33, 63, 24, 50, 61, 99, 74, 100, 48, ...</td>\n",
       "      <td>[13377, 73798, 44572, 42898, 20318, 8045, 3903...</td>\n",
       "      <td>[30, 90, 83, 1, 76, 39, 15, 7, 59, 89, 34, 48,...</td>\n",
       "      <td>65</td>\n",
       "    </tr>\n",
       "    <tr>\n",
       "      <th>4</th>\n",
       "      <td>User 5</td>\n",
       "      <td>5</td>\n",
       "      <td>63</td>\n",
       "      <td>Owerri</td>\n",
       "      <td>[77934, 83001, 52070, 1106, 56838, 64654, 2686...</td>\n",
       "      <td>[100, 32, 57, 30, 52, 65, 73, 19, 58, 47, 95, ...</td>\n",
       "      <td>[9905, 21295, 19334, 34531, 29517, 82219, 3596...</td>\n",
       "      <td>[51, 98, 45, 65, 26, 93, 55, 90, 99, 96, 88, 5...</td>\n",
       "      <td>25</td>\n",
       "    </tr>\n",
       "  </tbody>\n",
       "</table>\n",
       "</div>"
      ],
      "text/plain": [
       "  User Name  Id  Age    User Location  \\\n",
       "0    User 1   1   34       Benin City   \n",
       "1    User 2   2   32         Abeokuta   \n",
       "2    User 3   3   20          Makurdi   \n",
       "3    User 4   4   64  Surulere, Lagos   \n",
       "4    User 5   5   63           Owerri   \n",
       "\n",
       "                                      Saved Products  \\\n",
       "0  [28981, 7151, 31154, 66007, 3595, 72988, 3092,...   \n",
       "1  [1420, 69858, 30627, 589, 55436, 69085, 78572,...   \n",
       "2  [36847, 49440, 6928, 51990, 59417, 67975, 7713...   \n",
       "3  [42788, 80612, 71204, 59605, 85062, 56999, 467...   \n",
       "4  [77934, 83001, 52070, 1106, 56838, 64654, 2686...   \n",
       "\n",
       "                                       Saved Vendors  \\\n",
       "0  [68, 97, 52, 91, 38, 83, 62, 66, 43, 76, 35, 7...   \n",
       "1                  [4, 33, 72, 3, 45, 62, 7, 29, 27]   \n",
       "2  [73, 87, 33, 61, 100, 54, 58, 21, 2, 30, 88, 8...   \n",
       "3  [52, 43, 33, 63, 24, 50, 61, 99, 74, 100, 48, ...   \n",
       "4  [100, 32, 57, 30, 52, 65, 73, 19, 58, 47, 95, ...   \n",
       "\n",
       "                                   Searched Products  \\\n",
       "0  [55531, 80325, 86481, 82261, 43551, 86271, 351...   \n",
       "1  [16538, 35820, 3299, 55503, 44904, 31035, 6228...   \n",
       "2  [44491, 70472, 46283, 39063, 44602, 19966, 556...   \n",
       "3  [13377, 73798, 44572, 42898, 20318, 8045, 3903...   \n",
       "4  [9905, 21295, 19334, 34531, 29517, 82219, 3596...   \n",
       "\n",
       "                                    Searched Vendors  Proximity (KM)  \n",
       "0    [85, 78, 50, 81, 37, 42, 57, 59, 65, 51, 66, 4]              63  \n",
       "1                                       [24, 90, 65]              71  \n",
       "2  [64, 46, 10, 18, 4, 15, 5, 61, 48, 11, 86, 55,...              44  \n",
       "3  [30, 90, 83, 1, 76, 39, 15, 7, 59, 89, 34, 48,...              65  \n",
       "4  [51, 98, 45, 65, 26, 93, 55, 90, 99, 96, 88, 5...              25  "
      ]
     },
     "execution_count": 10,
     "metadata": {},
     "output_type": "execute_result"
    }
   ],
   "source": [
    "users_df = pd.DataFrame(users_data)\n",
    "users_df.head()"
   ]
  },
  {
   "cell_type": "markdown",
   "metadata": {},
   "source": [
    "Budget\n",
    "Product Quality"
   ]
  },
  {
   "cell_type": "code",
   "execution_count": 11,
   "metadata": {},
   "outputs": [],
   "source": [
    "product_df['Category Codes'] = product_df['Category'].astype('category').cat.codes"
   ]
  },
  {
   "cell_type": "code",
   "execution_count": 12,
   "metadata": {},
   "outputs": [],
   "source": [
    "def get_category_codes(x):\n",
    "    return product_df[product_df['Id'].isin(x)]['Category Codes'].unique().tolist()"
   ]
  },
  {
   "cell_type": "code",
   "execution_count": 13,
   "metadata": {},
   "outputs": [],
   "source": [
    "users_df['Saved Categories'] = users_df['Saved Products'].map(get_category_codes)"
   ]
  },
  {
   "cell_type": "code",
   "execution_count": 14,
   "metadata": {},
   "outputs": [],
   "source": [
    "users_df['Searched Categories'] = users_df['Searched Products'].map(get_category_codes)"
   ]
  },
  {
   "cell_type": "code",
   "execution_count": 15,
   "metadata": {},
   "outputs": [],
   "source": [
    "users_df['Interesting Products'] = users_df['Searched Products'] + users_df['Saved Products']"
   ]
  },
  {
   "cell_type": "code",
   "execution_count": 16,
   "metadata": {},
   "outputs": [],
   "source": [
    "users_df['Interesting Vendors'] = users_df['Searched Vendors'] + users_df['Saved Vendors']"
   ]
  },
  {
   "cell_type": "code",
   "execution_count": 17,
   "metadata": {},
   "outputs": [],
   "source": [
    "users_df['Interesting Categories'] = users_df['Searched Categories'] + users_df['Saved Categories']"
   ]
  },
  {
   "cell_type": "code",
   "execution_count": 18,
   "metadata": {},
   "outputs": [],
   "source": [
    "def get_product_quality(x):\n",
    "    return 100 -product_df[product_df['Id'].isin(x)]['Discount'].mean()"
   ]
  },
  {
   "cell_type": "code",
   "execution_count": 19,
   "metadata": {},
   "outputs": [],
   "source": [
    "users_df['Product Qaulity'] = users_df['Interesting Products'].map(get_product_quality)"
   ]
  },
  {
   "cell_type": "code",
   "execution_count": 20,
   "metadata": {},
   "outputs": [
    {
     "data": {
      "text/html": [
       "<div>\n",
       "<style scoped>\n",
       "    .dataframe tbody tr th:only-of-type {\n",
       "        vertical-align: middle;\n",
       "    }\n",
       "\n",
       "    .dataframe tbody tr th {\n",
       "        vertical-align: top;\n",
       "    }\n",
       "\n",
       "    .dataframe thead th {\n",
       "        text-align: right;\n",
       "    }\n",
       "</style>\n",
       "<table border=\"1\" class=\"dataframe\">\n",
       "  <thead>\n",
       "    <tr style=\"text-align: right;\">\n",
       "      <th></th>\n",
       "      <th>User Name</th>\n",
       "      <th>Id</th>\n",
       "      <th>Age</th>\n",
       "      <th>User Location</th>\n",
       "      <th>Saved Products</th>\n",
       "      <th>Saved Vendors</th>\n",
       "      <th>Searched Products</th>\n",
       "      <th>Searched Vendors</th>\n",
       "      <th>Proximity (KM)</th>\n",
       "      <th>Saved Categories</th>\n",
       "      <th>Searched Categories</th>\n",
       "      <th>Interesting Products</th>\n",
       "      <th>Interesting Vendors</th>\n",
       "      <th>Interesting Categories</th>\n",
       "      <th>Product Qaulity</th>\n",
       "    </tr>\n",
       "  </thead>\n",
       "  <tbody>\n",
       "    <tr>\n",
       "      <th>0</th>\n",
       "      <td>User 1</td>\n",
       "      <td>1</td>\n",
       "      <td>34</td>\n",
       "      <td>Benin City</td>\n",
       "      <td>[28981, 7151, 31154, 66007, 3595, 72988, 3092,...</td>\n",
       "      <td>[68, 97, 52, 91, 38, 83, 62, 66, 43, 76, 35, 7...</td>\n",
       "      <td>[55531, 80325, 86481, 82261, 43551, 86271, 351...</td>\n",
       "      <td>[85, 78, 50, 81, 37, 42, 57, 59, 65, 51, 66, 4]</td>\n",
       "      <td>63</td>\n",
       "      <td>[4, 5, 1, 3, 8, 0, 2, 7, 6]</td>\n",
       "      <td>[2, 0, 1, 8, 4, 3, 7, 5, 6]</td>\n",
       "      <td>[55531, 80325, 86481, 82261, 43551, 86271, 351...</td>\n",
       "      <td>[85, 78, 50, 81, 37, 42, 57, 59, 65, 51, 66, 4...</td>\n",
       "      <td>[2, 0, 1, 8, 4, 3, 7, 5, 6, 4, 5, 1, 3, 8, 0, ...</td>\n",
       "      <td>75.446835</td>\n",
       "    </tr>\n",
       "    <tr>\n",
       "      <th>1</th>\n",
       "      <td>User 2</td>\n",
       "      <td>2</td>\n",
       "      <td>32</td>\n",
       "      <td>Abeokuta</td>\n",
       "      <td>[1420, 69858, 30627, 589, 55436, 69085, 78572,...</td>\n",
       "      <td>[4, 33, 72, 3, 45, 62, 7, 29, 27]</td>\n",
       "      <td>[16538, 35820, 3299, 55503, 44904, 31035, 6228...</td>\n",
       "      <td>[24, 90, 65]</td>\n",
       "      <td>71</td>\n",
       "      <td>[8, 0, 3, 2, 5, 4, 6, 7, 1]</td>\n",
       "      <td>[7, 4, 1, 0, 2, 8, 6, 3, 5]</td>\n",
       "      <td>[16538, 35820, 3299, 55503, 44904, 31035, 6228...</td>\n",
       "      <td>[24, 90, 65, 4, 33, 72, 3, 45, 62, 7, 29, 27]</td>\n",
       "      <td>[7, 4, 1, 0, 2, 8, 6, 3, 5, 8, 0, 3, 2, 5, 4, ...</td>\n",
       "      <td>75.129799</td>\n",
       "    </tr>\n",
       "    <tr>\n",
       "      <th>2</th>\n",
       "      <td>User 3</td>\n",
       "      <td>3</td>\n",
       "      <td>20</td>\n",
       "      <td>Makurdi</td>\n",
       "      <td>[36847, 49440, 6928, 51990, 59417, 67975, 7713...</td>\n",
       "      <td>[73, 87, 33, 61, 100, 54, 58, 21, 2, 30, 88, 8...</td>\n",
       "      <td>[44491, 70472, 46283, 39063, 44602, 19966, 556...</td>\n",
       "      <td>[64, 46, 10, 18, 4, 15, 5, 61, 48, 11, 86, 55,...</td>\n",
       "      <td>44</td>\n",
       "      <td>[0, 4, 2, 7, 8, 6, 3, 5, 1]</td>\n",
       "      <td>[5, 3, 1, 0, 6, 7, 2, 4, 8]</td>\n",
       "      <td>[44491, 70472, 46283, 39063, 44602, 19966, 556...</td>\n",
       "      <td>[64, 46, 10, 18, 4, 15, 5, 61, 48, 11, 86, 55,...</td>\n",
       "      <td>[5, 3, 1, 0, 6, 7, 2, 4, 8, 0, 4, 2, 7, 8, 6, ...</td>\n",
       "      <td>76.004202</td>\n",
       "    </tr>\n",
       "    <tr>\n",
       "      <th>3</th>\n",
       "      <td>User 4</td>\n",
       "      <td>4</td>\n",
       "      <td>64</td>\n",
       "      <td>Surulere, Lagos</td>\n",
       "      <td>[42788, 80612, 71204, 59605, 85062, 56999, 467...</td>\n",
       "      <td>[52, 43, 33, 63, 24, 50, 61, 99, 74, 100, 48, ...</td>\n",
       "      <td>[13377, 73798, 44572, 42898, 20318, 8045, 3903...</td>\n",
       "      <td>[30, 90, 83, 1, 76, 39, 15, 7, 59, 89, 34, 48,...</td>\n",
       "      <td>65</td>\n",
       "      <td>[6, 5, 2, 3, 7, 0, 4, 8, 1]</td>\n",
       "      <td>[8, 4, 2, 6, 5, 3, 7, 1, 0]</td>\n",
       "      <td>[13377, 73798, 44572, 42898, 20318, 8045, 3903...</td>\n",
       "      <td>[30, 90, 83, 1, 76, 39, 15, 7, 59, 89, 34, 48,...</td>\n",
       "      <td>[8, 4, 2, 6, 5, 3, 7, 1, 0, 6, 5, 2, 3, 7, 0, ...</td>\n",
       "      <td>75.592541</td>\n",
       "    </tr>\n",
       "    <tr>\n",
       "      <th>4</th>\n",
       "      <td>User 5</td>\n",
       "      <td>5</td>\n",
       "      <td>63</td>\n",
       "      <td>Owerri</td>\n",
       "      <td>[77934, 83001, 52070, 1106, 56838, 64654, 2686...</td>\n",
       "      <td>[100, 32, 57, 30, 52, 65, 73, 19, 58, 47, 95, ...</td>\n",
       "      <td>[9905, 21295, 19334, 34531, 29517, 82219, 3596...</td>\n",
       "      <td>[51, 98, 45, 65, 26, 93, 55, 90, 99, 96, 88, 5...</td>\n",
       "      <td>25</td>\n",
       "      <td>[4, 3, 5, 2, 8, 1, 0, 6, 7]</td>\n",
       "      <td>[6, 0, 5, 4, 8, 7, 3, 2, 1]</td>\n",
       "      <td>[9905, 21295, 19334, 34531, 29517, 82219, 3596...</td>\n",
       "      <td>[51, 98, 45, 65, 26, 93, 55, 90, 99, 96, 88, 5...</td>\n",
       "      <td>[6, 0, 5, 4, 8, 7, 3, 2, 1, 4, 3, 5, 2, 8, 1, ...</td>\n",
       "      <td>75.717021</td>\n",
       "    </tr>\n",
       "  </tbody>\n",
       "</table>\n",
       "</div>"
      ],
      "text/plain": [
       "  User Name  Id  Age    User Location  \\\n",
       "0    User 1   1   34       Benin City   \n",
       "1    User 2   2   32         Abeokuta   \n",
       "2    User 3   3   20          Makurdi   \n",
       "3    User 4   4   64  Surulere, Lagos   \n",
       "4    User 5   5   63           Owerri   \n",
       "\n",
       "                                      Saved Products  \\\n",
       "0  [28981, 7151, 31154, 66007, 3595, 72988, 3092,...   \n",
       "1  [1420, 69858, 30627, 589, 55436, 69085, 78572,...   \n",
       "2  [36847, 49440, 6928, 51990, 59417, 67975, 7713...   \n",
       "3  [42788, 80612, 71204, 59605, 85062, 56999, 467...   \n",
       "4  [77934, 83001, 52070, 1106, 56838, 64654, 2686...   \n",
       "\n",
       "                                       Saved Vendors  \\\n",
       "0  [68, 97, 52, 91, 38, 83, 62, 66, 43, 76, 35, 7...   \n",
       "1                  [4, 33, 72, 3, 45, 62, 7, 29, 27]   \n",
       "2  [73, 87, 33, 61, 100, 54, 58, 21, 2, 30, 88, 8...   \n",
       "3  [52, 43, 33, 63, 24, 50, 61, 99, 74, 100, 48, ...   \n",
       "4  [100, 32, 57, 30, 52, 65, 73, 19, 58, 47, 95, ...   \n",
       "\n",
       "                                   Searched Products  \\\n",
       "0  [55531, 80325, 86481, 82261, 43551, 86271, 351...   \n",
       "1  [16538, 35820, 3299, 55503, 44904, 31035, 6228...   \n",
       "2  [44491, 70472, 46283, 39063, 44602, 19966, 556...   \n",
       "3  [13377, 73798, 44572, 42898, 20318, 8045, 3903...   \n",
       "4  [9905, 21295, 19334, 34531, 29517, 82219, 3596...   \n",
       "\n",
       "                                    Searched Vendors  Proximity (KM)  \\\n",
       "0    [85, 78, 50, 81, 37, 42, 57, 59, 65, 51, 66, 4]              63   \n",
       "1                                       [24, 90, 65]              71   \n",
       "2  [64, 46, 10, 18, 4, 15, 5, 61, 48, 11, 86, 55,...              44   \n",
       "3  [30, 90, 83, 1, 76, 39, 15, 7, 59, 89, 34, 48,...              65   \n",
       "4  [51, 98, 45, 65, 26, 93, 55, 90, 99, 96, 88, 5...              25   \n",
       "\n",
       "              Saved Categories          Searched Categories  \\\n",
       "0  [4, 5, 1, 3, 8, 0, 2, 7, 6]  [2, 0, 1, 8, 4, 3, 7, 5, 6]   \n",
       "1  [8, 0, 3, 2, 5, 4, 6, 7, 1]  [7, 4, 1, 0, 2, 8, 6, 3, 5]   \n",
       "2  [0, 4, 2, 7, 8, 6, 3, 5, 1]  [5, 3, 1, 0, 6, 7, 2, 4, 8]   \n",
       "3  [6, 5, 2, 3, 7, 0, 4, 8, 1]  [8, 4, 2, 6, 5, 3, 7, 1, 0]   \n",
       "4  [4, 3, 5, 2, 8, 1, 0, 6, 7]  [6, 0, 5, 4, 8, 7, 3, 2, 1]   \n",
       "\n",
       "                                Interesting Products  \\\n",
       "0  [55531, 80325, 86481, 82261, 43551, 86271, 351...   \n",
       "1  [16538, 35820, 3299, 55503, 44904, 31035, 6228...   \n",
       "2  [44491, 70472, 46283, 39063, 44602, 19966, 556...   \n",
       "3  [13377, 73798, 44572, 42898, 20318, 8045, 3903...   \n",
       "4  [9905, 21295, 19334, 34531, 29517, 82219, 3596...   \n",
       "\n",
       "                                 Interesting Vendors  \\\n",
       "0  [85, 78, 50, 81, 37, 42, 57, 59, 65, 51, 66, 4...   \n",
       "1      [24, 90, 65, 4, 33, 72, 3, 45, 62, 7, 29, 27]   \n",
       "2  [64, 46, 10, 18, 4, 15, 5, 61, 48, 11, 86, 55,...   \n",
       "3  [30, 90, 83, 1, 76, 39, 15, 7, 59, 89, 34, 48,...   \n",
       "4  [51, 98, 45, 65, 26, 93, 55, 90, 99, 96, 88, 5...   \n",
       "\n",
       "                              Interesting Categories  Product Qaulity  \n",
       "0  [2, 0, 1, 8, 4, 3, 7, 5, 6, 4, 5, 1, 3, 8, 0, ...        75.446835  \n",
       "1  [7, 4, 1, 0, 2, 8, 6, 3, 5, 8, 0, 3, 2, 5, 4, ...        75.129799  \n",
       "2  [5, 3, 1, 0, 6, 7, 2, 4, 8, 0, 4, 2, 7, 8, 6, ...        76.004202  \n",
       "3  [8, 4, 2, 6, 5, 3, 7, 1, 0, 6, 5, 2, 3, 7, 0, ...        75.592541  \n",
       "4  [6, 0, 5, 4, 8, 7, 3, 2, 1, 4, 3, 5, 2, 8, 1, ...        75.717021  "
      ]
     },
     "execution_count": 20,
     "metadata": {},
     "output_type": "execute_result"
    }
   ],
   "source": [
    "users_df.head()"
   ]
  },
  {
   "cell_type": "code",
   "execution_count": 21,
   "metadata": {},
   "outputs": [
    {
     "data": {
      "text/plain": [
       "array([75.44683467, 75.1297989 , 76.00420168, 75.59254144, 75.71702128,\n",
       "       76.57397959, 75.27899687, 75.39649781, 75.57186544, 75.703125  ,\n",
       "       75.82862524, 76.8190184 , 74.4906954 , 76.05761317, 76.36466165,\n",
       "       75.70741097, 76.62729358, 75.41860465, 75.32613391, 76.09938734,\n",
       "       75.92828036, 75.73208072, 75.40331492, 75.8605042 , 75.43878463,\n",
       "       75.88342697, 76.25293427, 75.74943736, 75.57052897, 75.70760642,\n",
       "       75.83820225, 76.53397028, 76.22615132, 74.75757576, 75.47450572,\n",
       "       74.78549849, 75.1185006 , 76.26326964, 75.89478114, 75.60111111,\n",
       "       75.07294118, 76.79379157, 75.1967033 , 73.99404762, 75.76185567,\n",
       "       75.45196211, 74.88131313, 75.41346154, 75.45103858, 75.83989501,\n",
       "       75.80885122, 76.13312203, 75.89980354, 75.9884696 , 75.05456702,\n",
       "       76.27475248, 75.28669528, 75.96024465, 74.98603652, 75.58598726,\n",
       "       76.03636364, 75.58700882, 75.72194638, 76.17584605, 74.08389262,\n",
       "       76.26570916, 75.55714286, 75.57821782, 75.26177024, 77.5361528 ,\n",
       "       75.29306488, 76.24289985, 75.58094262, 76.24      , 75.9503367 ,\n",
       "       76.09952607, 75.54285714, 75.78528657, 76.00735294, 75.4725537 ,\n",
       "       74.68965517, 76.15926709, 75.73493976, 76.13552759, 75.18706048,\n",
       "       75.62273033, 75.15660377, 74.74438202, 75.72379913, 76.18478944,\n",
       "       76.28921569, 75.36378335, 75.34183673, 76.33127572, 75.69210867,\n",
       "       75.3587963 , 75.50421585, 75.75647668, 75.43489814, 75.51285714])"
      ]
     },
     "execution_count": 21,
     "metadata": {},
     "output_type": "execute_result"
    }
   ],
   "source": [
    "users_df['Product Qaulity'].unique()"
   ]
  },
  {
   "cell_type": "code",
   "execution_count": 22,
   "metadata": {},
   "outputs": [
    {
     "data": {
      "text/plain": [
       "array([40, 25, 15, 12, 13, 23,  9,  1, 36, 24, 35, 49, 19,  8, 11,  6,  4,\n",
       "       31,  7, 21, 37, 32, 14, 48, 41, 34, 17, 16, 38, 29, 20,  3, 18, 33,\n",
       "       45, 50, 42, 39,  0, 27, 10, 43, 44,  5, 47,  2])"
      ]
     },
     "execution_count": 22,
     "metadata": {},
     "output_type": "execute_result"
    }
   ],
   "source": [
    "product_df['Discount'].unique()"
   ]
  },
  {
   "cell_type": "code",
   "execution_count": 27,
   "metadata": {},
   "outputs": [],
   "source": [
    "import scipy.stats as stats"
   ]
  },
  {
   "cell_type": "code",
   "execution_count": 25,
   "metadata": {},
   "outputs": [
    {
     "data": {
      "text/plain": [
       "0        1.076425\n",
       "1        1.076425\n",
       "2        1.076425\n",
       "3        1.076425\n",
       "4        1.076425\n",
       "           ...   \n",
       "86602    0.528728\n",
       "86603    0.528728\n",
       "86604    0.528728\n",
       "86605    0.528728\n",
       "86606    0.528728\n",
       "Name: Discount, Length: 86607, dtype: float64"
      ]
     },
     "execution_count": 25,
     "metadata": {},
     "output_type": "execute_result"
    }
   ],
   "source": [
    "scipy.stats.zscore(product_df['Discount'])"
   ]
  },
  {
   "cell_type": "code",
   "execution_count": null,
   "metadata": {},
   "outputs": [
    {
     "ename": "TypeError",
     "evalue": "Must provide 'func' or tuples of '(column, aggfunc).",
     "output_type": "error",
     "traceback": [
      "\u001b[0;31m---------------------------------------------------------------------------\u001b[0m",
      "\u001b[0;31mTypeError\u001b[0m                                 Traceback (most recent call last)",
      "Cell \u001b[0;32mIn[30], line 1\u001b[0m\n\u001b[0;32m----> 1\u001b[0m \u001b[43mproduct_df\u001b[49m\u001b[38;5;241;43m.\u001b[39;49m\u001b[43maggregate\u001b[49m\u001b[43m(\u001b[49m\u001b[43m)\u001b[49m\n",
      "File \u001b[0;32m~/.pyenv/versions/3.10.12/lib/python3.10/site-packages/pandas/core/frame.py:10148\u001b[0m, in \u001b[0;36mDataFrame.aggregate\u001b[0;34m(self, func, axis, *args, **kwargs)\u001b[0m\n\u001b[1;32m  10144\u001b[0m \u001b[38;5;28;01mfrom\u001b[39;00m \u001b[38;5;21;01mpandas\u001b[39;00m\u001b[38;5;21;01m.\u001b[39;00m\u001b[38;5;21;01mcore\u001b[39;00m\u001b[38;5;21;01m.\u001b[39;00m\u001b[38;5;21;01mapply\u001b[39;00m \u001b[38;5;28;01mimport\u001b[39;00m frame_apply\n\u001b[1;32m  10146\u001b[0m axis \u001b[38;5;241m=\u001b[39m \u001b[38;5;28mself\u001b[39m\u001b[38;5;241m.\u001b[39m_get_axis_number(axis)\n\u001b[0;32m> 10148\u001b[0m op \u001b[38;5;241m=\u001b[39m \u001b[43mframe_apply\u001b[49m\u001b[43m(\u001b[49m\u001b[38;5;28;43mself\u001b[39;49m\u001b[43m,\u001b[49m\u001b[43m \u001b[49m\u001b[43mfunc\u001b[49m\u001b[38;5;241;43m=\u001b[39;49m\u001b[43mfunc\u001b[49m\u001b[43m,\u001b[49m\u001b[43m \u001b[49m\u001b[43maxis\u001b[49m\u001b[38;5;241;43m=\u001b[39;49m\u001b[43maxis\u001b[49m\u001b[43m,\u001b[49m\u001b[43m \u001b[49m\u001b[43margs\u001b[49m\u001b[38;5;241;43m=\u001b[39;49m\u001b[43margs\u001b[49m\u001b[43m,\u001b[49m\u001b[43m \u001b[49m\u001b[43mkwargs\u001b[49m\u001b[38;5;241;43m=\u001b[39;49m\u001b[43mkwargs\u001b[49m\u001b[43m)\u001b[49m\n\u001b[1;32m  10149\u001b[0m result \u001b[38;5;241m=\u001b[39m op\u001b[38;5;241m.\u001b[39magg()\n\u001b[1;32m  10150\u001b[0m result \u001b[38;5;241m=\u001b[39m reconstruct_and_relabel_result(result, func, \u001b[38;5;241m*\u001b[39m\u001b[38;5;241m*\u001b[39mkwargs)\n",
      "File \u001b[0;32m~/.pyenv/versions/3.10.12/lib/python3.10/site-packages/pandas/core/apply.py:102\u001b[0m, in \u001b[0;36mframe_apply\u001b[0;34m(obj, func, axis, raw, result_type, by_row, engine, engine_kwargs, args, kwargs)\u001b[0m\n\u001b[1;32m     99\u001b[0m \u001b[38;5;28;01melif\u001b[39;00m axis \u001b[38;5;241m==\u001b[39m \u001b[38;5;241m1\u001b[39m:\n\u001b[1;32m    100\u001b[0m     klass \u001b[38;5;241m=\u001b[39m FrameColumnApply\n\u001b[0;32m--> 102\u001b[0m _, func, _, _ \u001b[38;5;241m=\u001b[39m \u001b[43mreconstruct_func\u001b[49m\u001b[43m(\u001b[49m\u001b[43mfunc\u001b[49m\u001b[43m,\u001b[49m\u001b[43m \u001b[49m\u001b[38;5;241;43m*\u001b[39;49m\u001b[38;5;241;43m*\u001b[39;49m\u001b[43mkwargs\u001b[49m\u001b[43m)\u001b[49m\n\u001b[1;32m    103\u001b[0m \u001b[38;5;28;01massert\u001b[39;00m func \u001b[38;5;129;01mis\u001b[39;00m \u001b[38;5;129;01mnot\u001b[39;00m \u001b[38;5;28;01mNone\u001b[39;00m\n\u001b[1;32m    105\u001b[0m \u001b[38;5;28;01mreturn\u001b[39;00m klass(\n\u001b[1;32m    106\u001b[0m     obj,\n\u001b[1;32m    107\u001b[0m     func,\n\u001b[0;32m   (...)\u001b[0m\n\u001b[1;32m    114\u001b[0m     kwargs\u001b[38;5;241m=\u001b[39mkwargs,\n\u001b[1;32m    115\u001b[0m )\n",
      "File \u001b[0;32m~/.pyenv/versions/3.10.12/lib/python3.10/site-packages/pandas/core/apply.py:1696\u001b[0m, in \u001b[0;36mreconstruct_func\u001b[0;34m(func, **kwargs)\u001b[0m\n\u001b[1;32m   1690\u001b[0m         \u001b[38;5;28;01mraise\u001b[39;00m SpecificationError(\n\u001b[1;32m   1691\u001b[0m             \u001b[38;5;124m\"\u001b[39m\u001b[38;5;124mFunction names must be unique if there is no new column names \u001b[39m\u001b[38;5;124m\"\u001b[39m\n\u001b[1;32m   1692\u001b[0m             \u001b[38;5;124m\"\u001b[39m\u001b[38;5;124massigned\u001b[39m\u001b[38;5;124m\"\u001b[39m\n\u001b[1;32m   1693\u001b[0m         )\n\u001b[1;32m   1694\u001b[0m     \u001b[38;5;28;01mif\u001b[39;00m func \u001b[38;5;129;01mis\u001b[39;00m \u001b[38;5;28;01mNone\u001b[39;00m:\n\u001b[1;32m   1695\u001b[0m         \u001b[38;5;66;03m# nicer error message\u001b[39;00m\n\u001b[0;32m-> 1696\u001b[0m         \u001b[38;5;28;01mraise\u001b[39;00m \u001b[38;5;167;01mTypeError\u001b[39;00m(\u001b[38;5;124m\"\u001b[39m\u001b[38;5;124mMust provide \u001b[39m\u001b[38;5;124m'\u001b[39m\u001b[38;5;124mfunc\u001b[39m\u001b[38;5;124m'\u001b[39m\u001b[38;5;124m or tuples of \u001b[39m\u001b[38;5;124m'\u001b[39m\u001b[38;5;124m(column, aggfunc).\u001b[39m\u001b[38;5;124m\"\u001b[39m)\n\u001b[1;32m   1698\u001b[0m \u001b[38;5;28;01mif\u001b[39;00m relabeling:\n\u001b[1;32m   1699\u001b[0m     \u001b[38;5;66;03m# error: Incompatible types in assignment (expression has type\u001b[39;00m\n\u001b[1;32m   1700\u001b[0m     \u001b[38;5;66;03m# \"MutableMapping[Hashable, list[Callable[..., Any] | str]]\", variable has type\u001b[39;00m\n\u001b[1;32m   1701\u001b[0m     \u001b[38;5;66;03m# \"Callable[..., Any] | str | list[Callable[..., Any] | str] |\u001b[39;00m\n\u001b[1;32m   1702\u001b[0m     \u001b[38;5;66;03m# MutableMapping[Hashable, Callable[..., Any] | str | list[Callable[..., Any] |\u001b[39;00m\n\u001b[1;32m   1703\u001b[0m     \u001b[38;5;66;03m# str]] | None\")\u001b[39;00m\n\u001b[1;32m   1704\u001b[0m     func, columns, order \u001b[38;5;241m=\u001b[39m normalize_keyword_aggregation(  \u001b[38;5;66;03m# type: ignore[assignment]\u001b[39;00m\n\u001b[1;32m   1705\u001b[0m         kwargs\n\u001b[1;32m   1706\u001b[0m     )\n",
      "\u001b[0;31mTypeError\u001b[0m: Must provide 'func' or tuples of '(column, aggfunc)."
     ]
    }
   ],
   "source": [
    "product_df.ana()"
   ]
  },
  {
   "cell_type": "code",
   "execution_count": null,
   "metadata": {},
   "outputs": [],
   "source": []
  }
 ],
 "metadata": {
  "kernelspec": {
   "display_name": "Python 3",
   "language": "python",
   "name": "python3"
  },
  "language_info": {
   "codemirror_mode": {
    "name": "ipython",
    "version": 3
   },
   "file_extension": ".py",
   "mimetype": "text/x-python",
   "name": "python",
   "nbconvert_exporter": "python",
   "pygments_lexer": "ipython3",
   "version": "3.10.12"
  }
 },
 "nbformat": 4,
 "nbformat_minor": 2
}
