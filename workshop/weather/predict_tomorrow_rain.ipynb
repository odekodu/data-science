{
 "cells": [
  {
   "cell_type": "markdown",
   "metadata": {},
   "source": [
    "# Predict tomorrow's rain\n",
    "\n",
    "## Introduction\n",
    "This is a model that predicts whether it will rain or not tomorrow.\n",
    "However, to do that, I have to look at the major triggers of tomorrow's rain.\n",
    "\n",
    "I have to extract the minimum Temperature, Maximum Temperature, and average temperature of the last 6 hours.\n",
    "I have to extract the minimum Humidity, Maximum Humidity, and average Humidity of the last 6 hours.\n",
    "I have to extract the minimum Wind Speed, Maximum Wind Speed, and average Wind Speed of the last 6 hours.\n",
    "\n",
    "## Dependencies\n",
    "- Pandas\n",
    "- Matplotlib\n",
    "- Numpy\n",
    "- Seaborn\n",
    "- Sklearn\n"
   ]
  },
  {
   "cell_type": "code",
   "execution_count": 2,
   "metadata": {},
   "outputs": [],
   "source": [
    "import pandas as pd\n",
    "import matplotlib.pyplot as plt\n",
    "import numpy as np\n",
    "import seaborn as sns\n",
    "from sklearn.preprocessing import LabelEncoder, StandardScaler\n",
    "from sklearn.feature_extraction import DictVectorizer\n",
    "from sklearn.ensemble import RandomForestClassifier, RandomForestRegressor\n",
    "from sklearn.metrics import mean_squared_error, precision_score, accuracy_score\n"
   ]
  },
  {
   "cell_type": "code",
   "execution_count": 3,
   "metadata": {},
   "outputs": [],
   "source": [
    "df = pd.read_csv('../../../data/cleaned_ikorodu_weather_2016_2024.csv')"
   ]
  },
  {
   "cell_type": "code",
   "execution_count": 4,
   "metadata": {},
   "outputs": [
    {
     "data": {
      "text/html": [
       "<div>\n",
       "<style scoped>\n",
       "    .dataframe tbody tr th:only-of-type {\n",
       "        vertical-align: middle;\n",
       "    }\n",
       "\n",
       "    .dataframe tbody tr th {\n",
       "        vertical-align: top;\n",
       "    }\n",
       "\n",
       "    .dataframe thead th {\n",
       "        text-align: right;\n",
       "    }\n",
       "</style>\n",
       "<table border=\"1\" class=\"dataframe\">\n",
       "  <thead>\n",
       "    <tr style=\"text-align: right;\">\n",
       "      <th></th>\n",
       "      <th>Time (hr)</th>\n",
       "      <th>Temperature (°c)</th>\n",
       "      <th>Forecast (°c)</th>\n",
       "      <th>Rain (mm)</th>\n",
       "      <th>Rain (%)</th>\n",
       "      <th>Cloud (%)</th>\n",
       "      <th>Pressure (mb)</th>\n",
       "      <th>Wind (km/h)</th>\n",
       "      <th>Gust (km/h)</th>\n",
       "      <th>Direction (deg)</th>\n",
       "      <th>...</th>\n",
       "      <th>Moonset (hr)</th>\n",
       "      <th>Sunrise (hr)</th>\n",
       "      <th>Sunset (hr)</th>\n",
       "      <th>Weather</th>\n",
       "      <th>Date</th>\n",
       "      <th>Moonrise (min)</th>\n",
       "      <th>Moonset (min)</th>\n",
       "      <th>Sunrise (min)</th>\n",
       "      <th>Sunset (min)</th>\n",
       "      <th>Season</th>\n",
       "    </tr>\n",
       "  </thead>\n",
       "  <tbody>\n",
       "    <tr>\n",
       "      <th>0</th>\n",
       "      <td>0</td>\n",
       "      <td>25</td>\n",
       "      <td>27</td>\n",
       "      <td>0.1</td>\n",
       "      <td>45.0</td>\n",
       "      <td>87.0</td>\n",
       "      <td>1013.0</td>\n",
       "      <td>18.0</td>\n",
       "      <td>27.0</td>\n",
       "      <td>225.3</td>\n",
       "      <td>...</td>\n",
       "      <td>05:17 PM</td>\n",
       "      <td>06:39 AM</td>\n",
       "      <td>06:53 PM</td>\n",
       "      <td>Light rain shower</td>\n",
       "      <td>2024-08-31</td>\n",
       "      <td>271.0</td>\n",
       "      <td>1037.0</td>\n",
       "      <td>399</td>\n",
       "      <td>1133</td>\n",
       "      <td>wet</td>\n",
       "    </tr>\n",
       "    <tr>\n",
       "      <th>1</th>\n",
       "      <td>3</td>\n",
       "      <td>24</td>\n",
       "      <td>26</td>\n",
       "      <td>0.4</td>\n",
       "      <td>100.0</td>\n",
       "      <td>100.0</td>\n",
       "      <td>1012.0</td>\n",
       "      <td>19.0</td>\n",
       "      <td>28.0</td>\n",
       "      <td>225.1</td>\n",
       "      <td>...</td>\n",
       "      <td>05:17 PM</td>\n",
       "      <td>06:39 AM</td>\n",
       "      <td>06:53 PM</td>\n",
       "      <td>Light rain shower</td>\n",
       "      <td>2024-08-31</td>\n",
       "      <td>271.0</td>\n",
       "      <td>1037.0</td>\n",
       "      <td>399</td>\n",
       "      <td>1133</td>\n",
       "      <td>wet</td>\n",
       "    </tr>\n",
       "    <tr>\n",
       "      <th>2</th>\n",
       "      <td>6</td>\n",
       "      <td>24</td>\n",
       "      <td>26</td>\n",
       "      <td>0.3</td>\n",
       "      <td>100.0</td>\n",
       "      <td>100.0</td>\n",
       "      <td>1013.0</td>\n",
       "      <td>18.0</td>\n",
       "      <td>27.0</td>\n",
       "      <td>230.1</td>\n",
       "      <td>...</td>\n",
       "      <td>05:17 PM</td>\n",
       "      <td>06:39 AM</td>\n",
       "      <td>06:53 PM</td>\n",
       "      <td>Light rain shower</td>\n",
       "      <td>2024-08-31</td>\n",
       "      <td>271.0</td>\n",
       "      <td>1037.0</td>\n",
       "      <td>399</td>\n",
       "      <td>1133</td>\n",
       "      <td>wet</td>\n",
       "    </tr>\n",
       "    <tr>\n",
       "      <th>3</th>\n",
       "      <td>9</td>\n",
       "      <td>25</td>\n",
       "      <td>28</td>\n",
       "      <td>0.1</td>\n",
       "      <td>45.0</td>\n",
       "      <td>76.0</td>\n",
       "      <td>1014.0</td>\n",
       "      <td>21.0</td>\n",
       "      <td>28.0</td>\n",
       "      <td>226.8</td>\n",
       "      <td>...</td>\n",
       "      <td>05:17 PM</td>\n",
       "      <td>06:39 AM</td>\n",
       "      <td>06:53 PM</td>\n",
       "      <td>Light rain shower</td>\n",
       "      <td>2024-08-31</td>\n",
       "      <td>271.0</td>\n",
       "      <td>1037.0</td>\n",
       "      <td>399</td>\n",
       "      <td>1133</td>\n",
       "      <td>wet</td>\n",
       "    </tr>\n",
       "    <tr>\n",
       "      <th>4</th>\n",
       "      <td>12</td>\n",
       "      <td>27</td>\n",
       "      <td>29</td>\n",
       "      <td>0.0</td>\n",
       "      <td>45.0</td>\n",
       "      <td>61.0</td>\n",
       "      <td>1014.0</td>\n",
       "      <td>21.0</td>\n",
       "      <td>27.0</td>\n",
       "      <td>229.2</td>\n",
       "      <td>...</td>\n",
       "      <td>05:17 PM</td>\n",
       "      <td>06:39 AM</td>\n",
       "      <td>06:53 PM</td>\n",
       "      <td>Light rain shower</td>\n",
       "      <td>2024-08-31</td>\n",
       "      <td>271.0</td>\n",
       "      <td>1037.0</td>\n",
       "      <td>399</td>\n",
       "      <td>1133</td>\n",
       "      <td>wet</td>\n",
       "    </tr>\n",
       "  </tbody>\n",
       "</table>\n",
       "<p>5 rows × 21 columns</p>\n",
       "</div>"
      ],
      "text/plain": [
       "   Time (hr)  Temperature (°c)  Forecast (°c)  Rain (mm)  Rain (%)  Cloud (%)  \\\n",
       "0          0                25             27        0.1      45.0       87.0   \n",
       "1          3                24             26        0.4     100.0      100.0   \n",
       "2          6                24             26        0.3     100.0      100.0   \n",
       "3          9                25             28        0.1      45.0       76.0   \n",
       "4         12                27             29        0.0      45.0       61.0   \n",
       "\n",
       "   Pressure (mb)  Wind (km/h)  Gust (km/h)  Direction (deg)  ... Moonset (hr)  \\\n",
       "0         1013.0         18.0         27.0            225.3  ...     05:17 PM   \n",
       "1         1012.0         19.0         28.0            225.1  ...     05:17 PM   \n",
       "2         1013.0         18.0         27.0            230.1  ...     05:17 PM   \n",
       "3         1014.0         21.0         28.0            226.8  ...     05:17 PM   \n",
       "4         1014.0         21.0         27.0            229.2  ...     05:17 PM   \n",
       "\n",
       "  Sunrise (hr) Sunset (hr)            Weather        Date Moonrise (min)  \\\n",
       "0     06:39 AM    06:53 PM  Light rain shower  2024-08-31          271.0   \n",
       "1     06:39 AM    06:53 PM  Light rain shower  2024-08-31          271.0   \n",
       "2     06:39 AM    06:53 PM  Light rain shower  2024-08-31          271.0   \n",
       "3     06:39 AM    06:53 PM  Light rain shower  2024-08-31          271.0   \n",
       "4     06:39 AM    06:53 PM  Light rain shower  2024-08-31          271.0   \n",
       "\n",
       "   Moonset (min)  Sunrise (min)  Sunset (min)  Season  \n",
       "0         1037.0            399          1133     wet  \n",
       "1         1037.0            399          1133     wet  \n",
       "2         1037.0            399          1133     wet  \n",
       "3         1037.0            399          1133     wet  \n",
       "4         1037.0            399          1133     wet  \n",
       "\n",
       "[5 rows x 21 columns]"
      ]
     },
     "execution_count": 4,
     "metadata": {},
     "output_type": "execute_result"
    }
   ],
   "source": [
    "df.head()"
   ]
  },
  {
   "cell_type": "code",
   "execution_count": 5,
   "metadata": {},
   "outputs": [
    {
     "data": {
      "text/plain": [
       "Index(['Time (hr)', 'Temperature (°c)', 'Forecast (°c)', 'Rain (mm)',\n",
       "       'Rain (%)', 'Cloud (%)', 'Pressure (mb)', 'Wind (km/h)', 'Gust (km/h)',\n",
       "       'Direction (deg)', 'Moonrise (hr)', 'Moonset (hr)', 'Sunrise (hr)',\n",
       "       'Sunset (hr)', 'Weather', 'Date', 'Moonrise (min)', 'Moonset (min)',\n",
       "       'Sunrise (min)', 'Sunset (min)', 'Season'],\n",
       "      dtype='object')"
      ]
     },
     "execution_count": 5,
     "metadata": {},
     "output_type": "execute_result"
    }
   ],
   "source": [
    "df.columns"
   ]
  },
  {
   "cell_type": "markdown",
   "metadata": {},
   "source": [
    "### Data Cleaning"
   ]
  },
  {
   "cell_type": "code",
   "execution_count": 6,
   "metadata": {},
   "outputs": [],
   "source": [
    "df['Date'] = pd.to_datetime(df['Date'])"
   ]
  },
  {
   "cell_type": "code",
   "execution_count": 7,
   "metadata": {},
   "outputs": [],
   "source": [
    "df['Time (hr)'] = [(df['Date'][i] + pd.Timedelta(hours=x)) for i, x in enumerate(df['Time (hr)'])]"
   ]
  },
  {
   "cell_type": "code",
   "execution_count": 8,
   "metadata": {},
   "outputs": [],
   "source": [
    "df.set_index('Time (hr)', inplace=True)"
   ]
  },
  {
   "cell_type": "markdown",
   "metadata": {},
   "source": [
    "### Data Wrangling"
   ]
  },
  {
   "cell_type": "code",
   "execution_count": 9,
   "metadata": {},
   "outputs": [
    {
     "data": {
      "text/plain": [
       "Time (hr)\n",
       "2016-09-03 09:00:00    1.7\n",
       "2016-09-03 12:00:00    2.5\n",
       "2016-09-03 15:00:00    0.6\n",
       "2016-09-03 18:00:00    0.0\n",
       "2016-09-03 21:00:00    0.0\n",
       "Name: Rain (mm), dtype: float64"
      ]
     },
     "execution_count": 9,
     "metadata": {},
     "output_type": "execute_result"
    }
   ],
   "source": [
    "df['Rain (mm)'].tail()"
   ]
  },
  {
   "cell_type": "code",
   "execution_count": 10,
   "metadata": {},
   "outputs": [],
   "source": [
    "# Add the next rain to the dataframe\n",
    "df['Next Rain (mm)'] = [x if i != len(df['Rain (mm)']) - 1 else 0 for i, x in enumerate(df['Rain (mm)'])]"
   ]
  },
  {
   "cell_type": "code",
   "execution_count": 11,
   "metadata": {},
   "outputs": [
    {
     "data": {
      "text/plain": [
       "Time (hr)\n",
       "2016-09-03 09:00:00    1.7\n",
       "2016-09-03 12:00:00    2.5\n",
       "2016-09-03 15:00:00    0.6\n",
       "2016-09-03 18:00:00    0.0\n",
       "2016-09-03 21:00:00    0.0\n",
       "Name: Next Rain (mm), dtype: float64"
      ]
     },
     "execution_count": 11,
     "metadata": {},
     "output_type": "execute_result"
    }
   ],
   "source": [
    "df['Next Rain (mm)'].tail()"
   ]
  },
  {
   "cell_type": "code",
   "execution_count": 12,
   "metadata": {},
   "outputs": [],
   "source": [
    "# Take a look at the major triggers of tomorrow's rain.\n",
    "correletions = df[['Temperature (°c)', 'Forecast (°c)', 'Rain (mm)',\n",
    "       'Rain (%)', 'Cloud (%)', 'Pressure (mb)', 'Wind (km/h)', 'Gust (km/h)']].corrwith(df['Next Rain (mm)'])"
   ]
  },
  {
   "cell_type": "code",
   "execution_count": 13,
   "metadata": {},
   "outputs": [],
   "source": [
    "def get_correlations(df, items, intervals, target):\n",
    "    \n",
    "    correlation_df = pd.DataFrame(columns=intervals)\n",
    "    for interval in intervals:\n",
    "        sample = df.resample(interval)\n",
    "        df_interval_mean = sample[[target, *items]].mean()\n",
    "        df_interval_max = sample[[*items]].max()\n",
    "        df_interval_min = sample[[*items]].min()\n",
    "\n",
    "        df_interval_max.columns = ['Max ' + x for x in df_interval_max.columns]\n",
    "        df_interval_min.columns = ['Min ' + x for x in df_interval_min.columns]\n",
    "\n",
    "        df_interval = pd.concat([df_interval_mean, df_interval_max, df_interval_min], axis=1)\n",
    "        columns = [*items, *df_interval_max.columns, *df_interval_min.columns]\n",
    "        c = df_interval[columns].corrwith(df_interval['Next Rain (mm)'])\n",
    "        correlation_df[interval] = c\n",
    "        \n",
    "    return correlation_df"
   ]
  },
  {
   "cell_type": "code",
   "execution_count": 14,
   "metadata": {},
   "outputs": [
    {
     "data": {
      "text/html": [
       "<div>\n",
       "<style scoped>\n",
       "    .dataframe tbody tr th:only-of-type {\n",
       "        vertical-align: middle;\n",
       "    }\n",
       "\n",
       "    .dataframe tbody tr th {\n",
       "        vertical-align: top;\n",
       "    }\n",
       "\n",
       "    .dataframe thead th {\n",
       "        text-align: right;\n",
       "    }\n",
       "</style>\n",
       "<table border=\"1\" class=\"dataframe\">\n",
       "  <thead>\n",
       "    <tr style=\"text-align: right;\">\n",
       "      <th></th>\n",
       "      <th>6h</th>\n",
       "      <th>12h</th>\n",
       "      <th>24h</th>\n",
       "    </tr>\n",
       "  </thead>\n",
       "  <tbody>\n",
       "    <tr>\n",
       "      <th>Temperature (°c)</th>\n",
       "      <td>-0.152714</td>\n",
       "      <td>-0.238194</td>\n",
       "      <td>-0.371834</td>\n",
       "    </tr>\n",
       "    <tr>\n",
       "      <th>Cloud (%)</th>\n",
       "      <td>0.296551</td>\n",
       "      <td>0.336150</td>\n",
       "      <td>0.408413</td>\n",
       "    </tr>\n",
       "    <tr>\n",
       "      <th>Pressure (mb)</th>\n",
       "      <td>0.135821</td>\n",
       "      <td>0.165649</td>\n",
       "      <td>0.225104</td>\n",
       "    </tr>\n",
       "    <tr>\n",
       "      <th>Wind (km/h)</th>\n",
       "      <td>0.025435</td>\n",
       "      <td>0.042858</td>\n",
       "      <td>0.025664</td>\n",
       "    </tr>\n",
       "    <tr>\n",
       "      <th>Gust (km/h)</th>\n",
       "      <td>0.098773</td>\n",
       "      <td>0.129914</td>\n",
       "      <td>0.128906</td>\n",
       "    </tr>\n",
       "    <tr>\n",
       "      <th>Max Temperature (°c)</th>\n",
       "      <td>-0.158031</td>\n",
       "      <td>-0.238375</td>\n",
       "      <td>-0.415304</td>\n",
       "    </tr>\n",
       "    <tr>\n",
       "      <th>Max Cloud (%)</th>\n",
       "      <td>0.266011</td>\n",
       "      <td>0.256155</td>\n",
       "      <td>0.266289</td>\n",
       "    </tr>\n",
       "    <tr>\n",
       "      <th>Max Pressure (mb)</th>\n",
       "      <td>0.138231</td>\n",
       "      <td>0.157799</td>\n",
       "      <td>0.180939</td>\n",
       "    </tr>\n",
       "    <tr>\n",
       "      <th>Max Wind (km/h)</th>\n",
       "      <td>0.034584</td>\n",
       "      <td>0.041060</td>\n",
       "      <td>-0.069478</td>\n",
       "    </tr>\n",
       "    <tr>\n",
       "      <th>Max Gust (km/h)</th>\n",
       "      <td>0.110415</td>\n",
       "      <td>0.149009</td>\n",
       "      <td>0.138248</td>\n",
       "    </tr>\n",
       "    <tr>\n",
       "      <th>Min Temperature (°c)</th>\n",
       "      <td>-0.140853</td>\n",
       "      <td>-0.225185</td>\n",
       "      <td>-0.230174</td>\n",
       "    </tr>\n",
       "    <tr>\n",
       "      <th>Min Cloud (%)</th>\n",
       "      <td>0.296677</td>\n",
       "      <td>0.350168</td>\n",
       "      <td>0.459257</td>\n",
       "    </tr>\n",
       "    <tr>\n",
       "      <th>Min Pressure (mb)</th>\n",
       "      <td>0.128761</td>\n",
       "      <td>0.151081</td>\n",
       "      <td>0.239933</td>\n",
       "    </tr>\n",
       "    <tr>\n",
       "      <th>Min Wind (km/h)</th>\n",
       "      <td>0.014501</td>\n",
       "      <td>0.047827</td>\n",
       "      <td>0.058859</td>\n",
       "    </tr>\n",
       "    <tr>\n",
       "      <th>Min Gust (km/h)</th>\n",
       "      <td>0.080457</td>\n",
       "      <td>0.120196</td>\n",
       "      <td>0.111315</td>\n",
       "    </tr>\n",
       "  </tbody>\n",
       "</table>\n",
       "</div>"
      ],
      "text/plain": [
       "                            6h       12h       24h\n",
       "Temperature (°c)     -0.152714 -0.238194 -0.371834\n",
       "Cloud (%)             0.296551  0.336150  0.408413\n",
       "Pressure (mb)         0.135821  0.165649  0.225104\n",
       "Wind (km/h)           0.025435  0.042858  0.025664\n",
       "Gust (km/h)           0.098773  0.129914  0.128906\n",
       "Max Temperature (°c) -0.158031 -0.238375 -0.415304\n",
       "Max Cloud (%)         0.266011  0.256155  0.266289\n",
       "Max Pressure (mb)     0.138231  0.157799  0.180939\n",
       "Max Wind (km/h)       0.034584  0.041060 -0.069478\n",
       "Max Gust (km/h)       0.110415  0.149009  0.138248\n",
       "Min Temperature (°c) -0.140853 -0.225185 -0.230174\n",
       "Min Cloud (%)         0.296677  0.350168  0.459257\n",
       "Min Pressure (mb)     0.128761  0.151081  0.239933\n",
       "Min Wind (km/h)       0.014501  0.047827  0.058859\n",
       "Min Gust (km/h)       0.080457  0.120196  0.111315"
      ]
     },
     "execution_count": 14,
     "metadata": {},
     "output_type": "execute_result"
    }
   ],
   "source": [
    "intervals = ['6h', '12h', '24h']\n",
    "get_correlations(df, ['Temperature (°c)', 'Cloud (%)', 'Pressure (mb)', 'Wind (km/h)', 'Gust (km/h)'], intervals, target='Next Rain (mm)')"
   ]
  },
  {
   "cell_type": "code",
   "execution_count": 15,
   "metadata": {},
   "outputs": [],
   "source": [
    "years = df.index.year.unique()"
   ]
  },
  {
   "cell_type": "code",
   "execution_count": null,
   "metadata": {},
   "outputs": [],
   "source": [
    "fig, axis = plt.subplots(len(years), figsize=(10, 6*len(years)))\n",
    "for i, year in enumerate(years):\n",
    "    year_df = df[df.index.year == year]\n",
    "    axis[i].bar(year_df.index.month, year_df['Rain (mm)'])\n",
    "    axis[i].set_title(f'Rainfall in {year}')\n",
    "    axis[i].set_xlabel('Month')\n",
    "    axis[i].set_ylabel('Rainfall (mm)')\n",
    "\n",
    "fig.tight_layout()\n",
    "plt.show()"
   ]
  }
 ],
 "metadata": {
  "kernelspec": {
   "display_name": "Python 3",
   "language": "python",
   "name": "python3"
  },
  "language_info": {
   "codemirror_mode": {
    "name": "ipython",
    "version": 3
   },
   "file_extension": ".py",
   "mimetype": "text/x-python",
   "name": "python",
   "nbconvert_exporter": "python",
   "pygments_lexer": "ipython3",
   "version": "3.10.12"
  }
 },
 "nbformat": 4,
 "nbformat_minor": 2
}
