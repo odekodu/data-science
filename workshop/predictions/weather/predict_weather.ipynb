{
 "cells": [
  {
   "cell_type": "markdown",
   "metadata": {},
   "source": [
    "# Weather Prediction\n",
    "\n",
    "## Introduction\n",
    "This is a weather prediction model using Ikorodu weather data.\n",
    "\n",
    "## Dependencies\n",
    "- Pandas\n",
    "- Matplotlib\n",
    "- Numpy\n",
    "- Seaborn\n",
    "- Sklearn\n"
   ]
  },
  {
   "cell_type": "code",
   "execution_count": 1,
   "metadata": {},
   "outputs": [],
   "source": [
    "import pandas as pd\n",
    "import matplotlib.pyplot as plt\n",
    "import numpy as np\n",
    "import seaborn as sns\n",
    "from sklearn.preprocessing import LabelEncoder, StandardScaler\n",
    "from sklearn.feature_extraction import DictVectorizer\n",
    "from sklearn.ensemble import RandomForestClassifier, RandomForestRegressor\n",
    "from sklearn.metrics import mean_squared_error, precision_score, accuracy_score\n"
   ]
  },
  {
   "cell_type": "code",
   "execution_count": 2,
   "metadata": {},
   "outputs": [],
   "source": [
    "df = pd.read_csv('../../../data/ikorodu_weather_2016_2024.csv')"
   ]
  },
  {
   "cell_type": "code",
   "execution_count": 3,
   "metadata": {},
   "outputs": [
    {
     "data": {
      "text/plain": [
       "(23360, 17)"
      ]
     },
     "execution_count": 3,
     "metadata": {},
     "output_type": "execute_result"
    }
   ],
   "source": [
    "df.shape"
   ]
  },
  {
   "cell_type": "code",
   "execution_count": 4,
   "metadata": {},
   "outputs": [
    {
     "data": {
      "text/html": [
       "<div>\n",
       "<style scoped>\n",
       "    .dataframe tbody tr th:only-of-type {\n",
       "        vertical-align: middle;\n",
       "    }\n",
       "\n",
       "    .dataframe tbody tr th {\n",
       "        vertical-align: top;\n",
       "    }\n",
       "\n",
       "    .dataframe thead th {\n",
       "        text-align: right;\n",
       "    }\n",
       "</style>\n",
       "<table border=\"1\" class=\"dataframe\">\n",
       "  <thead>\n",
       "    <tr style=\"text-align: right;\">\n",
       "      <th></th>\n",
       "      <th>Unnamed: 0</th>\n",
       "      <th>Time (hr)</th>\n",
       "      <th>Temperature (°c)</th>\n",
       "      <th>Forecast (°c)</th>\n",
       "      <th>Rain (mm)</th>\n",
       "      <th>Rain (%)</th>\n",
       "      <th>Cloud (%)</th>\n",
       "      <th>Pressure (mb)</th>\n",
       "      <th>Wind (km/h)</th>\n",
       "      <th>Gust (km/h)</th>\n",
       "      <th>Direction (deg)</th>\n",
       "      <th>Moonrise (hr)</th>\n",
       "      <th>Moonset (hr)</th>\n",
       "      <th>Sunrise (hr)</th>\n",
       "      <th>Sunset (hr)</th>\n",
       "      <th>Weather</th>\n",
       "      <th>Date</th>\n",
       "    </tr>\n",
       "  </thead>\n",
       "  <tbody>\n",
       "    <tr>\n",
       "      <th>0</th>\n",
       "      <td>0</td>\n",
       "      <td>0</td>\n",
       "      <td>25 °c</td>\n",
       "      <td>27 °c</td>\n",
       "      <td>0.1 mm</td>\n",
       "      <td>45%</td>\n",
       "      <td>87%</td>\n",
       "      <td>1013 mb</td>\n",
       "      <td>18 km/h</td>\n",
       "      <td>27 km/h</td>\n",
       "      <td>transform: rotate(225.3deg);</td>\n",
       "      <td>04:31 AM</td>\n",
       "      <td>05:17 PM</td>\n",
       "      <td>06:39 AM</td>\n",
       "      <td>06:53 PM</td>\n",
       "      <td>Light rain shower</td>\n",
       "      <td>31-08-2024</td>\n",
       "    </tr>\n",
       "    <tr>\n",
       "      <th>1</th>\n",
       "      <td>1</td>\n",
       "      <td>3</td>\n",
       "      <td>24 °c</td>\n",
       "      <td>26 °c</td>\n",
       "      <td>0.4 mm</td>\n",
       "      <td>100%</td>\n",
       "      <td>100%</td>\n",
       "      <td>1012 mb</td>\n",
       "      <td>19 km/h</td>\n",
       "      <td>28 km/h</td>\n",
       "      <td>transform: rotate(225.1deg);</td>\n",
       "      <td>04:31 AM</td>\n",
       "      <td>05:17 PM</td>\n",
       "      <td>06:39 AM</td>\n",
       "      <td>06:53 PM</td>\n",
       "      <td>Light rain shower</td>\n",
       "      <td>31-08-2024</td>\n",
       "    </tr>\n",
       "    <tr>\n",
       "      <th>2</th>\n",
       "      <td>2</td>\n",
       "      <td>6</td>\n",
       "      <td>24 °c</td>\n",
       "      <td>26 °c</td>\n",
       "      <td>0.3 mm</td>\n",
       "      <td>100%</td>\n",
       "      <td>100%</td>\n",
       "      <td>1013 mb</td>\n",
       "      <td>18 km/h</td>\n",
       "      <td>27 km/h</td>\n",
       "      <td>transform: rotate(230.1deg);</td>\n",
       "      <td>04:31 AM</td>\n",
       "      <td>05:17 PM</td>\n",
       "      <td>06:39 AM</td>\n",
       "      <td>06:53 PM</td>\n",
       "      <td>Light rain shower</td>\n",
       "      <td>31-08-2024</td>\n",
       "    </tr>\n",
       "    <tr>\n",
       "      <th>3</th>\n",
       "      <td>3</td>\n",
       "      <td>9</td>\n",
       "      <td>25 °c</td>\n",
       "      <td>28 °c</td>\n",
       "      <td>0.1 mm</td>\n",
       "      <td>45%</td>\n",
       "      <td>76%</td>\n",
       "      <td>1014 mb</td>\n",
       "      <td>21 km/h</td>\n",
       "      <td>28 km/h</td>\n",
       "      <td>transform: rotate(226.8deg);</td>\n",
       "      <td>04:31 AM</td>\n",
       "      <td>05:17 PM</td>\n",
       "      <td>06:39 AM</td>\n",
       "      <td>06:53 PM</td>\n",
       "      <td>Light rain shower</td>\n",
       "      <td>31-08-2024</td>\n",
       "    </tr>\n",
       "    <tr>\n",
       "      <th>4</th>\n",
       "      <td>4</td>\n",
       "      <td>12</td>\n",
       "      <td>27 °c</td>\n",
       "      <td>29 °c</td>\n",
       "      <td>0.0 mm</td>\n",
       "      <td>45%</td>\n",
       "      <td>61%</td>\n",
       "      <td>1014 mb</td>\n",
       "      <td>21 km/h</td>\n",
       "      <td>27 km/h</td>\n",
       "      <td>transform: rotate(229.2deg);</td>\n",
       "      <td>04:31 AM</td>\n",
       "      <td>05:17 PM</td>\n",
       "      <td>06:39 AM</td>\n",
       "      <td>06:53 PM</td>\n",
       "      <td>Light rain shower</td>\n",
       "      <td>31-08-2024</td>\n",
       "    </tr>\n",
       "  </tbody>\n",
       "</table>\n",
       "</div>"
      ],
      "text/plain": [
       "   Unnamed: 0  Time (hr) Temperature (°c) Forecast (°c) Rain (mm) Rain (%)  \\\n",
       "0           0          0            25 °c         27 °c    0.1 mm      45%   \n",
       "1           1          3            24 °c         26 °c    0.4 mm     100%   \n",
       "2           2          6            24 °c         26 °c    0.3 mm     100%   \n",
       "3           3          9            25 °c         28 °c    0.1 mm      45%   \n",
       "4           4         12            27 °c         29 °c    0.0 mm      45%   \n",
       "\n",
       "  Cloud (%) Pressure (mb) Wind (km/h) Gust (km/h)  \\\n",
       "0       87%       1013 mb     18 km/h     27 km/h   \n",
       "1      100%       1012 mb     19 km/h     28 km/h   \n",
       "2      100%       1013 mb     18 km/h     27 km/h   \n",
       "3       76%       1014 mb     21 km/h     28 km/h   \n",
       "4       61%       1014 mb     21 km/h     27 km/h   \n",
       "\n",
       "                Direction (deg) Moonrise (hr) Moonset (hr) Sunrise (hr)  \\\n",
       "0  transform: rotate(225.3deg);      04:31 AM     05:17 PM     06:39 AM   \n",
       "1  transform: rotate(225.1deg);      04:31 AM     05:17 PM     06:39 AM   \n",
       "2  transform: rotate(230.1deg);      04:31 AM     05:17 PM     06:39 AM   \n",
       "3  transform: rotate(226.8deg);      04:31 AM     05:17 PM     06:39 AM   \n",
       "4  transform: rotate(229.2deg);      04:31 AM     05:17 PM     06:39 AM   \n",
       "\n",
       "  Sunset (hr)            Weather        Date  \n",
       "0    06:53 PM  Light rain shower  31-08-2024  \n",
       "1    06:53 PM  Light rain shower  31-08-2024  \n",
       "2    06:53 PM  Light rain shower  31-08-2024  \n",
       "3    06:53 PM  Light rain shower  31-08-2024  \n",
       "4    06:53 PM  Light rain shower  31-08-2024  "
      ]
     },
     "execution_count": 4,
     "metadata": {},
     "output_type": "execute_result"
    }
   ],
   "source": [
    "df.head()"
   ]
  },
  {
   "cell_type": "code",
   "execution_count": 5,
   "metadata": {},
   "outputs": [
    {
     "data": {
      "text/plain": [
       "Index(['Unnamed: 0', 'Time (hr)', 'Temperature (°c)', 'Forecast (°c)',\n",
       "       'Rain (mm)', 'Rain (%)', 'Cloud (%)', 'Pressure (mb)', 'Wind (km/h)',\n",
       "       'Gust (km/h)', 'Direction (deg)', 'Moonrise (hr)', 'Moonset (hr)',\n",
       "       'Sunrise (hr)', 'Sunset (hr)', 'Weather', 'Date'],\n",
       "      dtype='object')"
      ]
     },
     "execution_count": 5,
     "metadata": {},
     "output_type": "execute_result"
    }
   ],
   "source": [
    "df.columns"
   ]
  },
  {
   "cell_type": "markdown",
   "metadata": {},
   "source": [
    "# Data Preprocessing"
   ]
  },
  {
   "cell_type": "code",
   "execution_count": 208,
   "metadata": {},
   "outputs": [],
   "source": [
    "# Forcast (°c)\n",
    "forcast_scaler = StandardScaler()\n",
    "df['forecast_normalized'] = forcast_scaler.fit_transform(df['Forecast (°c)'].values.reshape(-1, 1))"
   ]
  },
  {
   "cell_type": "code",
   "execution_count": 209,
   "metadata": {},
   "outputs": [],
   "source": [
    "# Weather\n",
    "weather_encoder = LabelEncoder()\n",
    "df['weather_condition'] = weather_encoder.fit_transform(df['Weather'])"
   ]
  },
  {
   "cell_type": "code",
   "execution_count": 210,
   "metadata": {},
   "outputs": [],
   "source": [
    "# Temperature (°c)\n",
    "temperature_scaler = StandardScaler()\n",
    "df['temp_normalized'] = temperature_scaler.fit_transform(df['Temperature (°c)'].values.reshape(-1, 1))"
   ]
  },
  {
   "cell_type": "code",
   "execution_count": 211,
   "metadata": {},
   "outputs": [],
   "source": [
    "# Wind (km/h)\n",
    "wind_scaler = StandardScaler()\n",
    "df['wind_speed_normalized'] = wind_scaler.fit_transform(df['Wind (km/h)'].values.reshape(-1, 1))"
   ]
  },
  {
   "cell_type": "code",
   "execution_count": 212,
   "metadata": {},
   "outputs": [],
   "source": [
    "# Cloud (%)\n",
    "cloud_scaler = StandardScaler()\n",
    "df['cloud_cover_scaled'] = cloud_scaler.fit_transform(df['Cloud (%)'].values.reshape(-1, 1))\n"
   ]
  },
  {
   "cell_type": "code",
   "execution_count": 213,
   "metadata": {},
   "outputs": [],
   "source": [
    "# Pressure (mb)\n",
    "pressure_scaler = StandardScaler()\n",
    "df['pressure_normalized'] = pressure_scaler.fit_transform(df['Pressure (mb)'].values.reshape(-1, 1))"
   ]
  },
  {
   "cell_type": "code",
   "execution_count": 214,
   "metadata": {},
   "outputs": [],
   "source": [
    "# Rain (mm)\n",
    "rain_scaler = StandardScaler()\n",
    "df['rainfall_scaled'] = rain_scaler.fit_transform(df['Rain (mm)'].values.reshape(-1, 1))"
   ]
  },
  {
   "cell_type": "code",
   "execution_count": 215,
   "metadata": {},
   "outputs": [],
   "source": [
    "# Rain (%)\n",
    "rain_percent_scaler = StandardScaler()\n",
    "df['rain_probability_scaled'] = rain_percent_scaler.fit_transform(df['Rain (%)'].values.reshape(-1, 1))"
   ]
  },
  {
   "cell_type": "code",
   "execution_count": 216,
   "metadata": {},
   "outputs": [],
   "source": [
    "# Time (hr)\n",
    "time_scaler = StandardScaler()\n",
    "df['time_of_day_normalized'] = time_scaler.fit_transform(df['Time (hr)'].values.reshape(-1, 1))"
   ]
  },
  {
   "cell_type": "code",
   "execution_count": 217,
   "metadata": {},
   "outputs": [],
   "source": [
    "# Gust (km/h)\n",
    "gust_scaler = StandardScaler()\n",
    "df['gust_speed_scaled'] = gust_scaler.fit_transform(df['Gust (km/h)'].values.reshape(-1, 1))"
   ]
  },
  {
   "cell_type": "code",
   "execution_count": 218,
   "metadata": {},
   "outputs": [],
   "source": [
    "# Gust (km/h)\n",
    "direction_scaler = StandardScaler()\n",
    "df['direction_scaled'] = direction_scaler.fit_transform(df['Direction (deg)'].values.reshape(-1, 1))"
   ]
  },
  {
   "cell_type": "code",
   "execution_count": 219,
   "metadata": {},
   "outputs": [],
   "source": [
    "# Date\n",
    "date_encoder = DictVectorizer()\n",
    "date_features = date_encoder.fit_transform(df['Date'].apply(lambda x: {'year': x.year, 'month': x.month, 'day': x.day}))\n",
    "df = pd.concat([df, pd.DataFrame(date_features.toarray(), columns=['day', 'month', 'year'])], axis=1)"
   ]
  },
  {
   "cell_type": "code",
   "execution_count": 220,
   "metadata": {},
   "outputs": [],
   "source": [
    "# Moonrise\n",
    "moonrise_scaler = StandardScaler()\n",
    "df['moonrise_normalized'] = moonrise_scaler.fit_transform(df['Moonrise (min)'].values.reshape(-1, 1))"
   ]
  },
  {
   "cell_type": "code",
   "execution_count": 221,
   "metadata": {},
   "outputs": [],
   "source": [
    "# Moonset\n",
    "moonset_scaler = StandardScaler()\n",
    "df['moonset_normalized'] = moonset_scaler.fit_transform(df['Moonset (min)'].values.reshape(-1, 1))"
   ]
  },
  {
   "cell_type": "code",
   "execution_count": 222,
   "metadata": {},
   "outputs": [],
   "source": [
    "# Sunrise\n",
    "sunrise_scaler = StandardScaler()\n",
    "df['sunrise_normalized'] = sunrise_scaler.fit_transform(df['Sunrise (min)'].values.reshape(-1, 1))"
   ]
  },
  {
   "cell_type": "code",
   "execution_count": 223,
   "metadata": {},
   "outputs": [],
   "source": [
    "# Sunset\n",
    "sunset_scaler = StandardScaler()\n",
    "df['sunset_normalized'] = sunset_scaler.fit_transform(df['Sunset (min)'].values.reshape(-1, 1))"
   ]
  },
  {
   "cell_type": "code",
   "execution_count": 224,
   "metadata": {},
   "outputs": [
    {
     "data": {
      "text/html": [
       "<div>\n",
       "<style scoped>\n",
       "    .dataframe tbody tr th:only-of-type {\n",
       "        vertical-align: middle;\n",
       "    }\n",
       "\n",
       "    .dataframe tbody tr th {\n",
       "        vertical-align: top;\n",
       "    }\n",
       "\n",
       "    .dataframe thead th {\n",
       "        text-align: right;\n",
       "    }\n",
       "</style>\n",
       "<table border=\"1\" class=\"dataframe\">\n",
       "  <thead>\n",
       "    <tr style=\"text-align: right;\">\n",
       "      <th></th>\n",
       "      <th>Time (hr)</th>\n",
       "      <th>Temperature (°c)</th>\n",
       "      <th>Forecast (°c)</th>\n",
       "      <th>Rain (mm)</th>\n",
       "      <th>Rain (%)</th>\n",
       "      <th>Cloud (%)</th>\n",
       "      <th>Pressure (mb)</th>\n",
       "      <th>Wind (km/h)</th>\n",
       "      <th>Gust (km/h)</th>\n",
       "      <th>Direction (deg)</th>\n",
       "      <th>...</th>\n",
       "      <th>time_of_day_normalized</th>\n",
       "      <th>gust_speed_scaled</th>\n",
       "      <th>direction_scaled</th>\n",
       "      <th>day</th>\n",
       "      <th>month</th>\n",
       "      <th>year</th>\n",
       "      <th>moonrise_normalized</th>\n",
       "      <th>moonset_normalized</th>\n",
       "      <th>sunrise_normalized</th>\n",
       "      <th>sunset_normalized</th>\n",
       "    </tr>\n",
       "  </thead>\n",
       "  <tbody>\n",
       "    <tr>\n",
       "      <th>0</th>\n",
       "      <td>0</td>\n",
       "      <td>25</td>\n",
       "      <td>27</td>\n",
       "      <td>0.1</td>\n",
       "      <td>45.0</td>\n",
       "      <td>87.0</td>\n",
       "      <td>1013.0</td>\n",
       "      <td>18.0</td>\n",
       "      <td>27.0</td>\n",
       "      <td>225.3</td>\n",
       "      <td>...</td>\n",
       "      <td>-1.527525</td>\n",
       "      <td>1.181843</td>\n",
       "      <td>0.151091</td>\n",
       "      <td>31.0</td>\n",
       "      <td>8.0</td>\n",
       "      <td>2024.0</td>\n",
       "      <td>-1.230083</td>\n",
       "      <td>0.617203</td>\n",
       "      <td>-0.280207</td>\n",
       "      <td>0.268626</td>\n",
       "    </tr>\n",
       "    <tr>\n",
       "      <th>1</th>\n",
       "      <td>3</td>\n",
       "      <td>24</td>\n",
       "      <td>26</td>\n",
       "      <td>0.4</td>\n",
       "      <td>100.0</td>\n",
       "      <td>100.0</td>\n",
       "      <td>1012.0</td>\n",
       "      <td>19.0</td>\n",
       "      <td>28.0</td>\n",
       "      <td>225.1</td>\n",
       "      <td>...</td>\n",
       "      <td>-1.091089</td>\n",
       "      <td>1.347149</td>\n",
       "      <td>0.145622</td>\n",
       "      <td>31.0</td>\n",
       "      <td>8.0</td>\n",
       "      <td>2024.0</td>\n",
       "      <td>-1.230083</td>\n",
       "      <td>0.617203</td>\n",
       "      <td>-0.280207</td>\n",
       "      <td>0.268626</td>\n",
       "    </tr>\n",
       "    <tr>\n",
       "      <th>2</th>\n",
       "      <td>6</td>\n",
       "      <td>24</td>\n",
       "      <td>26</td>\n",
       "      <td>0.3</td>\n",
       "      <td>100.0</td>\n",
       "      <td>100.0</td>\n",
       "      <td>1013.0</td>\n",
       "      <td>18.0</td>\n",
       "      <td>27.0</td>\n",
       "      <td>230.1</td>\n",
       "      <td>...</td>\n",
       "      <td>-0.654654</td>\n",
       "      <td>1.181843</td>\n",
       "      <td>0.282350</td>\n",
       "      <td>31.0</td>\n",
       "      <td>8.0</td>\n",
       "      <td>2024.0</td>\n",
       "      <td>-1.230083</td>\n",
       "      <td>0.617203</td>\n",
       "      <td>-0.280207</td>\n",
       "      <td>0.268626</td>\n",
       "    </tr>\n",
       "    <tr>\n",
       "      <th>3</th>\n",
       "      <td>9</td>\n",
       "      <td>25</td>\n",
       "      <td>28</td>\n",
       "      <td>0.1</td>\n",
       "      <td>45.0</td>\n",
       "      <td>76.0</td>\n",
       "      <td>1014.0</td>\n",
       "      <td>21.0</td>\n",
       "      <td>28.0</td>\n",
       "      <td>226.8</td>\n",
       "      <td>...</td>\n",
       "      <td>-0.218218</td>\n",
       "      <td>1.347149</td>\n",
       "      <td>0.192110</td>\n",
       "      <td>31.0</td>\n",
       "      <td>8.0</td>\n",
       "      <td>2024.0</td>\n",
       "      <td>-1.230083</td>\n",
       "      <td>0.617203</td>\n",
       "      <td>-0.280207</td>\n",
       "      <td>0.268626</td>\n",
       "    </tr>\n",
       "    <tr>\n",
       "      <th>4</th>\n",
       "      <td>12</td>\n",
       "      <td>27</td>\n",
       "      <td>29</td>\n",
       "      <td>0.0</td>\n",
       "      <td>45.0</td>\n",
       "      <td>61.0</td>\n",
       "      <td>1014.0</td>\n",
       "      <td>21.0</td>\n",
       "      <td>27.0</td>\n",
       "      <td>229.2</td>\n",
       "      <td>...</td>\n",
       "      <td>0.218218</td>\n",
       "      <td>1.181843</td>\n",
       "      <td>0.257739</td>\n",
       "      <td>31.0</td>\n",
       "      <td>8.0</td>\n",
       "      <td>2024.0</td>\n",
       "      <td>-1.230083</td>\n",
       "      <td>0.617203</td>\n",
       "      <td>-0.280207</td>\n",
       "      <td>0.268626</td>\n",
       "    </tr>\n",
       "  </tbody>\n",
       "</table>\n",
       "<p>5 rows × 39 columns</p>\n",
       "</div>"
      ],
      "text/plain": [
       "   Time (hr)  Temperature (°c)  Forecast (°c)  Rain (mm)  Rain (%)  Cloud (%)  \\\n",
       "0          0                25             27        0.1      45.0       87.0   \n",
       "1          3                24             26        0.4     100.0      100.0   \n",
       "2          6                24             26        0.3     100.0      100.0   \n",
       "3          9                25             28        0.1      45.0       76.0   \n",
       "4         12                27             29        0.0      45.0       61.0   \n",
       "\n",
       "   Pressure (mb)  Wind (km/h)  Gust (km/h)  Direction (deg)  ...  \\\n",
       "0         1013.0         18.0         27.0            225.3  ...   \n",
       "1         1012.0         19.0         28.0            225.1  ...   \n",
       "2         1013.0         18.0         27.0            230.1  ...   \n",
       "3         1014.0         21.0         28.0            226.8  ...   \n",
       "4         1014.0         21.0         27.0            229.2  ...   \n",
       "\n",
       "  time_of_day_normalized gust_speed_scaled direction_scaled   day month  \\\n",
       "0              -1.527525          1.181843         0.151091  31.0   8.0   \n",
       "1              -1.091089          1.347149         0.145622  31.0   8.0   \n",
       "2              -0.654654          1.181843         0.282350  31.0   8.0   \n",
       "3              -0.218218          1.347149         0.192110  31.0   8.0   \n",
       "4               0.218218          1.181843         0.257739  31.0   8.0   \n",
       "\n",
       "     year  moonrise_normalized  moonset_normalized  sunrise_normalized  \\\n",
       "0  2024.0            -1.230083            0.617203           -0.280207   \n",
       "1  2024.0            -1.230083            0.617203           -0.280207   \n",
       "2  2024.0            -1.230083            0.617203           -0.280207   \n",
       "3  2024.0            -1.230083            0.617203           -0.280207   \n",
       "4  2024.0            -1.230083            0.617203           -0.280207   \n",
       "\n",
       "   sunset_normalized  \n",
       "0           0.268626  \n",
       "1           0.268626  \n",
       "2           0.268626  \n",
       "3           0.268626  \n",
       "4           0.268626  \n",
       "\n",
       "[5 rows x 39 columns]"
      ]
     },
     "execution_count": 224,
     "metadata": {},
     "output_type": "execute_result"
    }
   ],
   "source": [
    "df.head()"
   ]
  },
  {
   "cell_type": "markdown",
   "metadata": {},
   "source": [
    "### Create Prediction Models"
   ]
  },
  {
   "cell_type": "code",
   "execution_count": 225,
   "metadata": {},
   "outputs": [],
   "source": [
    "rfr = RandomForestRegressor(n_estimators= 200, min_samples_split= 10, random_state= 1)"
   ]
  },
  {
   "cell_type": "code",
   "execution_count": 226,
   "metadata": {},
   "outputs": [],
   "source": [
    "rfc = RandomForestClassifier(n_estimators= 300, min_samples_split= 10, random_state= 1)"
   ]
  },
  {
   "cell_type": "code",
   "execution_count": 227,
   "metadata": {},
   "outputs": [],
   "source": [
    "def predict_category(data, target, predictors, features):\n",
    "    # split the data into train and test sets\n",
    "    train = data[data['Date'] < '2022-09-01']\n",
    "    test = data[data['Date'] >= '2022-09-01']\n",
    "\n",
    "    # fit the model\n",
    "    rfc.fit(train[predictors], train[target])\n",
    "\n",
    "    # make prediction\n",
    "    prediction = rfc.predict(test[predictors])\n",
    "\n",
    "    # combine actual and predicted values into a dataframe\n",
    "    combined = pd.DataFrame(dict(actual= test[target], prediction=prediction))\n",
    "\n",
    "    # add feature columns to the combined dataframe\n",
    "    combined = combined.merge(data[features], left_index= True, right_index= True)\n",
    "\n",
    "    # get model accuracy\n",
    "    accuracy = accuracy_score(test[target], prediction)\n",
    "\n",
    "    # get model precision\n",
    "    precision = precision_score(test[target], prediction, average= 'micro')\n",
    "    \n",
    "    return combined, precision, accuracy"
   ]
  },
  {
   "cell_type": "code",
   "execution_count": 255,
   "metadata": {},
   "outputs": [],
   "source": [
    "def rolling_averges(group: pd.Grouper, cols, new_cols, n):\n",
    "    # sort the group by date\n",
    "    group = group.sort_values('Date')\n",
    "\n",
    "    # get the average of the passed n days\n",
    "    rolling_stats = group[cols].rolling(n, closed='left').mean()\n",
    "\n",
    "    group[new_cols] = rolling_stats\n",
    "\n",
    "    # drop subsets with no averages\n",
    "    group = group.dropna(subset=new_cols)\n",
    "    \n",
    "    return group"
   ]
  },
  {
   "cell_type": "code",
   "execution_count": 256,
   "metadata": {},
   "outputs": [],
   "source": [
    "# Gust (km/h)\n",
    "gust_scaler = StandardScaler()\n",
    "df['gust_speed_scaled'] = gust_scaler.fit_transform(df['Gust (km/h)'].values.reshape(-1, 1))"
   ]
  },
  {
   "cell_type": "code",
   "execution_count": 257,
   "metadata": {},
   "outputs": [],
   "source": [
    "# Gust (km/h)\n",
    "gust_scaler = StandardScaler()\n",
    "df['gust_speed_scaled'] = gust_scaler.fit_transform(df['Gust (km/h)'].values.reshape(-1, 1))"
   ]
  },
  {
   "cell_type": "code",
   "execution_count": 258,
   "metadata": {},
   "outputs": [],
   "source": [
    "def get_rolling_averages(df, rolling, n):\n",
    "    rolled = [f'{c.lower()}_rolling' for c in rolling]\n",
    "    rolling_df = df.groupby('year').apply(lambda x: rolling_averges(x, rolling, rolled, n))\n",
    "    rolling_df.index = rolling_df.index.droplevel(0)\n",
    "    rolling_df.index = range(rolling_df.shape[0])\n",
    "    \n",
    "    return rolling_df, rolled"
   ]
  },
  {
   "cell_type": "markdown",
   "metadata": {},
   "source": [
    "### Predict if it rained or not"
   ]
  },
  {
   "cell_type": "code",
   "execution_count": 259,
   "metadata": {},
   "outputs": [],
   "source": [
    "rain_df = df.copy()"
   ]
  },
  {
   "cell_type": "code",
   "execution_count": 260,
   "metadata": {},
   "outputs": [
    {
     "data": {
      "text/plain": [
       "Index(['Time (hr)', 'Temperature (°c)', 'Forecast (°c)', 'Rain (mm)',\n",
       "       'Rain (%)', 'Cloud (%)', 'Pressure (mb)', 'Wind (km/h)', 'Gust (km/h)',\n",
       "       'Direction (deg)', 'Moonrise (hr)', 'Moonset (hr)', 'Sunrise (hr)',\n",
       "       'Sunset (hr)', 'Weather', 'Date', 'Moonrise (min)', 'Moonset (min)',\n",
       "       'Sunrise (min)', 'Sunset (min)', 'Season', 'forecast_normalized',\n",
       "       'weather_condition', 'temp_normalized', 'wind_speed_normalized',\n",
       "       'cloud_cover_scaled', 'pressure_normalized', 'rainfall_scaled',\n",
       "       'rain_probability_scaled', 'time_of_day_normalized',\n",
       "       'gust_speed_scaled', 'direction_scaled', 'day', 'month', 'year',\n",
       "       'moonrise_normalized', 'moonset_normalized', 'sunrise_normalized',\n",
       "       'sunset_normalized'],\n",
       "      dtype='object')"
      ]
     },
     "execution_count": 260,
     "metadata": {},
     "output_type": "execute_result"
    }
   ],
   "source": [
    "rain_df.columns"
   ]
  },
  {
   "cell_type": "code",
   "execution_count": 261,
   "metadata": {},
   "outputs": [],
   "source": [
    "rain_df['rained'] = (rain_df['Rain (mm)'] > 0 ).astype(int)"
   ]
  },
  {
   "cell_type": "code",
   "execution_count": 262,
   "metadata": {},
   "outputs": [],
   "source": [
    "rain_features = [\n",
    "'Time (hr)',\n",
    "'Temperature (°c)',\n",
    "'Forecast (°c)',\n",
    "'Rain (mm)',\n",
    "'Rain (%)',\n",
    "'Cloud (%)',\n",
    "'Pressure (mb)',\n",
    "'Wind (km/h)',\n",
    "'Gust (km/h)',\n",
    "'Direction (deg)',\n",
    "'Moonrise (hr)',\n",
    "'Moonset (hr)',\n",
    "'Sunrise (hr)',\n",
    "'Sunset (hr)',\n",
    "'Weather',\n",
    "'Date',\n",
    "'Moonrise (min)',\n",
    "'Moonset (min)',\n",
    "'Sunrise (min)',\n",
    "'Sunset (min)',\n",
    "'Season',\n",
    "]"
   ]
  },
  {
   "cell_type": "code",
   "execution_count": 263,
   "metadata": {},
   "outputs": [],
   "source": [
    "# Define predictors\n",
    "rain_predictors = [\n",
    "'forecast_normalized', \n",
    "'weather_condition', \n",
    "'temp_normalized', \n",
    "'wind_speed_normalized', \n",
    "'cloud_cover_scaled', \n",
    "'pressure_normalized', \n",
    "'gust_speed_scaled', \n",
    "'direction_scaled',\n",
    "'rain_probability_scaled'\n",
    "]"
   ]
  },
  {
   "cell_type": "code",
   "execution_count": 264,
   "metadata": {},
   "outputs": [],
   "source": [
    "sc_combined, sc_precision, sc_accuracy = predict_category(rain_df, 'rained', rain_predictors, rain_features)"
   ]
  },
  {
   "cell_type": "code",
   "execution_count": 265,
   "metadata": {},
   "outputs": [
    {
     "data": {
      "text/html": [
       "<div>\n",
       "<style scoped>\n",
       "    .dataframe tbody tr th:only-of-type {\n",
       "        vertical-align: middle;\n",
       "    }\n",
       "\n",
       "    .dataframe tbody tr th {\n",
       "        vertical-align: top;\n",
       "    }\n",
       "\n",
       "    .dataframe thead th {\n",
       "        text-align: right;\n",
       "    }\n",
       "</style>\n",
       "<table border=\"1\" class=\"dataframe\">\n",
       "  <thead>\n",
       "    <tr style=\"text-align: right;\">\n",
       "      <th>prediction</th>\n",
       "      <th>0</th>\n",
       "      <th>1</th>\n",
       "    </tr>\n",
       "    <tr>\n",
       "      <th>actual</th>\n",
       "      <th></th>\n",
       "      <th></th>\n",
       "    </tr>\n",
       "  </thead>\n",
       "  <tbody>\n",
       "    <tr>\n",
       "      <th>0</th>\n",
       "      <td>4021</td>\n",
       "      <td>0</td>\n",
       "    </tr>\n",
       "    <tr>\n",
       "      <th>1</th>\n",
       "      <td>140</td>\n",
       "      <td>1687</td>\n",
       "    </tr>\n",
       "  </tbody>\n",
       "</table>\n",
       "</div>"
      ],
      "text/plain": [
       "prediction     0     1\n",
       "actual                \n",
       "0           4021     0\n",
       "1            140  1687"
      ]
     },
     "execution_count": 265,
     "metadata": {},
     "output_type": "execute_result"
    }
   ],
   "source": [
    "pd.crosstab(index=sc_combined['actual'], columns= sc_combined['prediction'])"
   ]
  },
  {
   "cell_type": "code",
   "execution_count": 266,
   "metadata": {},
   "outputs": [
    {
     "data": {
      "text/plain": [
       "0.9760601915184679"
      ]
     },
     "execution_count": 266,
     "metadata": {},
     "output_type": "execute_result"
    }
   ],
   "source": [
    "sc_precision"
   ]
  },
  {
   "cell_type": "code",
   "execution_count": 267,
   "metadata": {},
   "outputs": [],
   "source": [
    "rain_rolling = [\n",
    "    'forecast_normalized', \n",
    "    'weather_condition', \n",
    "    'temp_normalized', \n",
    "    'wind_speed_normalized', \n",
    "    'cloud_cover_scaled', \n",
    "    'pressure_normalized', \n",
    "    'gust_speed_scaled', \n",
    "    'direction_scaled',\n",
    "    'rain_probability_scaled'\n",
    " ]"
   ]
  },
  {
   "cell_type": "code",
   "execution_count": 268,
   "metadata": {},
   "outputs": [
    {
     "name": "stderr",
     "output_type": "stream",
     "text": [
      "/var/folders/bj/t8_jdq_92dvc7m96_2p7qkym0000gn/T/ipykernel_6235/834314203.py:3: DeprecationWarning: DataFrameGroupBy.apply operated on the grouping columns. This behavior is deprecated, and in a future version of pandas the grouping columns will be excluded from the operation. Either pass `include_groups=False` to exclude the groupings or explicitly select the grouping columns after groupby to silence this warning.\n",
      "  rolling_df = df.groupby('year').apply(lambda x: rolling_averges(x, rolling, rolled, n))\n"
     ]
    }
   ],
   "source": [
    "rain_df_rolling, rain_rolled = get_rolling_averages(df=rain_df, rolling=rain_rolling, n=8)"
   ]
  },
  {
   "cell_type": "code",
   "execution_count": 269,
   "metadata": {},
   "outputs": [],
   "source": [
    "sc_rolled_combined, sc_rolled_precision, sc_rolled_accuracy = predict_category(rain_df_rolling, 'rained', rain_predictors + rain_rolled, rain_features)"
   ]
  },
  {
   "cell_type": "code",
   "execution_count": 270,
   "metadata": {},
   "outputs": [
    {
     "data": {
      "text/plain": [
       "0.97599451303155"
      ]
     },
     "execution_count": 270,
     "metadata": {},
     "output_type": "execute_result"
    }
   ],
   "source": [
    "sc_rolled_precision"
   ]
  },
  {
   "cell_type": "code",
   "execution_count": 271,
   "metadata": {},
   "outputs": [
    {
     "data": {
      "text/html": [
       "<div>\n",
       "<style scoped>\n",
       "    .dataframe tbody tr th:only-of-type {\n",
       "        vertical-align: middle;\n",
       "    }\n",
       "\n",
       "    .dataframe tbody tr th {\n",
       "        vertical-align: top;\n",
       "    }\n",
       "\n",
       "    .dataframe thead th {\n",
       "        text-align: right;\n",
       "    }\n",
       "</style>\n",
       "<table border=\"1\" class=\"dataframe\">\n",
       "  <thead>\n",
       "    <tr style=\"text-align: right;\">\n",
       "      <th>prediction</th>\n",
       "      <th>0</th>\n",
       "      <th>1</th>\n",
       "    </tr>\n",
       "    <tr>\n",
       "      <th>actual</th>\n",
       "      <th></th>\n",
       "      <th></th>\n",
       "    </tr>\n",
       "  </thead>\n",
       "  <tbody>\n",
       "    <tr>\n",
       "      <th>0</th>\n",
       "      <td>4005</td>\n",
       "      <td>0</td>\n",
       "    </tr>\n",
       "    <tr>\n",
       "      <th>1</th>\n",
       "      <td>140</td>\n",
       "      <td>1687</td>\n",
       "    </tr>\n",
       "  </tbody>\n",
       "</table>\n",
       "</div>"
      ],
      "text/plain": [
       "prediction     0     1\n",
       "actual                \n",
       "0           4005     0\n",
       "1            140  1687"
      ]
     },
     "execution_count": 271,
     "metadata": {},
     "output_type": "execute_result"
    }
   ],
   "source": [
    "pd.crosstab(index=sc_rolled_combined['actual'], columns= sc_rolled_combined['prediction'])"
   ]
  },
  {
   "cell_type": "code",
   "execution_count": null,
   "metadata": {},
   "outputs": [],
   "source": []
  }
 ],
 "metadata": {
  "kernelspec": {
   "display_name": "Python 3",
   "language": "python",
   "name": "python3"
  },
  "language_info": {
   "codemirror_mode": {
    "name": "ipython",
    "version": 3
   },
   "file_extension": ".py",
   "mimetype": "text/x-python",
   "name": "python",
   "nbconvert_exporter": "python",
   "pygments_lexer": "ipython3",
   "version": "3.10.12"
  }
 },
 "nbformat": 4,
 "nbformat_minor": 2
}
