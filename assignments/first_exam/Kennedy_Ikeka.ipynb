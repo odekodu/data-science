{
 "cells": [
  {
   "cell_type": "code",
   "execution_count": 79,
   "metadata": {},
   "outputs": [],
   "source": [
    "# Exam Project for the Karatu Session\n",
    "import pandas as pd\n",
    "\n",
    "# The path to the csv used for this project\n",
    "csv_link = 'titanic.csv'"
   ]
  },
  {
   "cell_type": "code",
   "execution_count": 80,
   "metadata": {},
   "outputs": [],
   "source": [
    "# This function reads a dataset from a csv url\n",
    "def read_data():\n",
    "    # Notify user when the dataset file is not in the specified file path\n",
    "    titanic_df = pd.DataFrame()\n",
    "    try:\n",
    "        titanic_df = pd.read_csv(csv_link)\n",
    "    except FileNotFoundError:\n",
    "        print('File not found, Please make sure the file exist and try again')\n",
    "\n",
    "    return titanic_df"
   ]
  },
  {
   "cell_type": "code",
   "execution_count": 81,
   "metadata": {},
   "outputs": [],
   "source": [
    "# This function gets the number of missing values in each column in the dataset\n",
    "def sum_missing():\n",
    "    # read the data set into a pandas Dataframe\n",
    "    df = read_data()\n",
    "\n",
    "    # Get the length of the Dataframe\n",
    "    df_length = len(df)\n",
    "\n",
    "    # Get the number of missing values in each column in the dataset\n",
    "    missing = [df_length - df[x].count() for x in df.columns]\n",
    "\n",
    "    # Convert the missing list into a pandas Series\n",
    "    missing_series = pd.Series(missing, index=df.columns)\n",
    "\n",
    "    return missing_series\n"
   ]
  },
  {
   "cell_type": "code",
   "execution_count": 82,
   "metadata": {},
   "outputs": [],
   "source": [
    "# This function checks for columns that have duplicate values in the dataset.\n",
    "def check_duplicates ():\n",
    "    # read the data set into a pandas Dataframe\n",
    "    df = read_data()\n",
    "\n",
    "    # Check if each column in the dataset has a duplicated value\n",
    "    duplicates = { x: [a for a in df[x].duplicated()].count(True) > 0 for x in df.columns }\n",
    "\n",
    "    return duplicates"
   ]
  }
 ],
 "metadata": {
  "kernelspec": {
   "display_name": "Python 3",
   "language": "python",
   "name": "python3"
  },
  "language_info": {
   "codemirror_mode": {
    "name": "ipython",
    "version": 3
   },
   "file_extension": ".py",
   "mimetype": "text/x-python",
   "name": "python",
   "nbconvert_exporter": "python",
   "pygments_lexer": "ipython3",
   "version": "3.10.12"
  }
 },
 "nbformat": 4,
 "nbformat_minor": 2
}
