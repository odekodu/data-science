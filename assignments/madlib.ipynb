{
 "cells": [
  {
   "cell_type": "code",
   "execution_count": 13,
   "metadata": {},
   "outputs": [
    {
     "name": "stdout",
     "output_type": "stream",
     "text": [
      "In a land so 2, where the skies are clear\n",
      "\n"
     ]
    }
   ],
   "source": [
    "import json    \n",
    "\n",
    "run = True\n",
    "while run:\n",
    "    # a dictionary of the parts of speech\n",
    "    parts_of_speech = { '[a]': 'adjective', '[e]': 'emotion', '[n]': 'noun', '[b]': 'adverb', '[v]': 'verb' }\n",
    "    key_start = '['\n",
    "    key_end = ']'\n",
    "    story = ''\n",
    "\n",
    "    # Read poem from external json file\n",
    "    data = open('madlib.data.json')\n",
    "    # load poem \n",
    "    sentences = json.load(data)\n",
    "\n",
    "    # close file\n",
    "    data.close()\n",
    "\n",
    "    # get the number of lines a user wants to play\n",
    "    count = int(input(\"Enter length of story (1 - 8) lines: \"))\n",
    "\n",
    "    # set boundaries for max and min number of lines\n",
    "    if (count > len(sentences) or count < 1):\n",
    "\n",
    "        # make the length of the poem the default number of lines\n",
    "        count = len(sentences)\n",
    "\n",
    "    # loop through poem and replace the 'parts_of_speech' keys\n",
    "    for line in sentences:\n",
    "        # get the index of the key start and end\n",
    "        key_start_index = line.find(key_start)\n",
    "        key_end_index = line.find(key_end) + 1\n",
    "\n",
    "        # extract the key from the line of text\n",
    "        key = line[key_start_index:key_end_index]\n",
    "\n",
    "        speech = parts_of_speech[key]\n",
    "        # prompt user to enter the word for the part_of_speech\n",
    "        word = input(f'Enter {speech}')\n",
    "\n",
    "        # replace key with the word the user entered.\n",
    "        line = line[:key_start_index] + word + line[key_end_index:]\n",
    "\n",
    "        story += f'{line}\\n'\n",
    "        count -= 1\n",
    "\n",
    "        # check for when the number of lines user wants to see is met\n",
    "        if (not count):\n",
    "            break\n",
    "\n",
    "    print(story)\n",
    "    \n",
    "    answer = input('Do you want to try again? (y/n)')\n",
    "    run = answer == 'y'"
   ]
  }
 ],
 "metadata": {
  "kernelspec": {
   "display_name": "Python 3",
   "language": "python",
   "name": "python3"
  },
  "language_info": {
   "codemirror_mode": {
    "name": "ipython",
    "version": 3
   },
   "file_extension": ".py",
   "mimetype": "text/x-python",
   "name": "python",
   "nbconvert_exporter": "python",
   "pygments_lexer": "ipython3",
   "version": "3.10.12"
  }
 },
 "nbformat": 4,
 "nbformat_minor": 2
}
