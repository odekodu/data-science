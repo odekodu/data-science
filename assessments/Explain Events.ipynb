{
 "cells": [
  {
   "cell_type": "markdown",
   "metadata": {},
   "source": [
    "### Explaining Events (Probability) in the simpliest terms."
   ]
  },
  {
   "cell_type": "markdown",
   "metadata": {},
   "source": [
    "Imagine you have a 6-sided dice. You want to know what number you will roll when you throw the dice.\n",
    "\n",
    "`Event`: An event is something that might happen. In this case, the event is \"rolling a 3\" or \"rolling a 6\".\n",
    "\n",
    "`Probability`: Probability is a way to measure how likely something is to happen. It's like a special number that tells us how often something might happen.\n",
    "\n",
    "Let's say you roll the dice many times and count how many times you roll each number. Here's what you might get:\n",
    "\n",
    "| Number | Times Rolled | | --- | --- | | 1 | 16 | | 2 | 18 | | 3 | 15 | | 4 | 17 | | 5 | 14 | | 6 | 20 |\n",
    "\n",
    "Probability of rolling a 3: 15 times out of 100 rolls = 15/100 = 0.15\n",
    "\n",
    "Probability of rolling a 6: 20 times out of 100 rolls = 20/100 = 0.20\n",
    "\n",
    "We can use Python to simulate this game and see what happens!"
   ]
  },
  {
   "cell_type": "code",
   "execution_count": 1,
   "metadata": {},
   "outputs": [
    {
     "name": "stdout",
     "output_type": "stream",
     "text": [
      "Rolled 1: 13 (0.13%)\n",
      "Rolled 2: 24 (0.24%)\n",
      "Rolled 3: 9 (0.09%)\n",
      "Rolled 4: 14 (0.14%)\n",
      "Rolled 5: 21 (0.21%)\n",
      "Rolled 6: 19 (0.19%)\n"
     ]
    }
   ],
   "source": [
    "import random\n",
    "\n",
    "# Define the 6-sided dice\n",
    "dice = [1, 2, 3, 4, 5, 6]\n",
    "\n",
    "# Simulate rolling the dice many times\n",
    "def roll_dice():\n",
    "    return random.choice(dice)\n",
    "\n",
    "# Run the simulation many times to see what happens\n",
    "results = [roll_dice() for _ in range(100)]\n",
    "\n",
    "# Count how many times we rolled each number\n",
    "counts = {i: results.count(i) for i in range(1, 7)}\n",
    "\n",
    "# Print the results\n",
    "for i in range(1, 7):\n",
    "    print(f\"Rolled {i}: {counts[i]} ({counts[i]/100:.2f}%)\")"
   ]
  }
 ],
 "metadata": {
  "kernelspec": {
   "display_name": "Python 3",
   "language": "python",
   "name": "python3"
  },
  "language_info": {
   "codemirror_mode": {
    "name": "ipython",
    "version": 3
   },
   "file_extension": ".py",
   "mimetype": "text/x-python",
   "name": "python",
   "nbconvert_exporter": "python",
   "pygments_lexer": "ipython3",
   "version": "3.10.12"
  }
 },
 "nbformat": 4,
 "nbformat_minor": 2
}
