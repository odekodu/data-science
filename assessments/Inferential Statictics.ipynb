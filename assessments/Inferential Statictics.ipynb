{
 "cells": [
  {
   "cell_type": "markdown",
   "metadata": {},
   "source": [
    "### Explaining Inferential Statistics"
   ]
  },
  {
   "cell_type": "markdown",
   "metadata": {},
   "source": [
    "Firstly what is `inference`? It is the process of drawing conclusions from data.\n",
    "\n",
    "Secondly what is `inferential in statistics`? It is the process of making conclusions about a population based on a sample.\n",
    "\n",
    "Thirdly what is `Population`? It is the entire group of items from which the sample is drawn. So the `sample` is part of the `population`, like `the selected few`.\n",
    "\n",
    "So `inferenceal statistics` is the process of making conclusions about a `population` based on a `sample`.\n"
   ]
  },
  {
   "cell_type": "markdown",
   "metadata": {},
   "source": [
    "### One Technique of Inferential Statistics: Hypothesis Testing\n",
    "\n",
    "Hypothesis is a statement that you make about the world. \n",
    "Hypothesis testing is a statistical technique used to make inferences about a `population` based on a `sample` of data. It involves testing a hypothesis about a population parameter, such as a mean or proportion, to determine whether it is true or false\n"
   ]
  },
  {
   "cell_type": "markdown",
   "metadata": {},
   "source": [
    "Imagine you're a meteorologist, and you want to predict the temperature for a specific region over the next few days. You have a dataset of daily temperatures for the past month, and you want to make a prediction about the future temperatures.\n",
    "\n",
    "Population: The entire dataset of daily temperatures is the population you're interested in.\n",
    "\n",
    "Sample: The past month's data is the sample you have.\n",
    "\n",
    "Inferential Statistics: You use the sample data to make an educated guess about the population (the future temperatures)."
   ]
  },
  {
   "cell_type": "markdown",
   "metadata": {},
   "source": [
    "### Example\n",
    "\n",
    "Let's say you want to predict the average temperature for the next 5 days. You have data from the past 30 days, and the average temperature for those days is 75°F. You want to know if the average temperature for the next 5 days will be higher or lower than 75°F.\n",
    "\n",
    "Null Hypothesis (H0): The average temperature for the next 5 days will be equal to 75°F.\n",
    "\n",
    "Alternative Hypothesis (H1): The average temperature for the next 5 days will be different from 75°F.\n",
    "\n",
    "Test Statistic: You calculate a test statistic based on the sample data. This statistic measures the difference between the sample mean (75°F) and the known population mean (the average temperature for the entire dataset).\n",
    "\n",
    "P-Value: You calculate the p-value, which is the probability of observing the test statistic (or a more extreme value) assuming that the null hypothesis is true.\n",
    "\n",
    "Decision: If the p-value is below a certain significance level (usually 0.05), you reject the null hypothesis and conclude that the alternative hypothesis is true.\n",
    "\n",
    "Let's say you conduct a hypothesis test to determine if the average temperature for the next 5 days will be different from 75°F. You calculate the test statistic and p-value, and you get:\n",
    "\n",
    "Test Statistic: 2.1 P-Value: 0.01\n",
    "\n",
    "Since the p-value is below 0.05, you reject the null hypothesis and conclude that the alternative hypothesis is true. This means that the average temperature for the next 5 days is likely to be different from 75°F.\n",
    "\n",
    "Interpretation\n",
    "\n",
    "The results of the hypothesis test indicate that the average temperature for the next 5 days is likely to be different from 75°F. As a meteorologist, you can now make an informed decision about the weather forecast for the next few days.\n",
    "\n",
    "By using inferential statistics, you've made a data-driven decision that can help you predict the weather more accurately.|"
   ]
  },
  {
   "cell_type": "markdown",
   "metadata": {},
   "source": [
    "### Illustration"
   ]
  },
  {
   "cell_type": "code",
   "execution_count": 4,
   "metadata": {},
   "outputs": [
    {
     "name": "stdout",
     "output_type": "stream",
     "text": [
      "t-statistic: 2.8603877677367766\n",
      "p-value: 0.00873317712398378\n"
     ]
    }
   ],
   "source": [
    "import numpy as np\n",
    "from scipy.stats import ttest_1samp\n",
    "import pandas as pd\n",
    "\n",
    "# Create a dataset of daily temperatures\n",
    "dataset = np.array([75, 78, 72, 80, 76, 74, 77, 79, 73, 81, 75, 78, 72, 80, 76, 74, 77, 79, 73, 81, 75, 78, 72, 80, 76, 74, 77, 79, 73, 81])\n",
    "\n",
    "population_mean = 75\n",
    "\n",
    "# Calculate the sample mean\n",
    "sample_mean = dataset.mean()\n",
    "\n",
    "# Calculate the sample standard deviation\n",
    "sample_std = dataset.std()\n",
    "\n",
    "# Calculate the t-statistic\n",
    "t_stat = (sample_mean - population_mean) / (sample_std / np.sqrt(len(dataset)))\n",
    "\n",
    "# Calculate the p-value\n",
    "p_value = ttest_1samp(dataset, population_mean)[1]\n",
    "\n",
    "print(\"t-statistic:\", t_stat)\n",
    "print(\"p-value:\", p_value)"
   ]
  },
  {
   "cell_type": "markdown",
   "metadata": {},
   "source": [
    "This shows that the sample mean is `2.8603877677367766°F` away from the population mean 75°F.\n",
    "\n",
    "Since the p-value is below 0.05, you reject the null hypothesis and conclude that the alternative hypothesis is true. This means that the average temperature for the next 5 days is likely to be different from `75°F`."
   ]
  }
 ],
 "metadata": {
  "kernelspec": {
   "display_name": "Python 3",
   "language": "python",
   "name": "python3"
  },
  "language_info": {
   "codemirror_mode": {
    "name": "ipython",
    "version": 3
   },
   "file_extension": ".py",
   "mimetype": "text/x-python",
   "name": "python",
   "nbconvert_exporter": "python",
   "pygments_lexer": "ipython3",
   "version": "3.10.12"
  }
 },
 "nbformat": 4,
 "nbformat_minor": 2
}
