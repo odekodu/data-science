{
 "cells": [
  {
   "cell_type": "markdown",
   "metadata": {},
   "source": [
    "# Assignment\n",
    "\n",
    "Find a dataset on Kaggle that illustrate 2 versions\n",
    "\n",
    "Define the context of the A|B testing.\n",
    "\n",
    "Use A/B testing to find decide the better option in the context of the dataset.\n",
    "\n",
    "Use steps in example."
   ]
  },
  {
   "cell_type": "markdown",
   "metadata": {},
   "source": [
    "### Import required modules"
   ]
  },
  {
   "cell_type": "code",
   "execution_count": 66,
   "metadata": {},
   "outputs": [],
   "source": [
    "import kagglehub\n",
    "import pandas as pd\n",
    "import numpy as np\n",
    "import seaborn as sns\n",
    "import matplotlib.pyplot as plt\n",
    "from scipy.stats import chi2_contingency"
   ]
  },
  {
   "cell_type": "markdown",
   "metadata": {},
   "source": [
    "### Find a dataset on Kaggle that `illustrates 2 versions`\n",
    "\n",
    "For this project, I will be using a dataset on Nigerian Foods"
   ]
  },
  {
   "cell_type": "code",
   "execution_count": 24,
   "metadata": {},
   "outputs": [],
   "source": [
    "# Download latest version\n",
    "df_path = kagglehub.dataset_download(\"franklycypher/nigerian-foods\")"
   ]
  },
  {
   "cell_type": "code",
   "execution_count": 25,
   "metadata": {},
   "outputs": [],
   "source": [
    "df = pd.read_csv(f'{df_path}/Nigerian Foods.csv')"
   ]
  },
  {
   "cell_type": "code",
   "execution_count": 26,
   "metadata": {},
   "outputs": [
    {
     "data": {
      "text/html": [
       "<div>\n",
       "<style scoped>\n",
       "    .dataframe tbody tr th:only-of-type {\n",
       "        vertical-align: middle;\n",
       "    }\n",
       "\n",
       "    .dataframe tbody tr th {\n",
       "        vertical-align: top;\n",
       "    }\n",
       "\n",
       "    .dataframe thead th {\n",
       "        text-align: right;\n",
       "    }\n",
       "</style>\n",
       "<table border=\"1\" class=\"dataframe\">\n",
       "  <thead>\n",
       "    <tr style=\"text-align: right;\">\n",
       "      <th></th>\n",
       "      <th>Food_Name</th>\n",
       "      <th>Main_Ingredients</th>\n",
       "      <th>Description</th>\n",
       "      <th>Food_Health</th>\n",
       "      <th>Food_Class</th>\n",
       "      <th>Region</th>\n",
       "      <th>Spice_Level</th>\n",
       "      <th>Price_Range</th>\n",
       "    </tr>\n",
       "  </thead>\n",
       "  <tbody>\n",
       "    <tr>\n",
       "      <th>0</th>\n",
       "      <td>Abacha</td>\n",
       "      <td>African salad, utazi leaves, oil, fish</td>\n",
       "      <td>Cassava-based salad with spicy fish</td>\n",
       "      <td>Healthy</td>\n",
       "      <td>Traditional</td>\n",
       "      <td>South-East</td>\n",
       "      <td>Spicy</td>\n",
       "      <td>Affordable</td>\n",
       "    </tr>\n",
       "    <tr>\n",
       "      <th>1</th>\n",
       "      <td>Abacha and Ugba (Regular)</td>\n",
       "      <td>Abacha (Cassava Fufu), Ugba (Oilbean Seeds)</td>\n",
       "      <td>Shredded cassava fufu served with oilbean seeds.</td>\n",
       "      <td>Healthy</td>\n",
       "      <td>Traditional</td>\n",
       "      <td>Eastern</td>\n",
       "      <td>NaN</td>\n",
       "      <td>Affordable</td>\n",
       "    </tr>\n",
       "    <tr>\n",
       "      <th>2</th>\n",
       "      <td>Abacha and Ugba</td>\n",
       "      <td>African salad, oil, fish, fermented oil bean s...</td>\n",
       "      <td>Cassava-based salad with spicy fish and fermen...</td>\n",
       "      <td>Healthy</td>\n",
       "      <td>Salad</td>\n",
       "      <td>South-East</td>\n",
       "      <td>Spicy</td>\n",
       "      <td>Affordable</td>\n",
       "    </tr>\n",
       "    <tr>\n",
       "      <th>3</th>\n",
       "      <td>Afang Soup (Spicy)</td>\n",
       "      <td>Afang Leaves, Water yam, Seafood</td>\n",
       "      <td>Spicy soup made with afang leaves, water yam, ...</td>\n",
       "      <td>Healthy</td>\n",
       "      <td>Traditional</td>\n",
       "      <td>Southern</td>\n",
       "      <td>Spicy</td>\n",
       "      <td>Affordable</td>\n",
       "    </tr>\n",
       "    <tr>\n",
       "      <th>4</th>\n",
       "      <td>Afang Soup</td>\n",
       "      <td>Afang leaves, waterleaf, meat, fish</td>\n",
       "      <td>Nutritious soup made with wild spinach and wat...</td>\n",
       "      <td>Healthy</td>\n",
       "      <td>Traditional</td>\n",
       "      <td>South-South</td>\n",
       "      <td>Mild</td>\n",
       "      <td>Affordable</td>\n",
       "    </tr>\n",
       "  </tbody>\n",
       "</table>\n",
       "</div>"
      ],
      "text/plain": [
       "                   Food_Name  \\\n",
       "0                     Abacha   \n",
       "1  Abacha and Ugba (Regular)   \n",
       "2            Abacha and Ugba   \n",
       "3         Afang Soup (Spicy)   \n",
       "4                 Afang Soup   \n",
       "\n",
       "                                    Main_Ingredients  \\\n",
       "0             African salad, utazi leaves, oil, fish   \n",
       "1        Abacha (Cassava Fufu), Ugba (Oilbean Seeds)   \n",
       "2  African salad, oil, fish, fermented oil bean s...   \n",
       "3                   Afang Leaves, Water yam, Seafood   \n",
       "4                Afang leaves, waterleaf, meat, fish   \n",
       "\n",
       "                                         Description Food_Health   Food_Class  \\\n",
       "0                Cassava-based salad with spicy fish     Healthy  Traditional   \n",
       "1   Shredded cassava fufu served with oilbean seeds.     Healthy  Traditional   \n",
       "2  Cassava-based salad with spicy fish and fermen...     Healthy        Salad   \n",
       "3  Spicy soup made with afang leaves, water yam, ...     Healthy  Traditional   \n",
       "4  Nutritious soup made with wild spinach and wat...     Healthy  Traditional   \n",
       "\n",
       "        Region Spice_Level Price_Range  \n",
       "0   South-East       Spicy  Affordable  \n",
       "1      Eastern         NaN  Affordable  \n",
       "2   South-East       Spicy  Affordable  \n",
       "3     Southern       Spicy  Affordable  \n",
       "4  South-South        Mild  Affordable  "
      ]
     },
     "execution_count": 26,
     "metadata": {},
     "output_type": "execute_result"
    }
   ],
   "source": [
    "# Peek into the dataset\n",
    "df.head()"
   ]
  },
  {
   "cell_type": "code",
   "execution_count": 27,
   "metadata": {},
   "outputs": [
    {
     "data": {
      "text/plain": [
       "Index(['Food_Name', 'Main_Ingredients', 'Description', 'Food_Health',\n",
       "       'Food_Class', 'Region', 'Spice_Level', 'Price_Range'],\n",
       "      dtype='object')"
      ]
     },
     "execution_count": 27,
     "metadata": {},
     "output_type": "execute_result"
    }
   ],
   "source": [
    "# Check the columns\n",
    "df.columns"
   ]
  },
  {
   "cell_type": "markdown",
   "metadata": {},
   "source": [
    "##### Check of a column that has just 2 categories"
   ]
  },
  {
   "cell_type": "code",
   "execution_count": 28,
   "metadata": {},
   "outputs": [
    {
     "data": {
      "text/plain": [
       "array(['Healthy', 'Non-Healthy', 'Not Healthy', 'Moderately Healthy',\n",
       "       'Healthy (varies)'], dtype=object)"
      ]
     },
     "execution_count": 28,
     "metadata": {},
     "output_type": "execute_result"
    }
   ],
   "source": [
    "df['Food_Health'].unique()"
   ]
  },
  {
   "cell_type": "code",
   "execution_count": 29,
   "metadata": {},
   "outputs": [
    {
     "data": {
      "text/plain": [
       "array(['Affordable', 'Very Expensive', 'Moderate', 'Moderate-Expensive',\n",
       "       'Expensive'], dtype=object)"
      ]
     },
     "execution_count": 29,
     "metadata": {},
     "output_type": "execute_result"
    }
   ],
   "source": [
    "df['Price_Range'].unique()"
   ]
  },
  {
   "cell_type": "code",
   "execution_count": 30,
   "metadata": {},
   "outputs": [
    {
     "data": {
      "text/plain": [
       "array(['Spicy', nan, 'Mild', 'None - Mild', 'Varies', 'Medium',\n",
       "       'Mild - Spicy'], dtype=object)"
      ]
     },
     "execution_count": 30,
     "metadata": {},
     "output_type": "execute_result"
    }
   ],
   "source": [
    "df['Spice_Level'].unique()"
   ]
  },
  {
   "cell_type": "code",
   "execution_count": 31,
   "metadata": {},
   "outputs": [
    {
     "data": {
      "text/plain": [
       "array(['Traditional', 'Salad', 'Modern', 'Bread', 'Breakfast', 'Soup',\n",
       "       'Snack', 'Stew', 'Dish', 'Side Dish', 'Beverage', 'Swallow',\n",
       "       'Combo', 'Dessert'], dtype=object)"
      ]
     },
     "execution_count": 31,
     "metadata": {},
     "output_type": "execute_result"
    }
   ],
   "source": [
    "df['Food_Class'].unique()"
   ]
  },
  {
   "cell_type": "markdown",
   "metadata": {},
   "source": [
    "### Define the context of the A|B Testing\n",
    "\n",
    "In this test, we are going to determine which is healthier between Traditional And Mordern food classes. It will help decide if Nigerians should keep eating their `Modern Food`."
   ]
  },
  {
   "cell_type": "markdown",
   "metadata": {},
   "source": []
  },
  {
   "cell_type": "markdown",
   "metadata": {},
   "source": [
    "##### Define Groups\n",
    "\n",
    "`Group A`: The control group - Traditional Nigerian Food\n",
    "\n",
    "`Group B`: The treatment group - Modern Nigerian Food"
   ]
  },
  {
   "cell_type": "markdown",
   "metadata": {},
   "source": [
    "\n",
    "##### Define the case studies\n",
    "\n",
    "`Case study`: Nigerian Food Class (Traditional) - This is what our parents and the people before them ate.\n",
    "\n",
    "`Case study`: Nigerian Food Class (Modern) - This mostly what an average Nigerian eats now."
   ]
  },
  {
   "cell_type": "markdown",
   "metadata": {},
   "source": [
    "### Metric\n",
    "\n",
    "The outcome we want to measure is the Food_Health, which is Categorization of the dish's general healthfulness (`Healthy`, `Non-Healthy`, `Not Healthy`, `Moderately Healthy`, `Healthy (varies)`)`.\n",
    "\n",
    "Given that this dataset has 5 categories and cannot be split into 2 equal parts, we are going to consider only the extremes `Healthy, Healthy (varies)` and `(Not Healthy, Non-Healty)`"
   ]
  },
  {
   "cell_type": "markdown",
   "metadata": {},
   "source": [
    "##### Hypothesis Testing\n",
    "\n",
    "`Null Hypothesis`: There is no significant difference in the healthiness of Traditional and Modern food classes for Nigerians.\n",
    "\n",
    "`Alternative Hypothesis`: There is a significant difference in the healthiness of Traditional and Modern food classes for Nigerians."
   ]
  },
  {
   "cell_type": "markdown",
   "metadata": {},
   "source": [
    "### A/B Testing"
   ]
  },
  {
   "cell_type": "code",
   "execution_count": 32,
   "metadata": {},
   "outputs": [],
   "source": [
    "# Extract the traditional Nigerian Foods\n",
    "traditional_df = df[df['Food_Class'] == 'Traditional']"
   ]
  },
  {
   "cell_type": "code",
   "execution_count": 33,
   "metadata": {},
   "outputs": [
    {
     "data": {
      "text/html": [
       "<div>\n",
       "<style scoped>\n",
       "    .dataframe tbody tr th:only-of-type {\n",
       "        vertical-align: middle;\n",
       "    }\n",
       "\n",
       "    .dataframe tbody tr th {\n",
       "        vertical-align: top;\n",
       "    }\n",
       "\n",
       "    .dataframe thead th {\n",
       "        text-align: right;\n",
       "    }\n",
       "</style>\n",
       "<table border=\"1\" class=\"dataframe\">\n",
       "  <thead>\n",
       "    <tr style=\"text-align: right;\">\n",
       "      <th></th>\n",
       "      <th>Food_Name</th>\n",
       "      <th>Main_Ingredients</th>\n",
       "      <th>Description</th>\n",
       "      <th>Food_Health</th>\n",
       "      <th>Food_Class</th>\n",
       "      <th>Region</th>\n",
       "      <th>Spice_Level</th>\n",
       "      <th>Price_Range</th>\n",
       "    </tr>\n",
       "  </thead>\n",
       "  <tbody>\n",
       "    <tr>\n",
       "      <th>0</th>\n",
       "      <td>Abacha</td>\n",
       "      <td>African salad, utazi leaves, oil, fish</td>\n",
       "      <td>Cassava-based salad with spicy fish</td>\n",
       "      <td>Healthy</td>\n",
       "      <td>Traditional</td>\n",
       "      <td>South-East</td>\n",
       "      <td>Spicy</td>\n",
       "      <td>Affordable</td>\n",
       "    </tr>\n",
       "    <tr>\n",
       "      <th>1</th>\n",
       "      <td>Abacha and Ugba (Regular)</td>\n",
       "      <td>Abacha (Cassava Fufu), Ugba (Oilbean Seeds)</td>\n",
       "      <td>Shredded cassava fufu served with oilbean seeds.</td>\n",
       "      <td>Healthy</td>\n",
       "      <td>Traditional</td>\n",
       "      <td>Eastern</td>\n",
       "      <td>NaN</td>\n",
       "      <td>Affordable</td>\n",
       "    </tr>\n",
       "    <tr>\n",
       "      <th>3</th>\n",
       "      <td>Afang Soup (Spicy)</td>\n",
       "      <td>Afang Leaves, Water yam, Seafood</td>\n",
       "      <td>Spicy soup made with afang leaves, water yam, ...</td>\n",
       "      <td>Healthy</td>\n",
       "      <td>Traditional</td>\n",
       "      <td>Southern</td>\n",
       "      <td>Spicy</td>\n",
       "      <td>Affordable</td>\n",
       "    </tr>\n",
       "    <tr>\n",
       "      <th>4</th>\n",
       "      <td>Afang Soup</td>\n",
       "      <td>Afang leaves, waterleaf, meat, fish</td>\n",
       "      <td>Nutritious soup made with wild spinach and wat...</td>\n",
       "      <td>Healthy</td>\n",
       "      <td>Traditional</td>\n",
       "      <td>South-South</td>\n",
       "      <td>Mild</td>\n",
       "      <td>Affordable</td>\n",
       "    </tr>\n",
       "    <tr>\n",
       "      <th>5</th>\n",
       "      <td>Afang Soup (Seafood)</td>\n",
       "      <td>Afang leaves, expensive seafood (lobster, praw...</td>\n",
       "      <td>Nutritious soup made with wild spinach, expens...</td>\n",
       "      <td>Healthy</td>\n",
       "      <td>Traditional</td>\n",
       "      <td>South-South</td>\n",
       "      <td>Mild</td>\n",
       "      <td>Very Expensive</td>\n",
       "    </tr>\n",
       "  </tbody>\n",
       "</table>\n",
       "</div>"
      ],
      "text/plain": [
       "                   Food_Name  \\\n",
       "0                     Abacha   \n",
       "1  Abacha and Ugba (Regular)   \n",
       "3         Afang Soup (Spicy)   \n",
       "4                 Afang Soup   \n",
       "5       Afang Soup (Seafood)   \n",
       "\n",
       "                                    Main_Ingredients  \\\n",
       "0             African salad, utazi leaves, oil, fish   \n",
       "1        Abacha (Cassava Fufu), Ugba (Oilbean Seeds)   \n",
       "3                   Afang Leaves, Water yam, Seafood   \n",
       "4                Afang leaves, waterleaf, meat, fish   \n",
       "5  Afang leaves, expensive seafood (lobster, praw...   \n",
       "\n",
       "                                         Description Food_Health   Food_Class  \\\n",
       "0                Cassava-based salad with spicy fish     Healthy  Traditional   \n",
       "1   Shredded cassava fufu served with oilbean seeds.     Healthy  Traditional   \n",
       "3  Spicy soup made with afang leaves, water yam, ...     Healthy  Traditional   \n",
       "4  Nutritious soup made with wild spinach and wat...     Healthy  Traditional   \n",
       "5  Nutritious soup made with wild spinach, expens...     Healthy  Traditional   \n",
       "\n",
       "        Region Spice_Level     Price_Range  \n",
       "0   South-East       Spicy      Affordable  \n",
       "1      Eastern         NaN      Affordable  \n",
       "3     Southern       Spicy      Affordable  \n",
       "4  South-South        Mild      Affordable  \n",
       "5  South-South        Mild  Very Expensive  "
      ]
     },
     "execution_count": 33,
     "metadata": {},
     "output_type": "execute_result"
    }
   ],
   "source": [
    "traditional_df.head()"
   ]
  },
  {
   "cell_type": "code",
   "execution_count": 34,
   "metadata": {},
   "outputs": [],
   "source": [
    "# Extract the modern Nigerian Foods\n",
    "modern_df = df[df['Food_Class'] == 'Modern']"
   ]
  },
  {
   "cell_type": "code",
   "execution_count": 35,
   "metadata": {},
   "outputs": [
    {
     "data": {
      "text/html": [
       "<div>\n",
       "<style scoped>\n",
       "    .dataframe tbody tr th:only-of-type {\n",
       "        vertical-align: middle;\n",
       "    }\n",
       "\n",
       "    .dataframe tbody tr th {\n",
       "        vertical-align: top;\n",
       "    }\n",
       "\n",
       "    .dataframe thead th {\n",
       "        text-align: right;\n",
       "    }\n",
       "</style>\n",
       "<table border=\"1\" class=\"dataframe\">\n",
       "  <thead>\n",
       "    <tr style=\"text-align: right;\">\n",
       "      <th></th>\n",
       "      <th>Food_Name</th>\n",
       "      <th>Main_Ingredients</th>\n",
       "      <th>Description</th>\n",
       "      <th>Food_Health</th>\n",
       "      <th>Food_Class</th>\n",
       "      <th>Region</th>\n",
       "      <th>Spice_Level</th>\n",
       "      <th>Price_Range</th>\n",
       "    </tr>\n",
       "  </thead>\n",
       "  <tbody>\n",
       "    <tr>\n",
       "      <th>7</th>\n",
       "      <td>Agege Bread</td>\n",
       "      <td>Flour, Yeast, Sugar</td>\n",
       "      <td>Soft, slightly sweet bread with a crispy crust.</td>\n",
       "      <td>Non-Healthy</td>\n",
       "      <td>Modern</td>\n",
       "      <td>Lagos</td>\n",
       "      <td>NaN</td>\n",
       "      <td>Affordable</td>\n",
       "    </tr>\n",
       "    <tr>\n",
       "      <th>13</th>\n",
       "      <td>Ayamase Sauce</td>\n",
       "      <td>Green peppers, onions, locust beans, spices</td>\n",
       "      <td>Spicy green pepper sauce, often paired with Of...</td>\n",
       "      <td>Moderately Healthy</td>\n",
       "      <td>Modern</td>\n",
       "      <td>South-West</td>\n",
       "      <td>Spicy</td>\n",
       "      <td>Affordable</td>\n",
       "    </tr>\n",
       "    <tr>\n",
       "      <th>32</th>\n",
       "      <td>Coconut Rice</td>\n",
       "      <td>Rice, coconut milk, vegetables, chicken</td>\n",
       "      <td>Rice cooked with coconut milk and spices</td>\n",
       "      <td>Moderately Healthy</td>\n",
       "      <td>Modern</td>\n",
       "      <td>Nationwide</td>\n",
       "      <td>Mild</td>\n",
       "      <td>Affordable</td>\n",
       "    </tr>\n",
       "    <tr>\n",
       "      <th>33</th>\n",
       "      <td>Coconut Rice (Seafood)</td>\n",
       "      <td>Rice, coconut milk, vegetables, expensive seaf...</td>\n",
       "      <td>Rice cooked with coconut milk and spices, feat...</td>\n",
       "      <td>Moderately Healthy</td>\n",
       "      <td>Modern</td>\n",
       "      <td>Nationwide</td>\n",
       "      <td>Mild</td>\n",
       "      <td>Expensive</td>\n",
       "    </tr>\n",
       "    <tr>\n",
       "      <th>50</th>\n",
       "      <td>Fried Rice</td>\n",
       "      <td>Rice, vegetables, chicken, shrimp</td>\n",
       "      <td>Stir-fried rice with colorful vegetables and p...</td>\n",
       "      <td>Moderately Healthy</td>\n",
       "      <td>Modern</td>\n",
       "      <td>Nationwide</td>\n",
       "      <td>Mild</td>\n",
       "      <td>Affordable</td>\n",
       "    </tr>\n",
       "  </tbody>\n",
       "</table>\n",
       "</div>"
      ],
      "text/plain": [
       "                 Food_Name                                   Main_Ingredients  \\\n",
       "7              Agege Bread                                Flour, Yeast, Sugar   \n",
       "13           Ayamase Sauce        Green peppers, onions, locust beans, spices   \n",
       "32            Coconut Rice            Rice, coconut milk, vegetables, chicken   \n",
       "33  Coconut Rice (Seafood)  Rice, coconut milk, vegetables, expensive seaf...   \n",
       "50              Fried Rice                  Rice, vegetables, chicken, shrimp   \n",
       "\n",
       "                                          Description         Food_Health  \\\n",
       "7     Soft, slightly sweet bread with a crispy crust.         Non-Healthy   \n",
       "13  Spicy green pepper sauce, often paired with Of...  Moderately Healthy   \n",
       "32           Rice cooked with coconut milk and spices  Moderately Healthy   \n",
       "33  Rice cooked with coconut milk and spices, feat...  Moderately Healthy   \n",
       "50  Stir-fried rice with colorful vegetables and p...  Moderately Healthy   \n",
       "\n",
       "   Food_Class      Region Spice_Level Price_Range  \n",
       "7      Modern       Lagos         NaN  Affordable  \n",
       "13     Modern  South-West       Spicy  Affordable  \n",
       "32     Modern  Nationwide        Mild  Affordable  \n",
       "33     Modern  Nationwide        Mild   Expensive  \n",
       "50     Modern  Nationwide        Mild  Affordable  "
      ]
     },
     "execution_count": 35,
     "metadata": {},
     "output_type": "execute_result"
    }
   ],
   "source": [
    "modern_df.head()"
   ]
  },
  {
   "cell_type": "code",
   "execution_count": 49,
   "metadata": {},
   "outputs": [],
   "source": [
    "# Extract the count of the traditional Nigerian Foods\n",
    "total_traditional_food = traditional_df.shape[0]\n",
    "healthy_traditional_food = traditional_df[(traditional_df['Food_Health'] == 'Healthy') | (traditional_df['Food_Health'] == 'Healthy (Varies)')].shape[0]\n",
    "not_healthy_traditional_food = traditional_df[(traditional_df['Food_Health'] == 'Non-Healthy') | (traditional_df['Food_Health'] == 'Not Healthy')].shape[0]"
   ]
  },
  {
   "cell_type": "code",
   "execution_count": 50,
   "metadata": {},
   "outputs": [],
   "source": [
    "# Extract the count of the modern Nigerian Foods\n",
    "total_modern_food = modern_df.shape[0]\n",
    "healthy_modern_food = modern_df[(modern_df['Food_Health'] == 'Healthy') | (modern_df['Food_Health'] == 'Healthy (Varies)')].shape[0]\n",
    "not_healthy_modern_food = modern_df[(modern_df['Food_Health'] == 'Non-Healthy') | (modern_df['Food_Health'] == 'Not Healthy')].shape[0]"
   ]
  },
  {
   "cell_type": "code",
   "execution_count": 51,
   "metadata": {},
   "outputs": [],
   "source": [
    "ab_df = pd.DataFrame({\n",
    "    'Food Class': ['Traditional', 'Modern'],\n",
    "    'Total': [total_traditional_food, total_modern_food],\n",
    "    'Healthy': [healthy_traditional_food, healthy_modern_food],\n",
    "    'Not Healthy': [not_healthy_traditional_food, not_healthy_modern_food]\n",
    "})"
   ]
  },
  {
   "cell_type": "code",
   "execution_count": 52,
   "metadata": {},
   "outputs": [
    {
     "data": {
      "text/html": [
       "<div>\n",
       "<style scoped>\n",
       "    .dataframe tbody tr th:only-of-type {\n",
       "        vertical-align: middle;\n",
       "    }\n",
       "\n",
       "    .dataframe tbody tr th {\n",
       "        vertical-align: top;\n",
       "    }\n",
       "\n",
       "    .dataframe thead th {\n",
       "        text-align: right;\n",
       "    }\n",
       "</style>\n",
       "<table border=\"1\" class=\"dataframe\">\n",
       "  <thead>\n",
       "    <tr style=\"text-align: right;\">\n",
       "      <th></th>\n",
       "      <th>Food Class</th>\n",
       "      <th>Total</th>\n",
       "      <th>Healthy</th>\n",
       "      <th>Not Healthy</th>\n",
       "    </tr>\n",
       "  </thead>\n",
       "  <tbody>\n",
       "    <tr>\n",
       "      <th>0</th>\n",
       "      <td>Traditional</td>\n",
       "      <td>51</td>\n",
       "      <td>42</td>\n",
       "      <td>2</td>\n",
       "    </tr>\n",
       "    <tr>\n",
       "      <th>1</th>\n",
       "      <td>Modern</td>\n",
       "      <td>6</td>\n",
       "      <td>0</td>\n",
       "      <td>1</td>\n",
       "    </tr>\n",
       "  </tbody>\n",
       "</table>\n",
       "</div>"
      ],
      "text/plain": [
       "    Food Class  Total  Healthy  Not Healthy\n",
       "0  Traditional     51       42            2\n",
       "1       Modern      6        0            1"
      ]
     },
     "execution_count": 52,
     "metadata": {},
     "output_type": "execute_result"
    }
   ],
   "source": [
    "ab_df.head()"
   ]
  },
  {
   "cell_type": "markdown",
   "metadata": {},
   "source": [
    "### Visualize"
   ]
  },
  {
   "cell_type": "code",
   "execution_count": 62,
   "metadata": {},
   "outputs": [
    {
     "data": {
      "image/png": "[encoded data removed]",
      "text/plain": [
       "<Figure size 640x480 with 1 Axes>"
      ]
     },
     "metadata": {},
     "output_type": "display_data"
    }
   ],
   "source": [
    "sns.barplot(x='Food Class', y='Total', data=ab_df)\n",
    "plt.show()"
   ]
  },
  {
   "cell_type": "markdown",
   "metadata": {},
   "source": [
    "##### Perform a Chi-Square Test"
   ]
  },
  {
   "cell_type": "code",
   "execution_count": 64,
   "metadata": {},
   "outputs": [],
   "source": [
    "# Convert to numpy array\n",
    "contigency_table = ab_df[['Healthy', 'Not Healthy']].to_numpy()"
   ]
  },
  {
   "cell_type": "code",
   "execution_count": 65,
   "metadata": {},
   "outputs": [
    {
     "data": {
      "text/plain": [
       "array([[42,  2],\n",
       "       [ 0,  1]])"
      ]
     },
     "execution_count": 65,
     "metadata": {},
     "output_type": "execute_result"
    }
   ],
   "source": [
    "contigency_table"
   ]
  },
  {
   "cell_type": "code",
   "execution_count": 67,
   "metadata": {},
   "outputs": [
    {
     "name": "stdout",
     "output_type": "stream",
     "text": [
      "chi2: 3.0864448051948052\n",
      "p-value: 0.07894712204594984\n",
      "dof: 1\n",
      "expected: [[41.06666667  2.93333333]\n",
      " [ 0.93333333  0.06666667]]\n"
     ]
    }
   ],
   "source": [
    "# Perform chi-square test\n",
    "chi_2, p_value, dof, expected = chi2_contingency(contigency_table)\n",
    "print(f'chi2: {chi_2}')\n",
    "print(f'p-value: {p_value}')\n",
    "print(f'dof: {dof}')\n",
    "print(f'expected: {expected}')"
   ]
  },
  {
   "cell_type": "code",
   "execution_count": 68,
   "metadata": {},
   "outputs": [],
   "source": [
    "# P-Value: if p-value < 0.05, we reject the null hypothesis"
   ]
  },
  {
   "cell_type": "markdown",
   "metadata": {},
   "source": [
    "### Conclusion"
   ]
  },
  {
   "cell_type": "markdown",
   "metadata": {},
   "source": [
    "We accept the `Null Hypothesis` given than the `P-value` of `0.07894712204594984` is greater than `0.05`, which means there is no significant difference in the healthiness of Traditional and Modern food classes for Nigerians: "
   ]
  },
  {
   "cell_type": "code",
   "execution_count": null,
   "metadata": {},
   "outputs": [
    {
     "name": "stdout",
     "output_type": "stream",
     "text": [
      "[1]\n"
     ]
    }
   ],
   "source": [
    "x = [1]\n",
    "for i in x:\n",
    "    x.append(i+1)\n",
    "    print(x)"
   ]
  },
  {
   "cell_type": "code",
   "execution_count": null,
   "metadata": {},
   "outputs": [],
   "source": []
  }
 ],
 "metadata": {
  "kernelspec": {
   "display_name": "Python 3",
   "language": "python",
   "name": "python3"
  },
  "language_info": {
   "codemirror_mode": {
    "name": "ipython",
    "version": 3
   },
   "file_extension": ".py",
   "mimetype": "text/x-python",
   "name": "python",
   "nbconvert_exporter": "python",
   "pygments_lexer": "ipython3",
   "version": "3.10.12"
  }
 },
 "nbformat": 4,
 "nbformat_minor": 2
}
