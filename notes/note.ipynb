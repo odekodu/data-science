{
 "cells": [
  {
   "cell_type": "code",
   "execution_count": 54,
   "metadata": {},
   "outputs": [
    {
     "name": "stdout",
     "output_type": "stream",
     "text": [
      "odiroya\n"
     ]
    }
   ],
   "source": [
    "a = { 'name': 'Ken', 'age': 4 }\n",
    "b = [0]\n",
    "c = (1)\n",
    "d = {1}\n",
    "\n",
    "print(a.get('sss', 'odiroya'))"
   ]
  },
  {
   "cell_type": "markdown",
   "metadata": {},
   "source": [
    "# is keyword\n",
    "This is used to check the equality of two variables.\n"
   ]
  },
  {
   "cell_type": "code",
   "execution_count": 55,
   "metadata": {},
   "outputs": [
    {
     "name": "stdout",
     "output_type": "stream",
     "text": [
      "{'name': 'Ken', 'age': 4, 'class': 'sample'}\n"
     ]
    }
   ],
   "source": [
    "a.update({ 'class': 'sample' })\n",
    "print(a)"
   ]
  },
  {
   "cell_type": "code",
   "execution_count": 56,
   "metadata": {},
   "outputs": [
    {
     "name": "stdout",
     "output_type": "stream",
     "text": [
      "{'name': 'Ken', 'age': 4, 'class': 'sample'} {'name': 'Ken', 'age': 4, 'class': 'sample'}\n"
     ]
    }
   ],
   "source": [
    "m = { **a }\n",
    "print(m, a)"
   ]
  },
  {
   "cell_type": "code",
   "execution_count": 60,
   "metadata": {},
   "outputs": [
    {
     "name": "stdout",
     "output_type": "stream",
     "text": [
      "{('class', 'sample'), ('age', 4), ('name', 'Ken')} [('name', 'Ken'), ('age', 4), ('class', 'sample')] (('name', 'Ken'), ('age', 4), ('class', 'sample'))\n"
     ]
    }
   ],
   "source": [
    "print(set(a.items()), list(a.items()), tuple(a.items()))"
   ]
  },
  {
   "cell_type": "code",
   "execution_count": null,
   "metadata": {},
   "outputs": [],
   "source": [
    "counter = 0\n",
    "end = float('inf')\n",
    "while counter < end:\n",
    "    counter += 1\n",
    "    end /= 2\n",
    "    print(counter)"
   ]
  },
  {
   "cell_type": "code",
   "execution_count": 5,
   "metadata": {},
   "outputs": [
    {
     "name": "stdout",
     "output_type": "stream",
     "text": [
      "<class 'function'>\n"
     ]
    }
   ],
   "source": [
    "def main ():\n",
    "    ...\n",
    "\n",
    "print(type(main))"
   ]
  },
  {
   "cell_type": "code",
   "execution_count": 9,
   "metadata": {},
   "outputs": [
    {
     "name": "stdout",
     "output_type": "stream",
     "text": [
      "<function main at 0x10d4e9c60>\n"
     ]
    }
   ],
   "source": [
    "print(str(main))"
   ]
  },
  {
   "cell_type": "code",
   "execution_count": 12,
   "metadata": {},
   "outputs": [
    {
     "name": "stdout",
     "output_type": "stream",
     "text": [
      "('Hello', 'world')\n"
     ]
    }
   ],
   "source": [
    "def k (*kargs):\n",
    "    print(kargs)\n",
    "\n",
    "k('Hello', 'world')"
   ]
  },
  {
   "cell_type": "code",
   "execution_count": 14,
   "metadata": {},
   "outputs": [
    {
     "ename": "TypeError",
     "evalue": "'name' is an invalid keyword argument for print()",
     "output_type": "error",
     "traceback": [
      "\u001b[0;31m---------------------------------------------------------------------------\u001b[0m",
      "\u001b[0;31mTypeError\u001b[0m                                 Traceback (most recent call last)",
      "Cell \u001b[0;32mIn[14], line 2\u001b[0m\n\u001b[1;32m      1\u001b[0m a \u001b[38;5;241m=\u001b[39m { \u001b[38;5;124m'\u001b[39m\u001b[38;5;124mname\u001b[39m\u001b[38;5;124m'\u001b[39m: \u001b[38;5;241m1\u001b[39m, \u001b[38;5;124m'\u001b[39m\u001b[38;5;124mage\u001b[39m\u001b[38;5;124m'\u001b[39m: \u001b[38;5;241m1\u001b[39m }\n\u001b[0;32m----> 2\u001b[0m \u001b[38;5;28;43mprint\u001b[39;49m\u001b[43m(\u001b[49m\u001b[38;5;241;43m*\u001b[39;49m\u001b[38;5;241;43m*\u001b[39;49m\u001b[43ma\u001b[49m\u001b[43m)\u001b[49m\n",
      "\u001b[0;31mTypeError\u001b[0m: 'name' is an invalid keyword argument for print()"
     ]
    }
   ],
   "source": [
    "a = { 'name': 1, 'age': 1 }\n",
    "print(**a)"
   ]
  },
  {
   "cell_type": "code",
   "execution_count": 1,
   "metadata": {},
   "outputs": [],
   "source": [
    "import pandas as pd\n",
    "import numpy as np"
   ]
  },
  {
   "cell_type": "code",
   "execution_count": 13,
   "metadata": {},
   "outputs": [
    {
     "name": "stdout",
     "output_type": "stream",
     "text": [
      "891 418 1309\n"
     ]
    }
   ],
   "source": [
    "df_train = pd.read_csv('../data/titanic/train.csv')\n",
    "df_test = pd.read_csv('../data/titanic/test.csv')\n",
    "\n",
    "df_concat = pd.concat([df_train, df_test], sort=True).reset_index(drop=True)\n",
    "\n",
    "print(len(df_train), len(df_test), len(df_concat))"
   ]
  },
  {
   "cell_type": "code",
   "execution_count": 31,
   "metadata": {},
   "outputs": [
    {
     "data": {
      "text/plain": [
       "a    1\n",
       "b    2\n",
       "Name: 3, dtype: int64"
      ]
     },
     "execution_count": 31,
     "metadata": {},
     "output_type": "execute_result"
    }
   ],
   "source": [
    "df_1 = pd.DataFrame([[1, 2], [3, 4], [5, 6]], index=[3, 4, 5], columns=['a', 'b'])\n",
    "df_1.loc[3]"
   ]
  },
  {
   "cell_type": "markdown",
   "metadata": {},
   "source": [
    "iloc is for get rows with the index\n",
    "loc is for get rows with label."
   ]
  }
 ],
 "metadata": {
  "kernelspec": {
   "display_name": "Python 3",
   "language": "python",
   "name": "python3"
  },
  "language_info": {
   "codemirror_mode": {
    "name": "ipython",
    "version": 3
   },
   "file_extension": ".py",
   "mimetype": "text/x-python",
   "name": "python",
   "nbconvert_exporter": "python",
   "pygments_lexer": "ipython3",
   "version": "3.10.12"
  }
 },
 "nbformat": 4,
 "nbformat_minor": 2
}
