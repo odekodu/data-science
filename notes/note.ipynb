{
 "cells": [
  {
   "cell_type": "code",
   "execution_count": 54,
   "metadata": {},
   "outputs": [
    {
     "name": "stdout",
     "output_type": "stream",
     "text": [
      "odiroya\n"
     ]
    }
   ],
   "source": [
    "a = { 'name': 'Ken', 'age': 4 }\n",
    "b = [0]\n",
    "c = (1)\n",
    "d = {1}\n",
    "\n",
    "print(a.get('sss', 'odiroya'))"
   ]
  },
  {
   "cell_type": "markdown",
   "metadata": {},
   "source": [
    "# is keyword\n",
    "This is used to check the equality of two variables.\n"
   ]
  },
  {
   "cell_type": "code",
   "execution_count": 55,
   "metadata": {},
   "outputs": [
    {
     "name": "stdout",
     "output_type": "stream",
     "text": [
      "{'name': 'Ken', 'age': 4, 'class': 'sample'}\n"
     ]
    }
   ],
   "source": [
    "a.update({ 'class': 'sample' })\n",
    "print(a)"
   ]
  },
  {
   "cell_type": "code",
   "execution_count": 56,
   "metadata": {},
   "outputs": [
    {
     "name": "stdout",
     "output_type": "stream",
     "text": [
      "{'name': 'Ken', 'age': 4, 'class': 'sample'} {'name': 'Ken', 'age': 4, 'class': 'sample'}\n"
     ]
    }
   ],
   "source": [
    "m = { **a }\n",
    "print(m, a)"
   ]
  },
  {
   "cell_type": "code",
   "execution_count": 60,
   "metadata": {},
   "outputs": [
    {
     "name": "stdout",
     "output_type": "stream",
     "text": [
      "{('class', 'sample'), ('age', 4), ('name', 'Ken')} [('name', 'Ken'), ('age', 4), ('class', 'sample')] (('name', 'Ken'), ('age', 4), ('class', 'sample'))\n"
     ]
    }
   ],
   "source": [
    "print(set(a.items()), list(a.items()), tuple(a.items()))"
   ]
  },
  {
   "cell_type": "code",
   "execution_count": null,
   "metadata": {},
   "outputs": [],
   "source": [
    "counter = 0\n",
    "end = float('inf')\n",
    "while counter < end:\n",
    "    counter += 1\n",
    "    end /= 2\n",
    "    print(counter)"
   ]
  },
  {
   "cell_type": "code",
   "execution_count": 5,
   "metadata": {},
   "outputs": [
    {
     "name": "stdout",
     "output_type": "stream",
     "text": [
      "<class 'function'>\n"
     ]
    }
   ],
   "source": [
    "def main ():\n",
    "    ...\n",
    "\n",
    "print(type(main))"
   ]
  },
  {
   "cell_type": "code",
   "execution_count": 9,
   "metadata": {},
   "outputs": [
    {
     "name": "stdout",
     "output_type": "stream",
     "text": [
      "<function main at 0x10d4e9c60>\n"
     ]
    }
   ],
   "source": [
    "print(str(main))"
   ]
  },
  {
   "cell_type": "code",
   "execution_count": 12,
   "metadata": {},
   "outputs": [
    {
     "name": "stdout",
     "output_type": "stream",
     "text": [
      "('Hello', 'world')\n"
     ]
    }
   ],
   "source": [
    "def k (*kargs):\n",
    "    print(kargs)\n",
    "\n",
    "k('Hello', 'world')"
   ]
  },
  {
   "cell_type": "code",
   "execution_count": 14,
   "metadata": {},
   "outputs": [
    {
     "ename": "TypeError",
     "evalue": "'name' is an invalid keyword argument for print()",
     "output_type": "error",
     "traceback": [
      "\u001b[0;31m---------------------------------------------------------------------------\u001b[0m",
      "\u001b[0;31mTypeError\u001b[0m                                 Traceback (most recent call last)",
      "Cell \u001b[0;32mIn[14], line 2\u001b[0m\n\u001b[1;32m      1\u001b[0m a \u001b[38;5;241m=\u001b[39m { \u001b[38;5;124m'\u001b[39m\u001b[38;5;124mname\u001b[39m\u001b[38;5;124m'\u001b[39m: \u001b[38;5;241m1\u001b[39m, \u001b[38;5;124m'\u001b[39m\u001b[38;5;124mage\u001b[39m\u001b[38;5;124m'\u001b[39m: \u001b[38;5;241m1\u001b[39m }\n\u001b[0;32m----> 2\u001b[0m \u001b[38;5;28;43mprint\u001b[39;49m\u001b[43m(\u001b[49m\u001b[38;5;241;43m*\u001b[39;49m\u001b[38;5;241;43m*\u001b[39;49m\u001b[43ma\u001b[49m\u001b[43m)\u001b[49m\n",
      "\u001b[0;31mTypeError\u001b[0m: 'name' is an invalid keyword argument for print()"
     ]
    }
   ],
   "source": [
    "a = { 'name': 1, 'age': 1 }\n",
    "print(**a)"
   ]
  },
  {
   "cell_type": "code",
   "execution_count": 1,
   "metadata": {},
   "outputs": [],
   "source": [
    "import pandas as pd\n",
    "import numpy as np"
   ]
  },
  {
   "cell_type": "code",
   "execution_count": 13,
   "metadata": {},
   "outputs": [
    {
     "name": "stdout",
     "output_type": "stream",
     "text": [
      "891 418 1309\n"
     ]
    }
   ],
   "source": [
    "df_train = pd.read_csv('../data/titanic/train.csv')\n",
    "df_test = pd.read_csv('../data/titanic/test.csv')\n",
    "\n",
    "df_concat = pd.concat([df_train, df_test], sort=True).reset_index(drop=True)\n",
    "\n",
    "print(len(df_train), len(df_test), len(df_concat))"
   ]
  },
  {
   "cell_type": "code",
   "execution_count": 31,
   "metadata": {},
   "outputs": [
    {
     "data": {
      "text/plain": [
       "a    1\n",
       "b    2\n",
       "Name: 3, dtype: int64"
      ]
     },
     "execution_count": 31,
     "metadata": {},
     "output_type": "execute_result"
    }
   ],
   "source": [
    "df_1 = pd.DataFrame([[1, 2], [3, 4], [5, 6]], index=[3, 4, 5], columns=['a', 'b'])\n",
    "df_1.loc[3]"
   ]
  },
  {
   "cell_type": "markdown",
   "metadata": {},
   "source": [
    "iloc is for get rows with the index\n",
    "loc is for get rows with label."
   ]
  },
  {
   "cell_type": "code",
   "execution_count": 2,
   "metadata": {},
   "outputs": [
    {
     "name": "stdout",
     "output_type": "stream",
     "text": [
      "('name', 'ken')\n",
      "('age', 1)\n"
     ]
    }
   ],
   "source": [
    "a = { \"name\": \"ken\", \"age\": 1}\n",
    "\n",
    "for i in a.items():\n",
    "    print(i)"
   ]
  },
  {
   "cell_type": "code",
   "execution_count": 12,
   "metadata": {},
   "outputs": [
    {
     "data": {
      "text/plain": [
       "1"
      ]
     },
     "execution_count": 12,
     "metadata": {},
     "output_type": "execute_result"
    }
   ],
   "source": [
    "['None'].count('None')"
   ]
  },
  {
   "cell_type": "code",
   "execution_count": 7,
   "metadata": {},
   "outputs": [
    {
     "ename": "NameError",
     "evalue": "name 'b' is not defined",
     "output_type": "error",
     "traceback": [
      "\u001b[0;31m---------------------------------------------------------------------------\u001b[0m",
      "\u001b[0;31mNameError\u001b[0m                                 Traceback (most recent call last)",
      "Cell \u001b[0;32mIn[7], line 1\u001b[0m\n\u001b[0;32m----> 1\u001b[0m \u001b[43mb\u001b[49m\n",
      "\u001b[0;31mNameError\u001b[0m: name 'b' is not defined"
     ]
    }
   ],
   "source": [
    "b"
   ]
  },
  {
   "cell_type": "markdown",
   "metadata": {},
   "source": [
    "### Function Definition rule\n",
    "- Good naming\n",
    "- Good documentation\n",
    "- Error handling"
   ]
  },
  {
   "cell_type": "code",
   "execution_count": 11,
   "metadata": {},
   "outputs": [
    {
     "ename": "TypeError",
     "evalue": "func() takes 0 positional arguments but 1 was given",
     "output_type": "error",
     "traceback": [
      "\u001b[0;31m---------------------------------------------------------------------------\u001b[0m",
      "\u001b[0;31mTypeError\u001b[0m                                 Traceback (most recent call last)",
      "Cell \u001b[0;32mIn[11], line 4\u001b[0m\n\u001b[1;32m      1\u001b[0m \u001b[38;5;28;01mdef\u001b[39;00m \u001b[38;5;21mfunc\u001b[39m (\u001b[38;5;241m*\u001b[39m\u001b[38;5;241m*\u001b[39mkwargs: \u001b[38;5;28mdict\u001b[39m):\n\u001b[1;32m      2\u001b[0m     \u001b[38;5;28mprint\u001b[39m(kwargs)\n\u001b[0;32m----> 4\u001b[0m \u001b[43mfunc\u001b[49m\u001b[43m(\u001b[49m\u001b[38;5;124;43m'\u001b[39;49m\u001b[38;5;124;43mken\u001b[39;49m\u001b[38;5;124;43m'\u001b[39;49m\u001b[43m)\u001b[49m\n",
      "\u001b[0;31mTypeError\u001b[0m: func() takes 0 positional arguments but 1 was given"
     ]
    }
   ],
   "source": [
    "def func (**kwargs: dict):\n",
    "    print(kwargs)\n",
    "\n",
    "func('ken')"
   ]
  },
  {
   "cell_type": "code",
   "execution_count": 14,
   "metadata": {},
   "outputs": [
    {
     "ename": "NameError",
     "evalue": "name 'b' is not defined",
     "output_type": "error",
     "traceback": [
      "\u001b[0;31m---------------------------------------------------------------------------\u001b[0m",
      "\u001b[0;31mNameError\u001b[0m                                 Traceback (most recent call last)",
      "Cell \u001b[0;32mIn[14], line 1\u001b[0m\n\u001b[0;32m----> 1\u001b[0m \u001b[43mb\u001b[49m\n",
      "\u001b[0;31mNameError\u001b[0m: name 'b' is not defined"
     ]
    }
   ],
   "source": [
    "b = []\n",
    "c = [if i < 70 then ]"
   ]
  },
  {
   "cell_type": "code",
   "execution_count": 20,
   "metadata": {},
   "outputs": [
    {
     "data": {
      "text/plain": [
       "(('a', 'ken'),)"
      ]
     },
     "execution_count": 20,
     "metadata": {},
     "output_type": "execute_result"
    }
   ],
   "source": [
    "tuple(dict([('a','ken')]).items())"
   ]
  },
  {
   "cell_type": "code",
   "execution_count": 18,
   "metadata": {},
   "outputs": [
    {
     "data": {
      "text/plain": [
       "('a', '2', 'a', '2')"
      ]
     },
     "execution_count": 18,
     "metadata": {},
     "output_type": "execute_result"
    }
   ],
   "source": [
    "('a', '2') * 2"
   ]
  },
  {
   "cell_type": "code",
   "execution_count": 1,
   "metadata": {},
   "outputs": [],
   "source": [
    "import pandas\n",
    "\n",
    "premier_league = pandas.read_html('https://fbref.com/en/comps/9/Premier-League-Stats')"
   ]
  },
  {
   "cell_type": "code",
   "execution_count": 7,
   "metadata": {},
   "outputs": [
    {
     "data": {
      "text/html": [
       "<div>\n",
       "<style scoped>\n",
       "    .dataframe tbody tr th:only-of-type {\n",
       "        vertical-align: middle;\n",
       "    }\n",
       "\n",
       "    .dataframe tbody tr th {\n",
       "        vertical-align: top;\n",
       "    }\n",
       "\n",
       "    .dataframe thead th {\n",
       "        text-align: right;\n",
       "    }\n",
       "</style>\n",
       "<table border=\"1\" class=\"dataframe\">\n",
       "  <thead>\n",
       "    <tr style=\"text-align: right;\">\n",
       "      <th></th>\n",
       "      <th>Rk</th>\n",
       "      <th>Squad</th>\n",
       "      <th>MP</th>\n",
       "      <th>W</th>\n",
       "      <th>D</th>\n",
       "      <th>L</th>\n",
       "      <th>GF</th>\n",
       "      <th>GA</th>\n",
       "      <th>GD</th>\n",
       "      <th>Pts</th>\n",
       "      <th>Pts/MP</th>\n",
       "      <th>xG</th>\n",
       "      <th>xGA</th>\n",
       "      <th>xGD</th>\n",
       "      <th>xGD/90</th>\n",
       "      <th>Last 5</th>\n",
       "      <th>Attendance</th>\n",
       "      <th>Top Team Scorer</th>\n",
       "      <th>Goalkeeper</th>\n",
       "      <th>Notes</th>\n",
       "    </tr>\n",
       "  </thead>\n",
       "  <tbody>\n",
       "    <tr>\n",
       "      <th>0</th>\n",
       "      <td>1</td>\n",
       "      <td>Manchester City</td>\n",
       "      <td>3</td>\n",
       "      <td>3</td>\n",
       "      <td>0</td>\n",
       "      <td>0</td>\n",
       "      <td>9</td>\n",
       "      <td>2</td>\n",
       "      <td>7</td>\n",
       "      <td>9</td>\n",
       "      <td>3.00</td>\n",
       "      <td>7.1</td>\n",
       "      <td>2.0</td>\n",
       "      <td>5.1</td>\n",
       "      <td>1.71</td>\n",
       "      <td>W W W</td>\n",
       "      <td>NaN</td>\n",
       "      <td>Erling Haaland - 7</td>\n",
       "      <td>Ederson</td>\n",
       "      <td>NaN</td>\n",
       "    </tr>\n",
       "    <tr>\n",
       "      <th>1</th>\n",
       "      <td>2</td>\n",
       "      <td>Brighton</td>\n",
       "      <td>3</td>\n",
       "      <td>2</td>\n",
       "      <td>1</td>\n",
       "      <td>0</td>\n",
       "      <td>6</td>\n",
       "      <td>2</td>\n",
       "      <td>4</td>\n",
       "      <td>7</td>\n",
       "      <td>2.33</td>\n",
       "      <td>5.3</td>\n",
       "      <td>4.0</td>\n",
       "      <td>1.4</td>\n",
       "      <td>0.45</td>\n",
       "      <td>W W D</td>\n",
       "      <td>31537.0</td>\n",
       "      <td>Danny Welbeck, João Pedro - 2</td>\n",
       "      <td>Jason Steele</td>\n",
       "      <td>NaN</td>\n",
       "    </tr>\n",
       "    <tr>\n",
       "      <th>2</th>\n",
       "      <td>3</td>\n",
       "      <td>Arsenal</td>\n",
       "      <td>3</td>\n",
       "      <td>2</td>\n",
       "      <td>1</td>\n",
       "      <td>0</td>\n",
       "      <td>5</td>\n",
       "      <td>1</td>\n",
       "      <td>4</td>\n",
       "      <td>7</td>\n",
       "      <td>2.33</td>\n",
       "      <td>4.2</td>\n",
       "      <td>3.5</td>\n",
       "      <td>0.7</td>\n",
       "      <td>0.22</td>\n",
       "      <td>W W D</td>\n",
       "      <td>60294.0</td>\n",
       "      <td>Kai Havertz - 2</td>\n",
       "      <td>David Raya</td>\n",
       "      <td>NaN</td>\n",
       "    </tr>\n",
       "    <tr>\n",
       "      <th>3</th>\n",
       "      <td>4</td>\n",
       "      <td>Liverpool</td>\n",
       "      <td>2</td>\n",
       "      <td>2</td>\n",
       "      <td>0</td>\n",
       "      <td>0</td>\n",
       "      <td>4</td>\n",
       "      <td>0</td>\n",
       "      <td>4</td>\n",
       "      <td>6</td>\n",
       "      <td>3.00</td>\n",
       "      <td>6.8</td>\n",
       "      <td>2.4</td>\n",
       "      <td>4.5</td>\n",
       "      <td>1.49</td>\n",
       "      <td>W W W</td>\n",
       "      <td>NaN</td>\n",
       "      <td>Mohamed Salah, Luis Díaz - 3</td>\n",
       "      <td>Alisson</td>\n",
       "      <td>NaN</td>\n",
       "    </tr>\n",
       "    <tr>\n",
       "      <th>4</th>\n",
       "      <td>5</td>\n",
       "      <td>Brentford</td>\n",
       "      <td>3</td>\n",
       "      <td>2</td>\n",
       "      <td>0</td>\n",
       "      <td>1</td>\n",
       "      <td>5</td>\n",
       "      <td>4</td>\n",
       "      <td>1</td>\n",
       "      <td>6</td>\n",
       "      <td>2.00</td>\n",
       "      <td>4.9</td>\n",
       "      <td>5.2</td>\n",
       "      <td>-0.3</td>\n",
       "      <td>-0.09</td>\n",
       "      <td>W L W</td>\n",
       "      <td>16972.0</td>\n",
       "      <td>Bryan Mbeumo - 3</td>\n",
       "      <td>Mark Flekken</td>\n",
       "      <td>NaN</td>\n",
       "    </tr>\n",
       "    <tr>\n",
       "      <th>5</th>\n",
       "      <td>6</td>\n",
       "      <td>Aston Villa</td>\n",
       "      <td>3</td>\n",
       "      <td>2</td>\n",
       "      <td>0</td>\n",
       "      <td>1</td>\n",
       "      <td>4</td>\n",
       "      <td>4</td>\n",
       "      <td>0</td>\n",
       "      <td>6</td>\n",
       "      <td>2.00</td>\n",
       "      <td>4.6</td>\n",
       "      <td>3.6</td>\n",
       "      <td>1.0</td>\n",
       "      <td>0.33</td>\n",
       "      <td>W L W</td>\n",
       "      <td>NaN</td>\n",
       "      <td>Amadou Onana, Jhon Durán - 2</td>\n",
       "      <td>Emiliano Martínez</td>\n",
       "      <td>NaN</td>\n",
       "    </tr>\n",
       "    <tr>\n",
       "      <th>6</th>\n",
       "      <td>7</td>\n",
       "      <td>Bournemouth</td>\n",
       "      <td>3</td>\n",
       "      <td>1</td>\n",
       "      <td>2</td>\n",
       "      <td>0</td>\n",
       "      <td>5</td>\n",
       "      <td>4</td>\n",
       "      <td>1</td>\n",
       "      <td>5</td>\n",
       "      <td>1.67</td>\n",
       "      <td>5.7</td>\n",
       "      <td>4.8</td>\n",
       "      <td>0.9</td>\n",
       "      <td>0.30</td>\n",
       "      <td>D D W</td>\n",
       "      <td>11161.0</td>\n",
       "      <td>Antoine Semenyo - 2</td>\n",
       "      <td>Neto</td>\n",
       "      <td>NaN</td>\n",
       "    </tr>\n",
       "    <tr>\n",
       "      <th>7</th>\n",
       "      <td>8</td>\n",
       "      <td>Nott'ham Forest</td>\n",
       "      <td>3</td>\n",
       "      <td>1</td>\n",
       "      <td>2</td>\n",
       "      <td>0</td>\n",
       "      <td>3</td>\n",
       "      <td>2</td>\n",
       "      <td>1</td>\n",
       "      <td>5</td>\n",
       "      <td>1.67</td>\n",
       "      <td>4.6</td>\n",
       "      <td>2.1</td>\n",
       "      <td>2.5</td>\n",
       "      <td>0.83</td>\n",
       "      <td>D W D</td>\n",
       "      <td>29841.0</td>\n",
       "      <td>Chris Wood - 2</td>\n",
       "      <td>Matz Sels</td>\n",
       "      <td>NaN</td>\n",
       "    </tr>\n",
       "    <tr>\n",
       "      <th>8</th>\n",
       "      <td>9</td>\n",
       "      <td>Tottenham</td>\n",
       "      <td>2</td>\n",
       "      <td>1</td>\n",
       "      <td>1</td>\n",
       "      <td>0</td>\n",
       "      <td>5</td>\n",
       "      <td>1</td>\n",
       "      <td>4</td>\n",
       "      <td>4</td>\n",
       "      <td>2.00</td>\n",
       "      <td>4.8</td>\n",
       "      <td>3.5</td>\n",
       "      <td>1.3</td>\n",
       "      <td>0.43</td>\n",
       "      <td>D W L</td>\n",
       "      <td>61357.0</td>\n",
       "      <td>Son Heung-min - 2</td>\n",
       "      <td>Guglielmo Vicario</td>\n",
       "      <td>NaN</td>\n",
       "    </tr>\n",
       "    <tr>\n",
       "      <th>9</th>\n",
       "      <td>10</td>\n",
       "      <td>Newcastle Utd</td>\n",
       "      <td>2</td>\n",
       "      <td>1</td>\n",
       "      <td>1</td>\n",
       "      <td>0</td>\n",
       "      <td>2</td>\n",
       "      <td>1</td>\n",
       "      <td>1</td>\n",
       "      <td>4</td>\n",
       "      <td>2.00</td>\n",
       "      <td>3.4</td>\n",
       "      <td>5.2</td>\n",
       "      <td>-1.8</td>\n",
       "      <td>-0.60</td>\n",
       "      <td>W D W</td>\n",
       "      <td>52204.0</td>\n",
       "      <td>Joelinton, Alexander Isak... - 1</td>\n",
       "      <td>Nick Pope</td>\n",
       "      <td>NaN</td>\n",
       "    </tr>\n",
       "    <tr>\n",
       "      <th>10</th>\n",
       "      <td>11</td>\n",
       "      <td>Fulham</td>\n",
       "      <td>3</td>\n",
       "      <td>1</td>\n",
       "      <td>1</td>\n",
       "      <td>1</td>\n",
       "      <td>3</td>\n",
       "      <td>3</td>\n",
       "      <td>0</td>\n",
       "      <td>4</td>\n",
       "      <td>1.33</td>\n",
       "      <td>3.1</td>\n",
       "      <td>3.5</td>\n",
       "      <td>-0.4</td>\n",
       "      <td>-0.12</td>\n",
       "      <td>L W D</td>\n",
       "      <td>25401.0</td>\n",
       "      <td>Adama Traoré, Alex Iwobi... - 1</td>\n",
       "      <td>Bernd Leno</td>\n",
       "      <td>NaN</td>\n",
       "    </tr>\n",
       "    <tr>\n",
       "      <th>11</th>\n",
       "      <td>12</td>\n",
       "      <td>Chelsea</td>\n",
       "      <td>2</td>\n",
       "      <td>1</td>\n",
       "      <td>0</td>\n",
       "      <td>1</td>\n",
       "      <td>6</td>\n",
       "      <td>4</td>\n",
       "      <td>2</td>\n",
       "      <td>3</td>\n",
       "      <td>1.50</td>\n",
       "      <td>4.9</td>\n",
       "      <td>3.2</td>\n",
       "      <td>1.7</td>\n",
       "      <td>0.57</td>\n",
       "      <td>L W D</td>\n",
       "      <td>39558.0</td>\n",
       "      <td>Noni Madueke - 3</td>\n",
       "      <td>Robert Sánchez</td>\n",
       "      <td>NaN</td>\n",
       "    </tr>\n",
       "    <tr>\n",
       "      <th>12</th>\n",
       "      <td>13</td>\n",
       "      <td>Manchester Utd</td>\n",
       "      <td>2</td>\n",
       "      <td>1</td>\n",
       "      <td>0</td>\n",
       "      <td>1</td>\n",
       "      <td>2</td>\n",
       "      <td>2</td>\n",
       "      <td>0</td>\n",
       "      <td>3</td>\n",
       "      <td>1.50</td>\n",
       "      <td>5.2</td>\n",
       "      <td>4.2</td>\n",
       "      <td>1.0</td>\n",
       "      <td>0.32</td>\n",
       "      <td>W L L</td>\n",
       "      <td>73518.0</td>\n",
       "      <td>Joshua Zirkzee, Amad Diallo - 1</td>\n",
       "      <td>André Onana</td>\n",
       "      <td>NaN</td>\n",
       "    </tr>\n",
       "    <tr>\n",
       "      <th>13</th>\n",
       "      <td>14</td>\n",
       "      <td>West Ham</td>\n",
       "      <td>3</td>\n",
       "      <td>1</td>\n",
       "      <td>0</td>\n",
       "      <td>2</td>\n",
       "      <td>4</td>\n",
       "      <td>5</td>\n",
       "      <td>-1</td>\n",
       "      <td>3</td>\n",
       "      <td>1.00</td>\n",
       "      <td>4.4</td>\n",
       "      <td>6.3</td>\n",
       "      <td>-1.9</td>\n",
       "      <td>-0.64</td>\n",
       "      <td>L W L</td>\n",
       "      <td>62463.0</td>\n",
       "      <td>Tomáš Souček, Lucas Paquetá... - 1</td>\n",
       "      <td>Alphonse Areola</td>\n",
       "      <td>NaN</td>\n",
       "    </tr>\n",
       "    <tr>\n",
       "      <th>14</th>\n",
       "      <td>15</td>\n",
       "      <td>Leicester City</td>\n",
       "      <td>3</td>\n",
       "      <td>0</td>\n",
       "      <td>1</td>\n",
       "      <td>2</td>\n",
       "      <td>3</td>\n",
       "      <td>5</td>\n",
       "      <td>-2</td>\n",
       "      <td>1</td>\n",
       "      <td>0.33</td>\n",
       "      <td>2.1</td>\n",
       "      <td>4.3</td>\n",
       "      <td>-2.2</td>\n",
       "      <td>-0.74</td>\n",
       "      <td>D L L</td>\n",
       "      <td>31851.0</td>\n",
       "      <td>Jamie Vardy, Wout Faes... - 1</td>\n",
       "      <td>Mads Hermansen</td>\n",
       "      <td>NaN</td>\n",
       "    </tr>\n",
       "    <tr>\n",
       "      <th>15</th>\n",
       "      <td>16</td>\n",
       "      <td>Ipswich Town</td>\n",
       "      <td>3</td>\n",
       "      <td>0</td>\n",
       "      <td>1</td>\n",
       "      <td>2</td>\n",
       "      <td>2</td>\n",
       "      <td>7</td>\n",
       "      <td>-5</td>\n",
       "      <td>1</td>\n",
       "      <td>0.33</td>\n",
       "      <td>1.2</td>\n",
       "      <td>6.8</td>\n",
       "      <td>-5.7</td>\n",
       "      <td>-1.89</td>\n",
       "      <td>L L D</td>\n",
       "      <td>29766.0</td>\n",
       "      <td>Sammie Szmodics, Liam Delap - 1</td>\n",
       "      <td>Arijanet Muric</td>\n",
       "      <td>NaN</td>\n",
       "    </tr>\n",
       "    <tr>\n",
       "      <th>16</th>\n",
       "      <td>17</td>\n",
       "      <td>Wolves</td>\n",
       "      <td>3</td>\n",
       "      <td>0</td>\n",
       "      <td>1</td>\n",
       "      <td>2</td>\n",
       "      <td>3</td>\n",
       "      <td>9</td>\n",
       "      <td>-6</td>\n",
       "      <td>1</td>\n",
       "      <td>0.33</td>\n",
       "      <td>3.2</td>\n",
       "      <td>3.9</td>\n",
       "      <td>-0.7</td>\n",
       "      <td>-0.25</td>\n",
       "      <td>L L D</td>\n",
       "      <td>31235.0</td>\n",
       "      <td>Jean-Ricner Bellegarde, Jørgen Strand Larsen.....</td>\n",
       "      <td>José Sá</td>\n",
       "      <td>NaN</td>\n",
       "    </tr>\n",
       "    <tr>\n",
       "      <th>17</th>\n",
       "      <td>18</td>\n",
       "      <td>Crystal Palace</td>\n",
       "      <td>2</td>\n",
       "      <td>0</td>\n",
       "      <td>0</td>\n",
       "      <td>2</td>\n",
       "      <td>1</td>\n",
       "      <td>4</td>\n",
       "      <td>-3</td>\n",
       "      <td>0</td>\n",
       "      <td>0.00</td>\n",
       "      <td>3.0</td>\n",
       "      <td>5.2</td>\n",
       "      <td>-2.3</td>\n",
       "      <td>-0.75</td>\n",
       "      <td>L L D</td>\n",
       "      <td>25099.0</td>\n",
       "      <td>Eberechi Eze - 1</td>\n",
       "      <td>Dean Henderson</td>\n",
       "      <td>NaN</td>\n",
       "    </tr>\n",
       "    <tr>\n",
       "      <th>18</th>\n",
       "      <td>19</td>\n",
       "      <td>Southampton</td>\n",
       "      <td>3</td>\n",
       "      <td>0</td>\n",
       "      <td>0</td>\n",
       "      <td>3</td>\n",
       "      <td>1</td>\n",
       "      <td>5</td>\n",
       "      <td>-4</td>\n",
       "      <td>0</td>\n",
       "      <td>0.00</td>\n",
       "      <td>3.4</td>\n",
       "      <td>5.3</td>\n",
       "      <td>-1.9</td>\n",
       "      <td>-0.63</td>\n",
       "      <td>L L L</td>\n",
       "      <td>31150.0</td>\n",
       "      <td>Yukinari Sugawara - 1</td>\n",
       "      <td>Alex McCarthy</td>\n",
       "      <td>NaN</td>\n",
       "    </tr>\n",
       "    <tr>\n",
       "      <th>19</th>\n",
       "      <td>20</td>\n",
       "      <td>Everton</td>\n",
       "      <td>3</td>\n",
       "      <td>0</td>\n",
       "      <td>0</td>\n",
       "      <td>3</td>\n",
       "      <td>2</td>\n",
       "      <td>10</td>\n",
       "      <td>-8</td>\n",
       "      <td>0</td>\n",
       "      <td>0.00</td>\n",
       "      <td>3.2</td>\n",
       "      <td>6.1</td>\n",
       "      <td>-2.8</td>\n",
       "      <td>-0.95</td>\n",
       "      <td>L L L</td>\n",
       "      <td>38805.0</td>\n",
       "      <td>Michael Keane, Dominic Calvert-Lewin - 1</td>\n",
       "      <td>Jordan Pickford</td>\n",
       "      <td>NaN</td>\n",
       "    </tr>\n",
       "  </tbody>\n",
       "</table>\n",
       "</div>"
      ],
      "text/plain": [
       "    Rk            Squad  MP  W  D  L  GF  GA  GD  Pts  Pts/MP   xG  xGA  xGD  \\\n",
       "0    1  Manchester City   3  3  0  0   9   2   7    9    3.00  7.1  2.0  5.1   \n",
       "1    2         Brighton   3  2  1  0   6   2   4    7    2.33  5.3  4.0  1.4   \n",
       "2    3          Arsenal   3  2  1  0   5   1   4    7    2.33  4.2  3.5  0.7   \n",
       "3    4        Liverpool   2  2  0  0   4   0   4    6    3.00  6.8  2.4  4.5   \n",
       "4    5        Brentford   3  2  0  1   5   4   1    6    2.00  4.9  5.2 -0.3   \n",
       "5    6      Aston Villa   3  2  0  1   4   4   0    6    2.00  4.6  3.6  1.0   \n",
       "6    7      Bournemouth   3  1  2  0   5   4   1    5    1.67  5.7  4.8  0.9   \n",
       "7    8  Nott'ham Forest   3  1  2  0   3   2   1    5    1.67  4.6  2.1  2.5   \n",
       "8    9        Tottenham   2  1  1  0   5   1   4    4    2.00  4.8  3.5  1.3   \n",
       "9   10    Newcastle Utd   2  1  1  0   2   1   1    4    2.00  3.4  5.2 -1.8   \n",
       "10  11           Fulham   3  1  1  1   3   3   0    4    1.33  3.1  3.5 -0.4   \n",
       "11  12          Chelsea   2  1  0  1   6   4   2    3    1.50  4.9  3.2  1.7   \n",
       "12  13   Manchester Utd   2  1  0  1   2   2   0    3    1.50  5.2  4.2  1.0   \n",
       "13  14         West Ham   3  1  0  2   4   5  -1    3    1.00  4.4  6.3 -1.9   \n",
       "14  15   Leicester City   3  0  1  2   3   5  -2    1    0.33  2.1  4.3 -2.2   \n",
       "15  16     Ipswich Town   3  0  1  2   2   7  -5    1    0.33  1.2  6.8 -5.7   \n",
       "16  17           Wolves   3  0  1  2   3   9  -6    1    0.33  3.2  3.9 -0.7   \n",
       "17  18   Crystal Palace   2  0  0  2   1   4  -3    0    0.00  3.0  5.2 -2.3   \n",
       "18  19      Southampton   3  0  0  3   1   5  -4    0    0.00  3.4  5.3 -1.9   \n",
       "19  20          Everton   3  0  0  3   2  10  -8    0    0.00  3.2  6.1 -2.8   \n",
       "\n",
       "    xGD/90 Last 5  Attendance  \\\n",
       "0     1.71  W W W         NaN   \n",
       "1     0.45  W W D     31537.0   \n",
       "2     0.22  W W D     60294.0   \n",
       "3     1.49  W W W         NaN   \n",
       "4    -0.09  W L W     16972.0   \n",
       "5     0.33  W L W         NaN   \n",
       "6     0.30  D D W     11161.0   \n",
       "7     0.83  D W D     29841.0   \n",
       "8     0.43  D W L     61357.0   \n",
       "9    -0.60  W D W     52204.0   \n",
       "10   -0.12  L W D     25401.0   \n",
       "11    0.57  L W D     39558.0   \n",
       "12    0.32  W L L     73518.0   \n",
       "13   -0.64  L W L     62463.0   \n",
       "14   -0.74  D L L     31851.0   \n",
       "15   -1.89  L L D     29766.0   \n",
       "16   -0.25  L L D     31235.0   \n",
       "17   -0.75  L L D     25099.0   \n",
       "18   -0.63  L L L     31150.0   \n",
       "19   -0.95  L L L     38805.0   \n",
       "\n",
       "                                      Top Team Scorer         Goalkeeper  \\\n",
       "0                                  Erling Haaland - 7            Ederson   \n",
       "1                       Danny Welbeck, João Pedro - 2       Jason Steele   \n",
       "2                                     Kai Havertz - 2         David Raya   \n",
       "3                        Mohamed Salah, Luis Díaz - 3            Alisson   \n",
       "4                                    Bryan Mbeumo - 3       Mark Flekken   \n",
       "5                        Amadou Onana, Jhon Durán - 2  Emiliano Martínez   \n",
       "6                                 Antoine Semenyo - 2               Neto   \n",
       "7                                      Chris Wood - 2          Matz Sels   \n",
       "8                                   Son Heung-min - 2  Guglielmo Vicario   \n",
       "9                    Joelinton, Alexander Isak... - 1          Nick Pope   \n",
       "10                    Adama Traoré, Alex Iwobi... - 1         Bernd Leno   \n",
       "11                                   Noni Madueke - 3     Robert Sánchez   \n",
       "12                    Joshua Zirkzee, Amad Diallo - 1        André Onana   \n",
       "13                 Tomáš Souček, Lucas Paquetá... - 1    Alphonse Areola   \n",
       "14                      Jamie Vardy, Wout Faes... - 1     Mads Hermansen   \n",
       "15                    Sammie Szmodics, Liam Delap - 1     Arijanet Muric   \n",
       "16  Jean-Ricner Bellegarde, Jørgen Strand Larsen.....            José Sá   \n",
       "17                                   Eberechi Eze - 1     Dean Henderson   \n",
       "18                              Yukinari Sugawara - 1      Alex McCarthy   \n",
       "19           Michael Keane, Dominic Calvert-Lewin - 1    Jordan Pickford   \n",
       "\n",
       "    Notes  \n",
       "0     NaN  \n",
       "1     NaN  \n",
       "2     NaN  \n",
       "3     NaN  \n",
       "4     NaN  \n",
       "5     NaN  \n",
       "6     NaN  \n",
       "7     NaN  \n",
       "8     NaN  \n",
       "9     NaN  \n",
       "10    NaN  \n",
       "11    NaN  \n",
       "12    NaN  \n",
       "13    NaN  \n",
       "14    NaN  \n",
       "15    NaN  \n",
       "16    NaN  \n",
       "17    NaN  \n",
       "18    NaN  \n",
       "19    NaN  "
      ]
     },
     "execution_count": 7,
     "metadata": {},
     "output_type": "execute_result"
    }
   ],
   "source": [
    "premier_league[0]"
   ]
  },
  {
   "cell_type": "code",
   "execution_count": 1,
   "metadata": {},
   "outputs": [],
   "source": [
    "from matplotlib import pyplot as plt"
   ]
  },
  {
   "cell_type": "code",
   "execution_count": 18,
   "metadata": {},
   "outputs": [
    {
     "data": {
      "text/plain": [
       "(array([1., 0., 0., 0., 0., 1., 0., 0., 0., 1.]),\n",
       " array([1. , 1.2, 1.4, 1.6, 1.8, 2. , 2.2, 2.4, 2.6, 2.8, 3. ]),\n",
       " <BarContainer object of 10 artists>)"
      ]
     },
     "execution_count": 18,
     "metadata": {},
     "output_type": "execute_result"
    },
    {
     "data": {
      "image/png": "[encoded data removed]",
      "text/plain": [
       "<Figure size 640x480 with 1 Axes>"
      ]
     },
     "metadata": {},
     "output_type": "display_data"
    }
   ],
   "source": [
    "plt.hist(x=[1,2,3], data=[1,2,3])"
   ]
  },
  {
   "cell_type": "code",
   "execution_count": 26,
   "metadata": {},
   "outputs": [
    {
     "data": {
      "text/plain": [
       "3.5"
      ]
     },
     "execution_count": 26,
     "metadata": {},
     "output_type": "execute_result"
    }
   ],
   "source": [
    "def avg(*args):\n",
    "    return sum(args) / len(args)\n",
    "\n",
    "avg(2, 5)"
   ]
  },
  {
   "cell_type": "code",
   "execution_count": 39,
   "metadata": {},
   "outputs": [],
   "source": [
    "class Item:\n",
    "    # Implement the Item here\n",
    "    def __init__(self, name: str, price: int):\n",
    "        self.name = name\n",
    "        self.price = price\n",
    "\n",
    "class ShoppingCart:\n",
    "    # Implement the ShoppingCart here\n",
    "    items = []\n",
    "        \n",
    "    def add(self, item: Item):\n",
    "        self.items.append(item)\n",
    "        \n",
    "    def total(self):\n",
    "        totalPrice = 0\n",
    "        \n",
    "        for item in self.items:\n",
    "            totalPrice += item.price\n",
    "            \n",
    "        return totalPrice\n",
    "        \n",
    "    def __len__(self):\n",
    "        return len(self.items)"
   ]
  },
  {
   "cell_type": "code",
   "execution_count": 40,
   "metadata": {},
   "outputs": [],
   "source": [
    "cart = ShoppingCart()"
   ]
  },
  {
   "cell_type": "code",
   "execution_count": 41,
   "metadata": {},
   "outputs": [],
   "source": [
    "cart.add(Item('ken', 5))"
   ]
  },
  {
   "cell_type": "code",
   "execution_count": 42,
   "metadata": {},
   "outputs": [
    {
     "data": {
      "text/plain": [
       "5"
      ]
     },
     "execution_count": 42,
     "metadata": {},
     "output_type": "execute_result"
    }
   ],
   "source": [
    "cart.total()"
   ]
  },
  {
   "cell_type": "code",
   "execution_count": 45,
   "metadata": {},
   "outputs": [
    {
     "data": {
      "text/plain": [
       "3"
      ]
     },
     "execution_count": 45,
     "metadata": {},
     "output_type": "execute_result"
    }
   ],
   "source": [
    "[1, 2,3 , 42, 1, 1].count(1)"
   ]
  },
  {
   "cell_type": "code",
   "execution_count": 73,
   "metadata": {},
   "outputs": [],
   "source": [
    "def mostActive(customers):\n",
    "    # Write your code here\n",
    "    selected = [str(c) for c in set(customers[1:-1]) if (customers.count(c) / len(customers)) >= 0.05]\n",
    "    return sorted(selected)\n",
    "    "
   ]
  },
  {
   "cell_type": "code",
   "execution_count": 74,
   "metadata": {},
   "outputs": [
    {
     "data": {
      "text/plain": [
       "['Alpha', 'Omega']"
      ]
     },
     "execution_count": 74,
     "metadata": {},
     "output_type": "execute_result"
    }
   ],
   "source": [
    "mostActive([20, 'Omega', 'Alpha', 'Omega', 'Alpha', 'Omega', 'Alpha', 'Omega', 'Alpha', 'Omega', 'Alpha', 'Omega', 'Alpha', 'Omega', 'Alpha', 'Omega', 'Alpha', 'Omega', 'Alpha', 'Omega', 'Beta'])"
   ]
  },
  {
   "cell_type": "code",
   "execution_count": 92,
   "metadata": {},
   "outputs": [
    {
     "data": {
      "text/plain": [
       "['Ddtlcouegmdbyfwu', 'Ppuvhifnuap']"
      ]
     },
     "execution_count": 92,
     "metadata": {},
     "output_type": "execute_result"
    }
   ],
   "source": [
    "mostActive(['Bey', 'Ddtlcouegmdbyfwu', 'Ppuvhifnuap', 'Ppuvhifnuap', 'Ppuvhifnuap', 'Ppuvhifnuap', 'Ddtlcouegmdbyfwu', 'Ddtlcouegmdbyfwu', 'Ppuvhifnuap', 'Ppuvhifnuap', 'Ppuvhifnuap', 'Ppuvhifnuap', 'Ddtlcouegmdbyfwu', 'Ppuvhifnuap', 'Ddtlcouegmdbyfwu', 'Ppuvhifnuap', 'Ppuvhifnuap', 'Ppuvhifnuap', 'Ppuvhifnuap', 'Ppuvhifnuap'])"
   ]
  },
  {
   "cell_type": "code",
   "execution_count": 85,
   "metadata": {},
   "outputs": [],
   "source": []
  },
  {
   "cell_type": "code",
   "execution_count": null,
   "metadata": {},
   "outputs": [],
   "source": []
  }
 ],
 "metadata": {
  "kernelspec": {
   "display_name": "Python 3",
   "language": "python",
   "name": "python3"
  },
  "language_info": {
   "codemirror_mode": {
    "name": "ipython",
    "version": 3
   },
   "file_extension": ".py",
   "mimetype": "text/x-python",
   "name": "python",
   "nbconvert_exporter": "python",
   "pygments_lexer": "ipython3",
   "version": "3.10.12"
  }
 },
 "nbformat": 4,
 "nbformat_minor": 2
}
