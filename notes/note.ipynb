{
 "cells": [
  {
   "cell_type": "code",
   "execution_count": 54,
   "metadata": {},
   "outputs": [
    {
     "name": "stdout",
     "output_type": "stream",
     "text": [
      "odiroya\n"
     ]
    }
   ],
   "source": [
    "a = { 'name': 'Ken', 'age': 4 }\n",
    "b = [0]\n",
    "c = (1)\n",
    "d = {1}\n",
    "\n",
    "print(a.get('sss', 'odiroya'))"
   ]
  },
  {
   "cell_type": "markdown",
   "metadata": {},
   "source": [
    "# is keyword\n",
    "This is used to check the equality of two variables.\n"
   ]
  },
  {
   "cell_type": "code",
   "execution_count": 55,
   "metadata": {},
   "outputs": [
    {
     "name": "stdout",
     "output_type": "stream",
     "text": [
      "{'name': 'Ken', 'age': 4, 'class': 'sample'}\n"
     ]
    }
   ],
   "source": [
    "a.update({ 'class': 'sample' })\n",
    "print(a)"
   ]
  },
  {
   "cell_type": "code",
   "execution_count": 56,
   "metadata": {},
   "outputs": [
    {
     "name": "stdout",
     "output_type": "stream",
     "text": [
      "{'name': 'Ken', 'age': 4, 'class': 'sample'} {'name': 'Ken', 'age': 4, 'class': 'sample'}\n"
     ]
    }
   ],
   "source": [
    "m = { **a }\n",
    "print(m, a)"
   ]
  },
  {
   "cell_type": "code",
   "execution_count": 60,
   "metadata": {},
   "outputs": [
    {
     "name": "stdout",
     "output_type": "stream",
     "text": [
      "{('class', 'sample'), ('age', 4), ('name', 'Ken')} [('name', 'Ken'), ('age', 4), ('class', 'sample')] (('name', 'Ken'), ('age', 4), ('class', 'sample'))\n"
     ]
    }
   ],
   "source": [
    "print(set(a.items()), list(a.items()), tuple(a.items()))"
   ]
  }
 ],
 "metadata": {
  "kernelspec": {
   "display_name": "Python 3",
   "language": "python",
   "name": "python3"
  },
  "language_info": {
   "codemirror_mode": {
    "name": "ipython",
    "version": 3
   },
   "file_extension": ".py",
   "mimetype": "text/x-python",
   "name": "python",
   "nbconvert_exporter": "python",
   "pygments_lexer": "ipython3",
   "version": "3.10.12"
  }
 },
 "nbformat": 4,
 "nbformat_minor": 2
}
