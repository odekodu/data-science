{
 "cells": [
  {
   "cell_type": "markdown",
   "metadata": {},
   "source": [
    "# Introduction to Python\n",
    "\n",
    "### Why Python \n",
    "- It is object oriented.\n",
    "- It has a rich library for data science.\n",
    "- It also has a rich community of contributors.\n",
    "- It has rules which help to avoid errors.\n",
    "\n",
    "# Variables and Data types\n",
    "\n",
    "### Creating a variable\n",
    "- Have a variable name"
   ]
  },
  {
   "cell_type": "code",
   "execution_count": 1,
   "metadata": {},
   "outputs": [
    {
     "name": "stdout",
     "output_type": "stream",
     "text": [
      "Kennedy\n"
     ]
    }
   ],
   "source": [
    "name = 'Kennedy'\n",
    "print(name)"
   ]
  },
  {
   "cell_type": "markdown",
   "metadata": {},
   "source": [
    "### Rules to naming and using a variable\n",
    "\n",
    "##### Rule 1\n",
    "- Variable names can contain; letters, numbers and underscores\n",
    "- Variables can start with underscore or letter but not number.\n",
    "\n",
    "##### Rule 2\n",
    "- Spaces are not allowed in variable names, underscore can be useful\n",
    "\n",
    "##### Rule 3\n",
    "- Avoid using python keywords and function names as variables\n",
    "- If you use keywords you will create a confusion and errors.\n",
    "\n",
    "##### Rule 4\n",
    "- Variable names should be description and not too long.\n",
    "\n",
    "##### Rule 5\n",
    "- Becaruful when using similar letters and numbers, they can be confusing.\n",
    "\n",
    "\n",
    "### Popular Errors\n",
    "\n",
    "##### Name Error\n",
    "This occurs when using a variable that has not been defined.\n",
    "\n",
    "\n",
    "### Introduction to Strings.\n",
    "String is a data type.\n",
    "A string is a series of characters.\n",
    "Anything inside (1, 2 or 3)quotes is considered a string in Python.\n",
    "\n",
    "\n",
    "# Relate to something real."
   ]
  },
  {
   "cell_type": "code",
   "execution_count": 7,
   "metadata": {},
   "outputs": [
    {
     "data": {
      "text/html": [
       "<div>\n",
       "<style scoped>\n",
       "    .dataframe tbody tr th:only-of-type {\n",
       "        vertical-align: middle;\n",
       "    }\n",
       "\n",
       "    .dataframe tbody tr th {\n",
       "        vertical-align: top;\n",
       "    }\n",
       "\n",
       "    .dataframe thead th {\n",
       "        text-align: right;\n",
       "    }\n",
       "</style>\n",
       "<table border=\"1\" class=\"dataframe\">\n",
       "  <thead>\n",
       "    <tr style=\"text-align: right;\">\n",
       "      <th></th>\n",
       "      <th>Game Name</th>\n",
       "      <th>Developer</th>\n",
       "      <th>Genre</th>\n",
       "      <th>Rating</th>\n",
       "    </tr>\n",
       "  </thead>\n",
       "  <tbody>\n",
       "    <tr>\n",
       "      <th>0</th>\n",
       "      <td>Candy Crush Saga</td>\n",
       "      <td>King</td>\n",
       "      <td>Puzzle</td>\n",
       "      <td>4.6</td>\n",
       "    </tr>\n",
       "    <tr>\n",
       "      <th>1</th>\n",
       "      <td>Clash of Clans</td>\n",
       "      <td>Supercell</td>\n",
       "      <td>Strategy</td>\n",
       "      <td>4.5</td>\n",
       "    </tr>\n",
       "    <tr>\n",
       "      <th>2</th>\n",
       "      <td>Among Us</td>\n",
       "      <td>InnerSloth</td>\n",
       "      <td>Party</td>\n",
       "      <td>4.4</td>\n",
       "    </tr>\n",
       "    <tr>\n",
       "      <th>3</th>\n",
       "      <td>Pokémon GO</td>\n",
       "      <td>Niantic</td>\n",
       "      <td>Augmented Reality</td>\n",
       "      <td>4.3</td>\n",
       "    </tr>\n",
       "    <tr>\n",
       "      <th>4</th>\n",
       "      <td>PUBG Mobile</td>\n",
       "      <td>Tencent Games</td>\n",
       "      <td>Battle Royale</td>\n",
       "      <td>4.2</td>\n",
       "    </tr>\n",
       "    <tr>\n",
       "      <th>...</th>\n",
       "      <td>...</td>\n",
       "      <td>...</td>\n",
       "      <td>...</td>\n",
       "      <td>...</td>\n",
       "    </tr>\n",
       "    <tr>\n",
       "      <th>96</th>\n",
       "      <td>Stardew Valley</td>\n",
       "      <td>ConcernedApe</td>\n",
       "      <td>Simulation</td>\n",
       "      <td>4.7</td>\n",
       "    </tr>\n",
       "    <tr>\n",
       "      <th>97</th>\n",
       "      <td>Hades</td>\n",
       "      <td>Supergiant Games</td>\n",
       "      <td>Action</td>\n",
       "      <td>4.9</td>\n",
       "    </tr>\n",
       "    <tr>\n",
       "      <th>98</th>\n",
       "      <td>Plague Inc.</td>\n",
       "      <td>Ndemic Creations</td>\n",
       "      <td>Strategy</td>\n",
       "      <td>4.5</td>\n",
       "    </tr>\n",
       "    <tr>\n",
       "      <th>99</th>\n",
       "      <td>Alto's Adventure</td>\n",
       "      <td>Noodlecake Studios</td>\n",
       "      <td>Endless Runner</td>\n",
       "      <td>4.7</td>\n",
       "    </tr>\n",
       "    <tr>\n",
       "      <th>100</th>\n",
       "      <td>The Room</td>\n",
       "      <td>Fireproof Games</td>\n",
       "      <td>Puzzle</td>\n",
       "      <td>4.8</td>\n",
       "    </tr>\n",
       "  </tbody>\n",
       "</table>\n",
       "<p>101 rows × 4 columns</p>\n",
       "</div>"
      ],
      "text/plain": [
       "            Game Name           Developer              Genre  Rating\n",
       "0    Candy Crush Saga                King             Puzzle     4.6\n",
       "1      Clash of Clans           Supercell           Strategy     4.5\n",
       "2            Among Us          InnerSloth              Party     4.4\n",
       "3          Pokémon GO             Niantic  Augmented Reality     4.3\n",
       "4         PUBG Mobile       Tencent Games      Battle Royale     4.2\n",
       "..                ...                 ...                ...     ...\n",
       "96     Stardew Valley        ConcernedApe         Simulation     4.7\n",
       "97              Hades    Supergiant Games             Action     4.9\n",
       "98        Plague Inc.    Ndemic Creations           Strategy     4.5\n",
       "99   Alto's Adventure  Noodlecake Studios     Endless Runner     4.7\n",
       "100          The Room     Fireproof Games             Puzzle     4.8\n",
       "\n",
       "[101 rows x 4 columns]"
      ]
     },
     "execution_count": 7,
     "metadata": {},
     "output_type": "execute_result"
    }
   ],
   "source": [
    "# Import a package - we need to perform a specific task\n",
    "# Pandas is a python module used to read and manipulate tabular data files;\n",
    "import pandas as pd\n",
    "\n",
    "# Read a dataset into a dataframe\n",
    "pd.read_csv('../../mobile-game-ratings.csv')\n",
    "# Extract the data type"
   ]
  },
  {
   "cell_type": "code",
   "execution_count": 8,
   "metadata": {},
   "outputs": [
    {
     "name": "stdout",
     "output_type": "stream",
     "text": [
      "<class 'set'>\n"
     ]
    }
   ],
   "source": [
    "a = {1, 2, 3}\n",
    "print(type(a))"
   ]
  }
 ],
 "metadata": {
  "kernelspec": {
   "display_name": "Python 3",
   "language": "python",
   "name": "python3"
  },
  "language_info": {
   "codemirror_mode": {
    "name": "ipython",
    "version": 3
   },
   "file_extension": ".py",
   "mimetype": "text/x-python",
   "name": "python",
   "nbconvert_exporter": "python",
   "pygments_lexer": "ipython3",
   "version": "3.10.12"
  }
 },
 "nbformat": 4,
 "nbformat_minor": 2
}
