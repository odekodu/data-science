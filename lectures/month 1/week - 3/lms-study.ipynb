{
 "cells": [
  {
   "cell_type": "markdown",
   "metadata": {},
   "source": [
    "# Data structure\n",
    "A data structure provides a way of organising data to use them effectively and efficiently.\n",
    "\n",
    "e.g Arrays, Stacks, Heaps, Linked Lists, Sets, Dictinaries, Queue etc.\n",
    "\n",
    "##### Array\n",
    "An array is a collection of data, each of which can be identified with an index or key.\n",
    "\n",
    "##### Stacks\n",
    "A stack is a linear data collection that only allows addition and removal of items in a first in last out order `FIFO`\n",
    "eg. A stack of plates.\n",
    "\n",
    "##### Queue\n",
    "A queue using First In First Out `FIFO`. It is mostly used in handling conjestion in network requests of Job scheduling.\n",
    "\n",
    "##### Linked List\n",
    "This is a linear data structure that includes a series of connected nodes. A node contains the data and memory address of the next node.\n",
    "\n",
    "##### Hash Table (Dictionary)\n",
    "This is an efficient way to store, modify and retrieve data, especially when a large amount of data is involved. It uses a `Key - Value` pair.\n",
    "\n",
    "A hash function takes the key and generates an integer of fixed size which will then be associated with the key. It is used in cryptography and security.\n",
    "\n",
    "\n",
    "### Control Flow.\n",
    "This is the order in which a program executes.\n",
    "- Sequential control flow. Code execution happens in a sequence.\n",
    "- Conditional / Selection . Code is executed when an arbitrary condition is met. `If, If/Else, Switch, Nested If`\n",
    "- Repetition / Loops. Here code executed repeatedly until an certain condition is met. `While, For, Recursion`\n",
    "\n",
    "### Big `O` Notation (`Time Complexity`)\n",
    "It is the longest time it can take a program to perform an operation.\n",
    "\n",
    "##### Constant time complexity `O(1)`\n",
    "It takes the same amount of time for program to execute. eg. Accessing a value with the index in an array.\n",
    "\n",
    "##### Linear time complexity `O(n)`\n",
    "Time increase with input. eg. Inserting a data into a hash table or reading a book with `n` pages.\n",
    "\n",
    "##### Logarithm time complexity `O(log n)`\n",
    "Time increase slowly with input. e.g Binary Search in a sorted array.\n",
    "\n",
    "##### Quadratic time complexity `O(n ^ 2)`\n",
    "This is extremely slow. eg. when accessing a value with a nested array."
   ]
  },
  {
   "cell_type": "code",
   "execution_count": null,
   "metadata": {},
   "outputs": [],
   "source": []
  }
 ],
 "metadata": {
  "language_info": {
   "name": "python"
  }
 },
 "nbformat": 4,
 "nbformat_minor": 2
}
